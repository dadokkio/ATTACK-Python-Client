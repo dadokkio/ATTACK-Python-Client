{
 "cells": [
  {
   "cell_type": "markdown",
   "metadata": {},
   "source": [
    "# Collect All Functions\n",
    "------------------\n",
    "This project comes with functions that collect all STIX objects from all ATT&CK Matrices at once. These functions help collect more with less API call requests."
   ]
  },
  {
   "cell_type": "markdown",
   "metadata": {},
   "source": [
    "## Import ATTACK API Client"
   ]
  },
  {
   "cell_type": "code",
   "execution_count": 1,
   "metadata": {},
   "outputs": [],
   "source": [
    "from attackcti import attack_client"
   ]
  },
  {
   "cell_type": "markdown",
   "metadata": {},
   "source": [
    "## Import Extra Libraries"
   ]
  },
  {
   "cell_type": "code",
   "execution_count": 8,
   "metadata": {},
   "outputs": [],
   "source": [
    "import pandas\n",
    "import json\n",
    "\n",
    "import logging\n",
    "logging.getLogger('taxii2client').setLevel(logging.CRITICAL)"
   ]
  },
  {
   "cell_type": "markdown",
   "metadata": {},
   "source": [
    "## Initialize ATT&CK Client Variable"
   ]
  },
  {
   "cell_type": "code",
   "execution_count": 4,
   "metadata": {},
   "outputs": [],
   "source": [
    "lift = attack_client()"
   ]
  },
  {
   "cell_type": "markdown",
   "metadata": {
    "tags": []
   },
   "source": [
    "## Get All Techniques\n",
    "We can extract all STIX objects of type `attack-pattern` (technique) across all ATT&CK matrices.\n",
    "* By default, this function removes `deprecated` and `revoked` techniques. If you want to keep those techniques in the results, you can run the function with the parameter `skip_revoked_deprecated=False`.\n",
    "* By default, this function also includes all techniques and sub-techniques. If you want to only get techniques that are not sub-techniques, you can run the function with the parameter `include_subtechniques=False`."
   ]
  },
  {
   "cell_type": "code",
   "execution_count": 5,
   "metadata": {},
   "outputs": [],
   "source": [
    "techniques = lift.get_techniques()"
   ]
  },
  {
   "cell_type": "code",
   "execution_count": 6,
   "metadata": {},
   "outputs": [
    {
     "name": "stdout",
     "output_type": "stream",
     "text": [
      "Number of Techniques in ATT&CK\n"
     ]
    },
    {
     "data": {
      "text/plain": [
       "839"
      ]
     },
     "execution_count": 6,
     "metadata": {},
     "output_type": "execute_result"
    }
   ],
   "source": [
    "print(\"Number of Techniques in ATT&CK\")\n",
    "len(techniques)"
   ]
  },
  {
   "cell_type": "markdown",
   "metadata": {},
   "source": [
    "By default, the data returned by the available functions in the attackcti library is of type **stix2**. However, if you want to interact with libraries such as **Pandas**, it needs to be of type **dict**"
   ]
  },
  {
   "cell_type": "code",
   "execution_count": 9,
   "metadata": {},
   "outputs": [
    {
     "data": {
      "text/html": [
       "<div>\n",
       "<style scoped>\n",
       "    .dataframe tbody tr th:only-of-type {\n",
       "        vertical-align: middle;\n",
       "    }\n",
       "\n",
       "    .dataframe tbody tr th {\n",
       "        vertical-align: top;\n",
       "    }\n",
       "\n",
       "    .dataframe thead th {\n",
       "        text-align: right;\n",
       "    }\n",
       "</style>\n",
       "<table border=\"1\" class=\"dataframe\">\n",
       "  <thead>\n",
       "    <tr style=\"text-align: right;\">\n",
       "      <th></th>\n",
       "      <th>created</th>\n",
       "      <th>name</th>\n",
       "      <th>x_mitre_data_sources</th>\n",
       "      <th>x_mitre_platforms</th>\n",
       "    </tr>\n",
       "  </thead>\n",
       "  <tbody>\n",
       "    <tr>\n",
       "      <th>0</th>\n",
       "      <td>2024-03-29T18:07:04.743Z</td>\n",
       "      <td>AutoHotKey &amp; AutoIT</td>\n",
       "      <td>[Process: Process Creation, Command: Command E...</td>\n",
       "      <td>[Windows]</td>\n",
       "    </tr>\n",
       "    <tr>\n",
       "      <th>1</th>\n",
       "      <td>2024-03-29T16:59:10.374Z</td>\n",
       "      <td>File/Path Exclusions</td>\n",
       "      <td>[File: File Creation]</td>\n",
       "      <td>[Linux, macOS, Windows]</td>\n",
       "    </tr>\n",
       "    <tr>\n",
       "      <th>2</th>\n",
       "      <td>2024-03-29T12:38:17.135Z</td>\n",
       "      <td>Encrypted/Encoded File</td>\n",
       "      <td>[File: File Creation, File: File Metadata]</td>\n",
       "      <td>[Linux, macOS, Windows]</td>\n",
       "    </tr>\n",
       "    <tr>\n",
       "      <th>3</th>\n",
       "      <td>2024-03-28T15:36:34.141Z</td>\n",
       "      <td>AppDomainManager</td>\n",
       "      <td>[Module: Module Load, File: File Creation, Pro...</td>\n",
       "      <td>[Windows]</td>\n",
       "    </tr>\n",
       "    <tr>\n",
       "      <th>4</th>\n",
       "      <td>2024-03-28T03:29:35.616Z</td>\n",
       "      <td>Network Devices</td>\n",
       "      <td>[Internet Scan: Response Content]</td>\n",
       "      <td>[PRE]</td>\n",
       "    </tr>\n",
       "  </tbody>\n",
       "</table>\n",
       "</div>"
      ],
      "text/plain": [
       "                    created                    name  \\\n",
       "0  2024-03-29T18:07:04.743Z     AutoHotKey & AutoIT   \n",
       "1  2024-03-29T16:59:10.374Z    File/Path Exclusions   \n",
       "2  2024-03-29T12:38:17.135Z  Encrypted/Encoded File   \n",
       "3  2024-03-28T15:36:34.141Z        AppDomainManager   \n",
       "4  2024-03-28T03:29:35.616Z         Network Devices   \n",
       "\n",
       "                                x_mitre_data_sources        x_mitre_platforms  \n",
       "0  [Process: Process Creation, Command: Command E...                [Windows]  \n",
       "1                              [File: File Creation]  [Linux, macOS, Windows]  \n",
       "2         [File: File Creation, File: File Metadata]  [Linux, macOS, Windows]  \n",
       "3  [Module: Module Load, File: File Creation, Pro...                [Windows]  \n",
       "4                  [Internet Scan: Response Content]                    [PRE]  "
      ]
     },
     "execution_count": 9,
     "metadata": {},
     "output_type": "execute_result"
    }
   ],
   "source": [
    "all_techniques = []\n",
    "for t in techniques:\n",
    "    all_techniques.append(json.loads(t.serialize()))\n",
    "df = pandas.json_normalize(all_techniques)\n",
    "df.reindex(['created','name', 'x_mitre_data_sources', 'x_mitre_platforms'], axis=1)[0:5]"
   ]
  },
  {
   "cell_type": "markdown",
   "metadata": {},
   "source": [
    "We can now access the schema of the dataframe"
   ]
  },
  {
   "cell_type": "code",
   "execution_count": 10,
   "metadata": {},
   "outputs": [
    {
     "data": {
      "text/plain": [
       "['type',\n",
       " 'id',\n",
       " 'created_by_ref',\n",
       " 'created',\n",
       " 'modified',\n",
       " 'name',\n",
       " 'description',\n",
       " 'kill_chain_phases',\n",
       " 'external_references',\n",
       " 'object_marking_refs',\n",
       " 'x_mitre_attack_spec_version',\n",
       " 'x_mitre_contributors',\n",
       " 'x_mitre_data_sources',\n",
       " 'x_mitre_deprecated',\n",
       " 'x_mitre_detection',\n",
       " 'x_mitre_domains',\n",
       " 'x_mitre_is_subtechnique',\n",
       " 'x_mitre_modified_by_ref',\n",
       " 'x_mitre_platforms',\n",
       " 'x_mitre_remote_support',\n",
       " 'x_mitre_version',\n",
       " 'x_mitre_impact_type',\n",
       " 'x_mitre_system_requirements',\n",
       " 'x_mitre_effective_permissions',\n",
       " 'x_mitre_permissions_required',\n",
       " 'x_mitre_defense_bypassed',\n",
       " 'x_mitre_network_requirements',\n",
       " 'x_mitre_tactic_type']"
      ]
     },
     "execution_count": 10,
     "metadata": {},
     "output_type": "execute_result"
    }
   ],
   "source": [
    "list(df)"
   ]
  },
  {
   "cell_type": "markdown",
   "metadata": {},
   "source": [
    "Showing one technique example:"
   ]
  },
  {
   "cell_type": "code",
   "execution_count": 11,
   "metadata": {},
   "outputs": [
    {
     "data": {
      "text/plain": [
       "AttackPattern(type='attack-pattern', id='attack-pattern--3a32740a-11b0-4bcf-b0a9-3abd0f6d3cd5', created_by_ref='identity--c78cb6e5-0c4b-4611-8297-d1b8b55e40b5', created='2024-03-29T18:07:04.743Z', modified='2024-04-10T16:05:22.456Z', name='AutoHotKey & AutoIT', description=\"Adversaries may execute commands and perform malicious tasks using AutoIT and AutoHotKey automation scripts. AutoIT and AutoHotkey (AHK) are scripting languages that enable users to automate Windows tasks. These automation scripts can be used to perform a wide variety of actions, such as clicking on buttons, entering text, and opening and closing programs.(Citation: AutoIT)(Citation: AutoHotKey)\\n\\nAdversaries may use AHK (`.ahk`) and AutoIT (`.au3`) scripts to execute malicious code on a victim's system. For example, adversaries have used for AHK to execute payloads and other modular malware such as keyloggers. Adversaries have also used custom AHK files containing embedded malware as [Phishing](https://attack.mitre.org/techniques/T1566) payloads.(Citation: Splunk DarkGate)\\n\\nThese scripts may also be compiled into self-contained exectuable payloads (`.exe`).(Citation: AutoIT)(Citation: AutoHotKey)\", kill_chain_phases=[KillChainPhase(kill_chain_name='mitre-attack', phase_name='execution')], revoked=False, external_references=[ExternalReference(source_name='mitre-attack', url='https://attack.mitre.org/techniques/T1059/010', external_id='T1059.010'), ExternalReference(source_name='AutoHotKey', description='AutoHotkey Foundation LLC. (n.d.). Using the Program. Retrieved March 29, 2024.', url='https://www.autohotkey.com/docs/v1/Program.htm'), ExternalReference(source_name='AutoIT', description='AutoIT. (n.d.). Running Scripts. Retrieved March 29, 2024.', url='https://www.autoitscript.com/autoit3/docs/intro/running.htm'), ExternalReference(source_name='Splunk DarkGate', description='Splunk Threat Research Team. (2024, January 17). Enter The Gates: An Analysis of the DarkGate AutoIt Loader. Retrieved March 29, 2024.', url='https://www.splunk.com/en_us/blog/security/enter-the-gates-an-analysis-of-the-darkgate-autoit-loader.html')], object_marking_refs=['marking-definition--fa42a846-8d90-4e51-bc29-71d5b4802168'], x_mitre_attack_spec_version='3.2.0', x_mitre_contributors=['TruKno', 'Liran Ravich, CardinalOps', 'Serhii Melnyk, Trustwave SpiderLabs', 'Rahmat Nurfauzi, @infosecn1nja, PT Xynexis International', 'Monty'], x_mitre_data_sources=['Process: Process Creation', 'Command: Command Execution'], x_mitre_deprecated=False, x_mitre_detection='', x_mitre_domains=['enterprise-attack'], x_mitre_is_subtechnique=True, x_mitre_modified_by_ref='identity--c78cb6e5-0c4b-4611-8297-d1b8b55e40b5', x_mitre_platforms=['Windows'], x_mitre_remote_support=False, x_mitre_version='1.0')"
      ]
     },
     "execution_count": 11,
     "metadata": {},
     "output_type": "execute_result"
    }
   ],
   "source": [
    "techniques[0]"
   ]
  },
  {
   "cell_type": "markdown",
   "metadata": {},
   "source": [
    "### Enrich Techniques Data Sources\n",
    "As you might already know, the ATT&CK data model now represents `data sources` as objects. However, when retrieving techniques from ATT&CK TAXII server, their data sources section only includes data sources and data components names. Therefore, we created a parameter that you can use with the `get_techniques()` function to enrich the data sources section of each technique. The parameter `enrich_data_sources` is set to `False` by default."
   ]
  },
  {
   "cell_type": "code",
   "execution_count": 12,
   "metadata": {},
   "outputs": [],
   "source": [
    "techniques = lift.get_techniques(enrich_data_sources=True)"
   ]
  },
  {
   "cell_type": "markdown",
   "metadata": {},
   "source": [
    "This function returns a list of techniques with the `x_mitre_data_sources` attribute as a list of STIX objects representing data sources with their respective data components depending on the technique's detection context."
   ]
  },
  {
   "cell_type": "code",
   "execution_count": 13,
   "metadata": {},
   "outputs": [
    {
     "name": "stdout",
     "output_type": "stream",
     "text": [
      "Command - Command Execution\n",
      "Process - Process Creation\n"
     ]
    }
   ],
   "source": [
    "for ds in techniques[0]['x_mitre_data_sources']:\n",
    "    for dc in ds['data_components']:\n",
    "        print(ds['name'], '-', dc['name'])"
   ]
  },
  {
   "cell_type": "code",
   "execution_count": 14,
   "metadata": {},
   "outputs": [
    {
     "data": {
      "text/plain": [
       "{'modified': '2023-04-20T18:38:00.625Z',\n",
       " 'name': 'Command',\n",
       " 'description': 'A directive given to a computer program, acting as an interpreter of some kind, in order to perform a specific task(Citation: Confluence Linux Command  Line)(Citation: Audit OSX)',\n",
       " 'type': 'x-mitre-data-source',\n",
       " 'id': 'x-mitre-data-source--73691708-ffb5-4e29-906d-f485f6fa7089',\n",
       " 'created': '2021-10-20T15:05:19.273Z',\n",
       " 'created_by_ref': 'identity--c78cb6e5-0c4b-4611-8297-d1b8b55e40b5',\n",
       " 'revoked': False,\n",
       " 'external_references': [{'source_name': 'mitre-attack',\n",
       "   'url': 'https://attack.mitre.org/datasources/DS0017',\n",
       "   'external_id': 'DS0017'},\n",
       "  {'source_name': 'Confluence Linux Command  Line',\n",
       "   'description': 'Confluence Support. (2021, September 8). How to enable command line audit logging in linux. Retrieved September 23, 2021.',\n",
       "   'url': 'https://confluence.atlassian.com/confkb/how-to-enable-command-line-audit-logging-in-linux-956166545.html'},\n",
       "  {'source_name': 'Audit OSX',\n",
       "   'description': 'Gagliardi, R. (n.d.). Audit in a OS X System. Retrieved September 23, 2021.',\n",
       "   'url': 'https://www.scip.ch/en/?labs.20150108'}],\n",
       " 'object_marking_refs': ['marking-definition--fa42a846-8d90-4e51-bc29-71d5b4802168'],\n",
       " 'x_mitre_platforms': ['Containers',\n",
       "  'Linux',\n",
       "  'Network',\n",
       "  'Windows',\n",
       "  'macOS',\n",
       "  'Android',\n",
       "  'iOS'],\n",
       " 'x_mitre_deprecated': False,\n",
       " 'x_mitre_domains': ['enterprise-attack', 'mobile-attack'],\n",
       " 'x_mitre_version': '1.1',\n",
       " 'x_mitre_contributors': ['Center for Threat-Informed Defense (CTID)',\n",
       "  'Austin Clark, @c2defense'],\n",
       " 'x_mitre_collection_layers': ['Container', 'Host'],\n",
       " 'x_mitre_attack_spec_version': '3.1.0',\n",
       " 'x_mitre_modified_by_ref': 'identity--c78cb6e5-0c4b-4611-8297-d1b8b55e40b5',\n",
       " 'data_components': [{'modified': '2022-10-07T16:14:39.124Z',\n",
       "   'name': 'Command Execution',\n",
       "   'description': 'The execution of a line of text, potentially with arguments, created from program code (e.g. a cmdlet executed via powershell.exe, interactive commands like >dir, shell executions, etc. )',\n",
       "   'type': 'x-mitre-data-component',\n",
       "   'id': 'x-mitre-data-component--685f917a-e95e-4ba0-ade1-c7d354dae6e0',\n",
       "   'created': '2021-10-20T15:05:19.273Z',\n",
       "   'created_by_ref': 'identity--c78cb6e5-0c4b-4611-8297-d1b8b55e40b5',\n",
       "   'revoked': False,\n",
       "   'object_marking_refs': ['marking-definition--fa42a846-8d90-4e51-bc29-71d5b4802168'],\n",
       "   'x_mitre_data_source_ref': 'x-mitre-data-source--73691708-ffb5-4e29-906d-f485f6fa7089',\n",
       "   'x_mitre_deprecated': False,\n",
       "   'x_mitre_version': '1.1',\n",
       "   'x_mitre_attack_spec_version': '2.1.0',\n",
       "   'x_mitre_modified_by_ref': 'identity--c78cb6e5-0c4b-4611-8297-d1b8b55e40b5'}]}"
      ]
     },
     "execution_count": 14,
     "metadata": {},
     "output_type": "execute_result"
    }
   ],
   "source": [
    "techniques[0]['x_mitre_data_sources'][0]"
   ]
  },
  {
   "cell_type": "markdown",
   "metadata": {},
   "source": [
    "## Get All Groups\n",
    "We can also extract all the available groups across all ATT&CK matrices at once."
   ]
  },
  {
   "cell_type": "code",
   "execution_count": 15,
   "metadata": {},
   "outputs": [],
   "source": [
    "groups = lift.get_groups()"
   ]
  },
  {
   "cell_type": "code",
   "execution_count": 16,
   "metadata": {},
   "outputs": [
    {
     "name": "stdout",
     "output_type": "stream",
     "text": [
      "Number of Groups in ATT&CK\n"
     ]
    },
    {
     "data": {
      "text/plain": [
       "152"
      ]
     },
     "execution_count": 16,
     "metadata": {},
     "output_type": "execute_result"
    }
   ],
   "source": [
    "print(\"Number of Groups in ATT&CK\")\n",
    "len(groups)"
   ]
  },
  {
   "cell_type": "code",
   "execution_count": 17,
   "metadata": {},
   "outputs": [
    {
     "data": {
      "text/html": [
       "<div>\n",
       "<style scoped>\n",
       "    .dataframe tbody tr th:only-of-type {\n",
       "        vertical-align: middle;\n",
       "    }\n",
       "\n",
       "    .dataframe tbody tr th {\n",
       "        vertical-align: top;\n",
       "    }\n",
       "\n",
       "    .dataframe thead th {\n",
       "        text-align: right;\n",
       "    }\n",
       "</style>\n",
       "<table border=\"1\" class=\"dataframe\">\n",
       "  <thead>\n",
       "    <tr style=\"text-align: right;\">\n",
       "      <th></th>\n",
       "      <th>type</th>\n",
       "      <th>id</th>\n",
       "      <th>created_by_ref</th>\n",
       "      <th>created</th>\n",
       "      <th>modified</th>\n",
       "      <th>name</th>\n",
       "      <th>description</th>\n",
       "      <th>aliases</th>\n",
       "      <th>external_references</th>\n",
       "      <th>object_marking_refs</th>\n",
       "      <th>x_mitre_attack_spec_version</th>\n",
       "      <th>x_mitre_contributors</th>\n",
       "      <th>x_mitre_deprecated</th>\n",
       "      <th>x_mitre_domains</th>\n",
       "      <th>x_mitre_modified_by_ref</th>\n",
       "      <th>x_mitre_version</th>\n",
       "    </tr>\n",
       "  </thead>\n",
       "  <tbody>\n",
       "    <tr>\n",
       "      <th>0</th>\n",
       "      <td>intrusion-set</td>\n",
       "      <td>intrusion-set--8332952e-b86b-486b-acc3-1c2a85d...</td>\n",
       "      <td>identity--c78cb6e5-0c4b-4611-8297-d1b8b55e40b5</td>\n",
       "      <td>2024-03-26T18:38:00.759Z</td>\n",
       "      <td>2024-04-16T15:31:48.747Z</td>\n",
       "      <td>APT-C-23</td>\n",
       "      <td>[APT-C-23](https://attack.mitre.org/groups/G10...</td>\n",
       "      <td>[APT-C-23, Mantis, Arid Viper, Desert Falcon, ...</td>\n",
       "      <td>[{'source_name': 'mitre-attack', 'url': 'https...</td>\n",
       "      <td>[marking-definition--fa42a846-8d90-4e51-bc29-7...</td>\n",
       "      <td>3.2.0</td>\n",
       "      <td>[Sittikorn Sangrattanapitak]</td>\n",
       "      <td>False</td>\n",
       "      <td>[mobile-attack, enterprise-attack]</td>\n",
       "      <td>identity--c78cb6e5-0c4b-4611-8297-d1b8b55e40b5</td>\n",
       "      <td>1.0</td>\n",
       "    </tr>\n",
       "    <tr>\n",
       "      <th>1</th>\n",
       "      <td>intrusion-set</td>\n",
       "      <td>intrusion-set--bf668120-e9a6-4017-a014-bfc0f52...</td>\n",
       "      <td>identity--c78cb6e5-0c4b-4611-8297-d1b8b55e40b5</td>\n",
       "      <td>2024-03-13T20:23:54.698Z</td>\n",
       "      <td>2024-03-29T14:10:35.711Z</td>\n",
       "      <td>Malteiro</td>\n",
       "      <td>[Malteiro](https://attack.mitre.org/groups/G10...</td>\n",
       "      <td>[Malteiro]</td>\n",
       "      <td>[{'source_name': 'mitre-attack', 'url': 'https...</td>\n",
       "      <td>[marking-definition--fa42a846-8d90-4e51-bc29-7...</td>\n",
       "      <td>3.2.0</td>\n",
       "      <td>[Daniel Fernando Soriano Espinosa, SCILabs]</td>\n",
       "      <td>False</td>\n",
       "      <td>[enterprise-attack]</td>\n",
       "      <td>identity--c78cb6e5-0c4b-4611-8297-d1b8b55e40b5</td>\n",
       "      <td>1.0</td>\n",
       "    </tr>\n",
       "    <tr>\n",
       "      <th>2</th>\n",
       "      <td>intrusion-set</td>\n",
       "      <td>intrusion-set--46bb06cb-f2d9-4b37-8c92-a27e224...</td>\n",
       "      <td>identity--c78cb6e5-0c4b-4611-8297-d1b8b55e40b5</td>\n",
       "      <td>2024-02-20T23:59:25.966Z</td>\n",
       "      <td>2024-04-08T17:35:16.134Z</td>\n",
       "      <td>Akira</td>\n",
       "      <td>[Akira](https://attack.mitre.org/groups/G1024)...</td>\n",
       "      <td>[Akira, GOLD SAHARA, PUNK SPIDER]</td>\n",
       "      <td>[{'source_name': 'mitre-attack', 'url': 'https...</td>\n",
       "      <td>[marking-definition--fa42a846-8d90-4e51-bc29-7...</td>\n",
       "      <td>3.2.0</td>\n",
       "      <td>NaN</td>\n",
       "      <td>False</td>\n",
       "      <td>[enterprise-attack]</td>\n",
       "      <td>identity--c78cb6e5-0c4b-4611-8297-d1b8b55e40b5</td>\n",
       "      <td>1.0</td>\n",
       "    </tr>\n",
       "    <tr>\n",
       "      <th>3</th>\n",
       "      <td>intrusion-set</td>\n",
       "      <td>intrusion-set--c1aab4c9-4c34-4f4f-8541-d529e46...</td>\n",
       "      <td>identity--c78cb6e5-0c4b-4611-8297-d1b8b55e40b5</td>\n",
       "      <td>2024-02-05T19:27:35.655Z</td>\n",
       "      <td>2024-03-14T18:53:21.577Z</td>\n",
       "      <td>APT5</td>\n",
       "      <td>[APT5](https://attack.mitre.org/groups/G1023) ...</td>\n",
       "      <td>[APT5, Mulberry Typhoon, MANGANESE, BRONZE FLE...</td>\n",
       "      <td>[{'source_name': 'mitre-attack', 'url': 'https...</td>\n",
       "      <td>[marking-definition--fa42a846-8d90-4e51-bc29-7...</td>\n",
       "      <td>3.2.0</td>\n",
       "      <td>[@_montysecurity]</td>\n",
       "      <td>False</td>\n",
       "      <td>[enterprise-attack]</td>\n",
       "      <td>identity--c78cb6e5-0c4b-4611-8297-d1b8b55e40b5</td>\n",
       "      <td>1.0</td>\n",
       "    </tr>\n",
       "  </tbody>\n",
       "</table>\n",
       "</div>"
      ],
      "text/plain": [
       "            type                                                 id  \\\n",
       "0  intrusion-set  intrusion-set--8332952e-b86b-486b-acc3-1c2a85d...   \n",
       "1  intrusion-set  intrusion-set--bf668120-e9a6-4017-a014-bfc0f52...   \n",
       "2  intrusion-set  intrusion-set--46bb06cb-f2d9-4b37-8c92-a27e224...   \n",
       "3  intrusion-set  intrusion-set--c1aab4c9-4c34-4f4f-8541-d529e46...   \n",
       "\n",
       "                                   created_by_ref                   created  \\\n",
       "0  identity--c78cb6e5-0c4b-4611-8297-d1b8b55e40b5  2024-03-26T18:38:00.759Z   \n",
       "1  identity--c78cb6e5-0c4b-4611-8297-d1b8b55e40b5  2024-03-13T20:23:54.698Z   \n",
       "2  identity--c78cb6e5-0c4b-4611-8297-d1b8b55e40b5  2024-02-20T23:59:25.966Z   \n",
       "3  identity--c78cb6e5-0c4b-4611-8297-d1b8b55e40b5  2024-02-05T19:27:35.655Z   \n",
       "\n",
       "                   modified      name  \\\n",
       "0  2024-04-16T15:31:48.747Z  APT-C-23   \n",
       "1  2024-03-29T14:10:35.711Z  Malteiro   \n",
       "2  2024-04-08T17:35:16.134Z     Akira   \n",
       "3  2024-03-14T18:53:21.577Z      APT5   \n",
       "\n",
       "                                         description  \\\n",
       "0  [APT-C-23](https://attack.mitre.org/groups/G10...   \n",
       "1  [Malteiro](https://attack.mitre.org/groups/G10...   \n",
       "2  [Akira](https://attack.mitre.org/groups/G1024)...   \n",
       "3  [APT5](https://attack.mitre.org/groups/G1023) ...   \n",
       "\n",
       "                                             aliases  \\\n",
       "0  [APT-C-23, Mantis, Arid Viper, Desert Falcon, ...   \n",
       "1                                         [Malteiro]   \n",
       "2                  [Akira, GOLD SAHARA, PUNK SPIDER]   \n",
       "3  [APT5, Mulberry Typhoon, MANGANESE, BRONZE FLE...   \n",
       "\n",
       "                                 external_references  \\\n",
       "0  [{'source_name': 'mitre-attack', 'url': 'https...   \n",
       "1  [{'source_name': 'mitre-attack', 'url': 'https...   \n",
       "2  [{'source_name': 'mitre-attack', 'url': 'https...   \n",
       "3  [{'source_name': 'mitre-attack', 'url': 'https...   \n",
       "\n",
       "                                 object_marking_refs  \\\n",
       "0  [marking-definition--fa42a846-8d90-4e51-bc29-7...   \n",
       "1  [marking-definition--fa42a846-8d90-4e51-bc29-7...   \n",
       "2  [marking-definition--fa42a846-8d90-4e51-bc29-7...   \n",
       "3  [marking-definition--fa42a846-8d90-4e51-bc29-7...   \n",
       "\n",
       "  x_mitre_attack_spec_version                         x_mitre_contributors  \\\n",
       "0                       3.2.0                 [Sittikorn Sangrattanapitak]   \n",
       "1                       3.2.0  [Daniel Fernando Soriano Espinosa, SCILabs]   \n",
       "2                       3.2.0                                          NaN   \n",
       "3                       3.2.0                            [@_montysecurity]   \n",
       "\n",
       "  x_mitre_deprecated                     x_mitre_domains  \\\n",
       "0              False  [mobile-attack, enterprise-attack]   \n",
       "1              False                 [enterprise-attack]   \n",
       "2              False                 [enterprise-attack]   \n",
       "3              False                 [enterprise-attack]   \n",
       "\n",
       "                          x_mitre_modified_by_ref x_mitre_version  \n",
       "0  identity--c78cb6e5-0c4b-4611-8297-d1b8b55e40b5             1.0  \n",
       "1  identity--c78cb6e5-0c4b-4611-8297-d1b8b55e40b5             1.0  \n",
       "2  identity--c78cb6e5-0c4b-4611-8297-d1b8b55e40b5             1.0  \n",
       "3  identity--c78cb6e5-0c4b-4611-8297-d1b8b55e40b5             1.0  "
      ]
     },
     "execution_count": 17,
     "metadata": {},
     "output_type": "execute_result"
    }
   ],
   "source": [
    "groups_list = []\n",
    "for t in groups:\n",
    "    groups_list.append(json.loads(t.serialize()))\n",
    "df = pandas.json_normalize(groups_list)\n",
    "df[0:4]"
   ]
  },
  {
   "cell_type": "markdown",
   "metadata": {},
   "source": [
    "## Get All Software\n",
    "We can extract all Enterprise, Mobile and ICS (Software Malware & Tools)"
   ]
  },
  {
   "cell_type": "code",
   "execution_count": 18,
   "metadata": {},
   "outputs": [],
   "source": [
    "software = lift.get_software()"
   ]
  },
  {
   "cell_type": "code",
   "execution_count": 19,
   "metadata": {},
   "outputs": [
    {
     "name": "stdout",
     "output_type": "stream",
     "text": [
      "Number of Software in ATT&CK\n"
     ]
    },
    {
     "data": {
      "text/plain": [
       "794"
      ]
     },
     "execution_count": 19,
     "metadata": {},
     "output_type": "execute_result"
    }
   ],
   "source": [
    "print(\"Number of Software in ATT&CK\")\n",
    "len(software)"
   ]
  },
  {
   "cell_type": "code",
   "execution_count": 21,
   "metadata": {},
   "outputs": [
    {
     "data": {
      "text/html": [
       "<div>\n",
       "<style scoped>\n",
       "    .dataframe tbody tr th:only-of-type {\n",
       "        vertical-align: middle;\n",
       "    }\n",
       "\n",
       "    .dataframe tbody tr th {\n",
       "        vertical-align: top;\n",
       "    }\n",
       "\n",
       "    .dataframe thead th {\n",
       "        text-align: right;\n",
       "    }\n",
       "</style>\n",
       "<table border=\"1\" class=\"dataframe\">\n",
       "  <thead>\n",
       "    <tr style=\"text-align: right;\">\n",
       "      <th></th>\n",
       "      <th>type</th>\n",
       "      <th>id</th>\n",
       "      <th>created_by_ref</th>\n",
       "      <th>created</th>\n",
       "      <th>modified</th>\n",
       "      <th>name</th>\n",
       "      <th>description</th>\n",
       "      <th>labels</th>\n",
       "      <th>external_references</th>\n",
       "      <th>object_marking_refs</th>\n",
       "      <th>x_mitre_aliases</th>\n",
       "      <th>x_mitre_attack_spec_version</th>\n",
       "      <th>x_mitre_contributors</th>\n",
       "      <th>x_mitre_deprecated</th>\n",
       "      <th>x_mitre_domains</th>\n",
       "      <th>x_mitre_modified_by_ref</th>\n",
       "      <th>x_mitre_platforms</th>\n",
       "      <th>x_mitre_version</th>\n",
       "    </tr>\n",
       "  </thead>\n",
       "  <tbody>\n",
       "    <tr>\n",
       "      <th>0</th>\n",
       "      <td>tool</td>\n",
       "      <td>tool--1b3b8f96-43b1-4460-8e02-1f53d7802fb9</td>\n",
       "      <td>identity--c78cb6e5-0c4b-4611-8297-d1b8b55e40b5</td>\n",
       "      <td>2023-09-28T13:21:49.652Z</td>\n",
       "      <td>2023-10-19T12:18:43.123Z</td>\n",
       "      <td>Pacu</td>\n",
       "      <td>Pacu is an open-source AWS exploitation framew...</td>\n",
       "      <td>[tool]</td>\n",
       "      <td>[{'source_name': 'mitre-attack', 'url': 'https...</td>\n",
       "      <td>[marking-definition--fa42a846-8d90-4e51-bc29-7...</td>\n",
       "      <td>[Pacu]</td>\n",
       "      <td>3.2.0</td>\n",
       "      <td>[Thanabodi Phrakhun, @naikordian]</td>\n",
       "      <td>False</td>\n",
       "      <td>[enterprise-attack]</td>\n",
       "      <td>identity--c78cb6e5-0c4b-4611-8297-d1b8b55e40b5</td>\n",
       "      <td>[IaaS]</td>\n",
       "      <td>1.0</td>\n",
       "    </tr>\n",
       "    <tr>\n",
       "      <th>1</th>\n",
       "      <td>tool</td>\n",
       "      <td>tool--6a5947f3-1a36-4653-8734-526df3e1d28d</td>\n",
       "      <td>identity--c78cb6e5-0c4b-4611-8297-d1b8b55e40b5</td>\n",
       "      <td>2023-09-20T17:32:59.932Z</td>\n",
       "      <td>2023-10-10T17:19:12.868Z</td>\n",
       "      <td>AsyncRAT</td>\n",
       "      <td>[AsyncRAT](https://attack.mitre.org/software/S...</td>\n",
       "      <td>[tool]</td>\n",
       "      <td>[{'source_name': 'mitre-attack', 'url': 'https...</td>\n",
       "      <td>[marking-definition--fa42a846-8d90-4e51-bc29-7...</td>\n",
       "      <td>[AsyncRAT]</td>\n",
       "      <td>3.2.0</td>\n",
       "      <td>[Aaron Jornet]</td>\n",
       "      <td>False</td>\n",
       "      <td>[enterprise-attack]</td>\n",
       "      <td>identity--c78cb6e5-0c4b-4611-8297-d1b8b55e40b5</td>\n",
       "      <td>[Windows]</td>\n",
       "      <td>1.0</td>\n",
       "    </tr>\n",
       "    <tr>\n",
       "      <th>2</th>\n",
       "      <td>tool</td>\n",
       "      <td>tool--2f7f03bb-f367-4a5a-ad9b-310a12a48906</td>\n",
       "      <td>identity--c78cb6e5-0c4b-4611-8297-d1b8b55e40b5</td>\n",
       "      <td>2023-09-14T18:56:34.771Z</td>\n",
       "      <td>2023-09-25T18:54:49.773Z</td>\n",
       "      <td>ngrok</td>\n",
       "      <td>[ngrok](https://attack.mitre.org/software/S050...</td>\n",
       "      <td>[tool]</td>\n",
       "      <td>[{'source_name': 'mitre-attack', 'url': 'https...</td>\n",
       "      <td>[marking-definition--fa42a846-8d90-4e51-bc29-7...</td>\n",
       "      <td>[ngrok]</td>\n",
       "      <td>3.1.0</td>\n",
       "      <td>[Janantha Marasinghe]</td>\n",
       "      <td>False</td>\n",
       "      <td>[enterprise-attack]</td>\n",
       "      <td>identity--c78cb6e5-0c4b-4611-8297-d1b8b55e40b5</td>\n",
       "      <td>[Windows]</td>\n",
       "      <td>1.2</td>\n",
       "    </tr>\n",
       "    <tr>\n",
       "      <th>3</th>\n",
       "      <td>tool</td>\n",
       "      <td>tool--e33267fe-099f-4af2-8730-63d49f8813b2</td>\n",
       "      <td>identity--c78cb6e5-0c4b-4611-8297-d1b8b55e40b5</td>\n",
       "      <td>2023-03-29T20:19:26.940Z</td>\n",
       "      <td>2023-08-03T18:30:05.885Z</td>\n",
       "      <td>Rubeus</td>\n",
       "      <td>[Rubeus](https://attack.mitre.org/software/S10...</td>\n",
       "      <td>[tool]</td>\n",
       "      <td>[{'source_name': 'mitre-attack', 'url': 'https...</td>\n",
       "      <td>[marking-definition--fa42a846-8d90-4e51-bc29-7...</td>\n",
       "      <td>[Rubeus]</td>\n",
       "      <td>3.1.0</td>\n",
       "      <td>[Mayuresh Dani, Qualys, Akshat Pradhan, Qualys]</td>\n",
       "      <td>False</td>\n",
       "      <td>[enterprise-attack]</td>\n",
       "      <td>identity--c78cb6e5-0c4b-4611-8297-d1b8b55e40b5</td>\n",
       "      <td>[Windows]</td>\n",
       "      <td>1.1</td>\n",
       "    </tr>\n",
       "  </tbody>\n",
       "</table>\n",
       "</div>"
      ],
      "text/plain": [
       "   type                                          id  \\\n",
       "0  tool  tool--1b3b8f96-43b1-4460-8e02-1f53d7802fb9   \n",
       "1  tool  tool--6a5947f3-1a36-4653-8734-526df3e1d28d   \n",
       "2  tool  tool--2f7f03bb-f367-4a5a-ad9b-310a12a48906   \n",
       "3  tool  tool--e33267fe-099f-4af2-8730-63d49f8813b2   \n",
       "\n",
       "                                   created_by_ref                   created  \\\n",
       "0  identity--c78cb6e5-0c4b-4611-8297-d1b8b55e40b5  2023-09-28T13:21:49.652Z   \n",
       "1  identity--c78cb6e5-0c4b-4611-8297-d1b8b55e40b5  2023-09-20T17:32:59.932Z   \n",
       "2  identity--c78cb6e5-0c4b-4611-8297-d1b8b55e40b5  2023-09-14T18:56:34.771Z   \n",
       "3  identity--c78cb6e5-0c4b-4611-8297-d1b8b55e40b5  2023-03-29T20:19:26.940Z   \n",
       "\n",
       "                   modified      name  \\\n",
       "0  2023-10-19T12:18:43.123Z      Pacu   \n",
       "1  2023-10-10T17:19:12.868Z  AsyncRAT   \n",
       "2  2023-09-25T18:54:49.773Z     ngrok   \n",
       "3  2023-08-03T18:30:05.885Z    Rubeus   \n",
       "\n",
       "                                         description  labels  \\\n",
       "0  Pacu is an open-source AWS exploitation framew...  [tool]   \n",
       "1  [AsyncRAT](https://attack.mitre.org/software/S...  [tool]   \n",
       "2  [ngrok](https://attack.mitre.org/software/S050...  [tool]   \n",
       "3  [Rubeus](https://attack.mitre.org/software/S10...  [tool]   \n",
       "\n",
       "                                 external_references  \\\n",
       "0  [{'source_name': 'mitre-attack', 'url': 'https...   \n",
       "1  [{'source_name': 'mitre-attack', 'url': 'https...   \n",
       "2  [{'source_name': 'mitre-attack', 'url': 'https...   \n",
       "3  [{'source_name': 'mitre-attack', 'url': 'https...   \n",
       "\n",
       "                                 object_marking_refs x_mitre_aliases  \\\n",
       "0  [marking-definition--fa42a846-8d90-4e51-bc29-7...          [Pacu]   \n",
       "1  [marking-definition--fa42a846-8d90-4e51-bc29-7...      [AsyncRAT]   \n",
       "2  [marking-definition--fa42a846-8d90-4e51-bc29-7...         [ngrok]   \n",
       "3  [marking-definition--fa42a846-8d90-4e51-bc29-7...        [Rubeus]   \n",
       "\n",
       "  x_mitre_attack_spec_version  \\\n",
       "0                       3.2.0   \n",
       "1                       3.2.0   \n",
       "2                       3.1.0   \n",
       "3                       3.1.0   \n",
       "\n",
       "                              x_mitre_contributors x_mitre_deprecated  \\\n",
       "0                [Thanabodi Phrakhun, @naikordian]              False   \n",
       "1                                   [Aaron Jornet]              False   \n",
       "2                            [Janantha Marasinghe]              False   \n",
       "3  [Mayuresh Dani, Qualys, Akshat Pradhan, Qualys]              False   \n",
       "\n",
       "       x_mitre_domains                         x_mitre_modified_by_ref  \\\n",
       "0  [enterprise-attack]  identity--c78cb6e5-0c4b-4611-8297-d1b8b55e40b5   \n",
       "1  [enterprise-attack]  identity--c78cb6e5-0c4b-4611-8297-d1b8b55e40b5   \n",
       "2  [enterprise-attack]  identity--c78cb6e5-0c4b-4611-8297-d1b8b55e40b5   \n",
       "3  [enterprise-attack]  identity--c78cb6e5-0c4b-4611-8297-d1b8b55e40b5   \n",
       "\n",
       "  x_mitre_platforms x_mitre_version  \n",
       "0            [IaaS]             1.0  \n",
       "1         [Windows]             1.0  \n",
       "2         [Windows]             1.2  \n",
       "3         [Windows]             1.1  "
      ]
     },
     "execution_count": 21,
     "metadata": {},
     "output_type": "execute_result"
    }
   ],
   "source": [
    "software_list = []\n",
    "for t in software:\n",
    "    software_list.append(json.loads(t.serialize()))\n",
    "df = pandas.json_normalize(software_list)\n",
    "df[0:4]"
   ]
  },
  {
   "cell_type": "markdown",
   "metadata": {},
   "source": [
    "## Get All Relationships\n",
    "We can also get all relationships from all ATT&CK matrices with one API request."
   ]
  },
  {
   "cell_type": "code",
   "execution_count": 22,
   "metadata": {},
   "outputs": [],
   "source": [
    "relationships = lift.get_relationships()"
   ]
  },
  {
   "cell_type": "code",
   "execution_count": 23,
   "metadata": {},
   "outputs": [
    {
     "name": "stdout",
     "output_type": "stream",
     "text": [
      "Number of Relationships in ATT&CK\n"
     ]
    },
    {
     "data": {
      "text/plain": [
       "20868"
      ]
     },
     "execution_count": 23,
     "metadata": {},
     "output_type": "execute_result"
    }
   ],
   "source": [
    "print(\"Number of Relationships in ATT&CK\")\n",
    "len(relationships)"
   ]
  },
  {
   "cell_type": "code",
   "execution_count": 24,
   "metadata": {},
   "outputs": [
    {
     "data": {
      "text/html": [
       "<div>\n",
       "<style scoped>\n",
       "    .dataframe tbody tr th:only-of-type {\n",
       "        vertical-align: middle;\n",
       "    }\n",
       "\n",
       "    .dataframe tbody tr th {\n",
       "        vertical-align: top;\n",
       "    }\n",
       "\n",
       "    .dataframe thead th {\n",
       "        text-align: right;\n",
       "    }\n",
       "</style>\n",
       "<table border=\"1\" class=\"dataframe\">\n",
       "  <thead>\n",
       "    <tr style=\"text-align: right;\">\n",
       "      <th></th>\n",
       "      <th>type</th>\n",
       "      <th>id</th>\n",
       "      <th>created_by_ref</th>\n",
       "      <th>created</th>\n",
       "      <th>modified</th>\n",
       "      <th>relationship_type</th>\n",
       "      <th>description</th>\n",
       "      <th>source_ref</th>\n",
       "      <th>target_ref</th>\n",
       "      <th>external_references</th>\n",
       "      <th>object_marking_refs</th>\n",
       "      <th>x_mitre_attack_spec_version</th>\n",
       "      <th>x_mitre_deprecated</th>\n",
       "      <th>x_mitre_modified_by_ref</th>\n",
       "      <th>x_mitre_version</th>\n",
       "    </tr>\n",
       "  </thead>\n",
       "  <tbody>\n",
       "    <tr>\n",
       "      <th>0</th>\n",
       "      <td>relationship</td>\n",
       "      <td>relationship--dbec2814-4a92-4ab7-a007-123b40b1...</td>\n",
       "      <td>identity--c78cb6e5-0c4b-4611-8297-d1b8b55e40b5</td>\n",
       "      <td>2024-04-18T15:25:34.867Z</td>\n",
       "      <td>2024-04-18T15:31:12.348Z</td>\n",
       "      <td>uses</td>\n",
       "      <td>During [C0027](https://attack.mitre.org/campai...</td>\n",
       "      <td>intrusion-set--44d37b89-a739-4810-9111-0d2617a...</td>\n",
       "      <td>attack-pattern--6a5d222a-a7e0-4656-b110-782c33...</td>\n",
       "      <td>[{'source_name': 'MSTIC Octo Tempest Operation...</td>\n",
       "      <td>[marking-definition--fa42a846-8d90-4e51-bc29-7...</td>\n",
       "      <td>3.2.0</td>\n",
       "      <td>False</td>\n",
       "      <td>identity--c78cb6e5-0c4b-4611-8297-d1b8b55e40b5</td>\n",
       "      <td>0.1</td>\n",
       "    </tr>\n",
       "    <tr>\n",
       "      <th>1</th>\n",
       "      <td>relationship</td>\n",
       "      <td>relationship--f70697d6-11d6-4f1d-81ab-65bbe0d4...</td>\n",
       "      <td>identity--c78cb6e5-0c4b-4611-8297-d1b8b55e40b5</td>\n",
       "      <td>2024-04-18T15:11:02.249Z</td>\n",
       "      <td>2024-04-18T18:48:56.566Z</td>\n",
       "      <td>uses</td>\n",
       "      <td>[Malteiro](https://attack.mitre.org/groups/G10...</td>\n",
       "      <td>intrusion-set--bf668120-e9a6-4017-a014-bfc0f52...</td>\n",
       "      <td>attack-pattern--c1b68a96-3c48-49ea-a6c0-9b2735...</td>\n",
       "      <td>[{'source_name': 'SCILabs Malteiro 2021', 'des...</td>\n",
       "      <td>[marking-definition--fa42a846-8d90-4e51-bc29-7...</td>\n",
       "      <td>3.2.0</td>\n",
       "      <td>False</td>\n",
       "      <td>identity--c78cb6e5-0c4b-4611-8297-d1b8b55e40b5</td>\n",
       "      <td>0.1</td>\n",
       "    </tr>\n",
       "    <tr>\n",
       "      <th>2</th>\n",
       "      <td>relationship</td>\n",
       "      <td>relationship--722ffa83-29e2-48bb-a7c1-1cb52fb4...</td>\n",
       "      <td>identity--c78cb6e5-0c4b-4611-8297-d1b8b55e40b5</td>\n",
       "      <td>2024-04-18T15:01:22.779Z</td>\n",
       "      <td>2024-04-18T15:01:22.779Z</td>\n",
       "      <td>uses</td>\n",
       "      <td>[Mispadu](https://attack.mitre.org/software/S1...</td>\n",
       "      <td>malware--4e6464d2-69df-4e56-8d4c-1973f84d7b80</td>\n",
       "      <td>attack-pattern--43e7dc91-05b2-474c-b9ac-2ed4fe...</td>\n",
       "      <td>[{'source_name': 'Segurança Informática URSA S...</td>\n",
       "      <td>[marking-definition--fa42a846-8d90-4e51-bc29-7...</td>\n",
       "      <td>3.2.0</td>\n",
       "      <td>False</td>\n",
       "      <td>identity--c78cb6e5-0c4b-4611-8297-d1b8b55e40b5</td>\n",
       "      <td>0.1</td>\n",
       "    </tr>\n",
       "    <tr>\n",
       "      <th>3</th>\n",
       "      <td>relationship</td>\n",
       "      <td>relationship--5b920225-ef1a-49f1-be65-1baa948d...</td>\n",
       "      <td>identity--c78cb6e5-0c4b-4611-8297-d1b8b55e40b5</td>\n",
       "      <td>2024-04-18T14:14:59.504Z</td>\n",
       "      <td>2024-04-18T14:14:59.504Z</td>\n",
       "      <td>uses</td>\n",
       "      <td>[Malteiro](https://attack.mitre.org/groups/G10...</td>\n",
       "      <td>intrusion-set--bf668120-e9a6-4017-a014-bfc0f52...</td>\n",
       "      <td>attack-pattern--851e071f-208d-4c79-adc6-5974c8...</td>\n",
       "      <td>[{'source_name': 'SCILabs Malteiro 2021', 'des...</td>\n",
       "      <td>[marking-definition--fa42a846-8d90-4e51-bc29-7...</td>\n",
       "      <td>3.2.0</td>\n",
       "      <td>False</td>\n",
       "      <td>identity--c78cb6e5-0c4b-4611-8297-d1b8b55e40b5</td>\n",
       "      <td>0.1</td>\n",
       "    </tr>\n",
       "  </tbody>\n",
       "</table>\n",
       "</div>"
      ],
      "text/plain": [
       "           type                                                 id  \\\n",
       "0  relationship  relationship--dbec2814-4a92-4ab7-a007-123b40b1...   \n",
       "1  relationship  relationship--f70697d6-11d6-4f1d-81ab-65bbe0d4...   \n",
       "2  relationship  relationship--722ffa83-29e2-48bb-a7c1-1cb52fb4...   \n",
       "3  relationship  relationship--5b920225-ef1a-49f1-be65-1baa948d...   \n",
       "\n",
       "                                   created_by_ref                   created  \\\n",
       "0  identity--c78cb6e5-0c4b-4611-8297-d1b8b55e40b5  2024-04-18T15:25:34.867Z   \n",
       "1  identity--c78cb6e5-0c4b-4611-8297-d1b8b55e40b5  2024-04-18T15:11:02.249Z   \n",
       "2  identity--c78cb6e5-0c4b-4611-8297-d1b8b55e40b5  2024-04-18T15:01:22.779Z   \n",
       "3  identity--c78cb6e5-0c4b-4611-8297-d1b8b55e40b5  2024-04-18T14:14:59.504Z   \n",
       "\n",
       "                   modified relationship_type  \\\n",
       "0  2024-04-18T15:31:12.348Z              uses   \n",
       "1  2024-04-18T18:48:56.566Z              uses   \n",
       "2  2024-04-18T15:01:22.779Z              uses   \n",
       "3  2024-04-18T14:14:59.504Z              uses   \n",
       "\n",
       "                                         description  \\\n",
       "0  During [C0027](https://attack.mitre.org/campai...   \n",
       "1  [Malteiro](https://attack.mitre.org/groups/G10...   \n",
       "2  [Mispadu](https://attack.mitre.org/software/S1...   \n",
       "3  [Malteiro](https://attack.mitre.org/groups/G10...   \n",
       "\n",
       "                                          source_ref  \\\n",
       "0  intrusion-set--44d37b89-a739-4810-9111-0d2617a...   \n",
       "1  intrusion-set--bf668120-e9a6-4017-a014-bfc0f52...   \n",
       "2      malware--4e6464d2-69df-4e56-8d4c-1973f84d7b80   \n",
       "3  intrusion-set--bf668120-e9a6-4017-a014-bfc0f52...   \n",
       "\n",
       "                                          target_ref  \\\n",
       "0  attack-pattern--6a5d222a-a7e0-4656-b110-782c33...   \n",
       "1  attack-pattern--c1b68a96-3c48-49ea-a6c0-9b2735...   \n",
       "2  attack-pattern--43e7dc91-05b2-474c-b9ac-2ed4fe...   \n",
       "3  attack-pattern--851e071f-208d-4c79-adc6-5974c8...   \n",
       "\n",
       "                                 external_references  \\\n",
       "0  [{'source_name': 'MSTIC Octo Tempest Operation...   \n",
       "1  [{'source_name': 'SCILabs Malteiro 2021', 'des...   \n",
       "2  [{'source_name': 'Segurança Informática URSA S...   \n",
       "3  [{'source_name': 'SCILabs Malteiro 2021', 'des...   \n",
       "\n",
       "                                 object_marking_refs  \\\n",
       "0  [marking-definition--fa42a846-8d90-4e51-bc29-7...   \n",
       "1  [marking-definition--fa42a846-8d90-4e51-bc29-7...   \n",
       "2  [marking-definition--fa42a846-8d90-4e51-bc29-7...   \n",
       "3  [marking-definition--fa42a846-8d90-4e51-bc29-7...   \n",
       "\n",
       "  x_mitre_attack_spec_version x_mitre_deprecated  \\\n",
       "0                       3.2.0              False   \n",
       "1                       3.2.0              False   \n",
       "2                       3.2.0              False   \n",
       "3                       3.2.0              False   \n",
       "\n",
       "                          x_mitre_modified_by_ref x_mitre_version  \n",
       "0  identity--c78cb6e5-0c4b-4611-8297-d1b8b55e40b5             0.1  \n",
       "1  identity--c78cb6e5-0c4b-4611-8297-d1b8b55e40b5             0.1  \n",
       "2  identity--c78cb6e5-0c4b-4611-8297-d1b8b55e40b5             0.1  \n",
       "3  identity--c78cb6e5-0c4b-4611-8297-d1b8b55e40b5             0.1  "
      ]
     },
     "execution_count": 24,
     "metadata": {},
     "output_type": "execute_result"
    }
   ],
   "source": [
    "relations_list = []\n",
    "for t in relationships:\n",
    "    relations_list.append(json.loads(t.serialize()))\n",
    "df = pandas.json_normalize(relations_list)\n",
    "df[0:4]"
   ]
  },
  {
   "cell_type": "markdown",
   "metadata": {},
   "source": [
    "## Get All Data Sources\n",
    "Now that `data sources` are part of the ATT&CK data model as objects, we can retrieve all that information at once."
   ]
  },
  {
   "cell_type": "code",
   "execution_count": 25,
   "metadata": {},
   "outputs": [],
   "source": [
    "data_sources = lift.get_data_sources()"
   ]
  },
  {
   "cell_type": "code",
   "execution_count": 26,
   "metadata": {},
   "outputs": [
    {
     "name": "stdout",
     "output_type": "stream",
     "text": [
      "Number of Data Sources in ATT&CK\n"
     ]
    },
    {
     "data": {
      "text/plain": [
       "42"
      ]
     },
     "execution_count": 26,
     "metadata": {},
     "output_type": "execute_result"
    }
   ],
   "source": [
    "print(\"Number of Data Sources in ATT&CK\")\n",
    "len(data_sources)"
   ]
  },
  {
   "cell_type": "code",
   "execution_count": 27,
   "metadata": {},
   "outputs": [
    {
     "data": {
      "text/plain": [
       "{'object_marking_refs': ['marking-definition--fa42a846-8d90-4e51-bc29-71d5b4802168'],\n",
       " 'id': 'x-mitre-data-source--38fe306c-bdec-4f3d-8521-b72dd32dbd17',\n",
       " 'type': 'x-mitre-data-source',\n",
       " 'created': '2021-10-20T15:05:19.275Z',\n",
       " 'created_by_ref': 'identity--c78cb6e5-0c4b-4611-8297-d1b8b55e40b5',\n",
       " 'external_references': [{'source_name': 'mitre-attack',\n",
       "   'url': 'https://attack.mitre.org/datasources/DS0035',\n",
       "   'external_id': 'DS0035'}],\n",
       " 'modified': '2021-10-20T15:05:19.275Z',\n",
       " 'name': 'Internet Scan',\n",
       " 'description': 'Information obtained (commonly via active network traffic probes or web crawling) regarding various types of resources and servers connected to the public Internet',\n",
       " 'x_mitre_platforms': ['PRE'],\n",
       " 'x_mitre_domains': ['enterprise-attack'],\n",
       " 'x_mitre_collection_layers': ['OSINT'],\n",
       " 'x_mitre_version': '1.0',\n",
       " 'x_mitre_attack_spec_version': '2.1.0',\n",
       " 'x_mitre_modified_by_ref': 'identity--c78cb6e5-0c4b-4611-8297-d1b8b55e40b5'}"
      ]
     },
     "execution_count": 27,
     "metadata": {},
     "output_type": "execute_result"
    }
   ],
   "source": [
    "data_sources[0]"
   ]
  },
  {
   "cell_type": "markdown",
   "metadata": {},
   "source": [
    "## Get All Data Components\n",
    "Now that `data components` are also part of the ATT&CK data model as objects, we can retrieve all that information at once."
   ]
  },
  {
   "cell_type": "code",
   "execution_count": 28,
   "metadata": {},
   "outputs": [],
   "source": [
    "data_components = lift.get_data_components()"
   ]
  },
  {
   "cell_type": "code",
   "execution_count": 29,
   "metadata": {},
   "outputs": [
    {
     "name": "stdout",
     "output_type": "stream",
     "text": [
      "Number of data components in ATT&CK\n"
     ]
    },
    {
     "data": {
      "text/plain": [
       "119"
      ]
     },
     "execution_count": 29,
     "metadata": {},
     "output_type": "execute_result"
    }
   ],
   "source": [
    "print(\"Number of data components in ATT&CK\")\n",
    "len(data_components)"
   ]
  },
  {
   "cell_type": "code",
   "execution_count": 30,
   "metadata": {},
   "outputs": [
    {
     "data": {
      "text/plain": [
       "{'object_marking_refs': ['marking-definition--fa42a846-8d90-4e51-bc29-71d5b4802168'],\n",
       " 'id': 'x-mitre-data-component--1067aa74-5796-4d9b-b4f1-a4c9eb6fd9da',\n",
       " 'type': 'x-mitre-data-component',\n",
       " 'created': '2021-10-20T15:05:19.275Z',\n",
       " 'created_by_ref': 'identity--c78cb6e5-0c4b-4611-8297-d1b8b55e40b5',\n",
       " 'modified': '2021-10-20T15:05:19.275Z',\n",
       " 'name': 'Response Metadata',\n",
       " 'description': 'Contextual data about an Internet-facing resource gathered from a scan, such as running services or ports',\n",
       " 'x_mitre_data_source_ref': 'x-mitre-data-source--38fe306c-bdec-4f3d-8521-b72dd32dbd17',\n",
       " 'x_mitre_version': '1.0',\n",
       " 'x_mitre_attack_spec_version': '2.1.0',\n",
       " 'x_mitre_modified_by_ref': 'identity--c78cb6e5-0c4b-4611-8297-d1b8b55e40b5'}"
      ]
     },
     "execution_count": 30,
     "metadata": {},
     "output_type": "execute_result"
    }
   ],
   "source": [
    "data_components[0]"
   ]
  }
 ],
 "metadata": {
  "kernelspec": {
   "display_name": "Python 3",
   "language": "python",
   "name": "python3"
  },
  "language_info": {
   "codemirror_mode": {
    "name": "ipython",
    "version": 3
   },
   "file_extension": ".py",
   "mimetype": "text/x-python",
   "name": "python",
   "nbconvert_exporter": "python",
   "pygments_lexer": "ipython3",
   "version": "3.12.1"
  }
 },
 "nbformat": 4,
 "nbformat_minor": 4
}
