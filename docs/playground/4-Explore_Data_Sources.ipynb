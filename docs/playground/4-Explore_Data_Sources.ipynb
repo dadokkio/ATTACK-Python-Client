{
 "cells": [
  {
   "cell_type": "markdown",
   "metadata": {},
   "source": [
    "# Explore ATT&CK Data Sources\n",
    "------------------"
   ]
  },
  {
   "cell_type": "markdown",
   "metadata": {},
   "source": [
    "## Goals:\n",
    "* Access ATT&CK data sources in STIX format via a public TAXII server\n",
    "* Learn to interact with ATT&CK data all at once\n",
    "* Explore and idenfity patterns in the data retrieved\n",
    "* Learn more about ATT&CK data sources"
   ]
  },
  {
   "cell_type": "markdown",
   "metadata": {},
   "source": [
    "## Import ATT&CK API Client"
   ]
  },
  {
   "cell_type": "code",
   "execution_count": 1,
   "metadata": {},
   "outputs": [],
   "source": [
    "from attackcti import attack_client"
   ]
  },
  {
   "cell_type": "markdown",
   "metadata": {},
   "source": [
    "## Import Extra Libraries"
   ]
  },
  {
   "cell_type": "code",
   "execution_count": 5,
   "metadata": {},
   "outputs": [],
   "source": [
    "import pandas\n",
    "import numpy as np\n",
    "import json\n",
    "\n",
    "import altair as alt\n",
    "alt.renderers.enable('default')\n",
    "\n",
    "import itertools\n",
    "\n",
    "import logging\n",
    "logging.getLogger('taxii2client').setLevel(logging.CRITICAL)"
   ]
  },
  {
   "cell_type": "markdown",
   "metadata": {},
   "source": [
    "## Initialize ATT&CK Client Class"
   ]
  },
  {
   "cell_type": "code",
   "execution_count": 3,
   "metadata": {},
   "outputs": [],
   "source": [
    "lift = attack_client()"
   ]
  },
  {
   "cell_type": "markdown",
   "metadata": {},
   "source": [
    "## Get All Techniques"
   ]
  },
  {
   "cell_type": "code",
   "execution_count": 4,
   "metadata": {},
   "outputs": [],
   "source": [
    "all_techniques = lift.get_techniques()"
   ]
  },
  {
   "cell_type": "code",
   "execution_count": 24,
   "metadata": {},
   "outputs": [
    {
     "data": {
      "text/plain": [
       "['enterprise-attack']"
      ]
     },
     "execution_count": 24,
     "metadata": {},
     "output_type": "execute_result"
    }
   ],
   "source": [
    "all_techniques[0].x_mitre_domains"
   ]
  },
  {
   "cell_type": "markdown",
   "metadata": {},
   "source": [
    "## Convert Techniques to Dataframe and Update Techniques Objects"
   ]
  },
  {
   "cell_type": "markdown",
   "metadata": {},
   "source": [
    "Normalizing semi-structured JSON data into a flat table via **pandas.io.json.json_normalize**\n",
    "* Reference: https://pandas.pydata.org/pandas-docs/stable/generated/pandas.io.json.json_normalize.html"
   ]
  },
  {
   "cell_type": "code",
   "execution_count": 29,
   "metadata": {},
   "outputs": [],
   "source": [
    "temp_list = []\n",
    "for t in all_techniques:\n",
    "    domain_name = t['x_mitre_domains'][0]\n",
    "    technique_number = t['external_references'][0]['external_id']\n",
    "    if 'x_mitre_data_sources' in t.keys():\n",
    "        data_sources = list(set([ds.split(':')[0] for ds in t['x_mitre_data_sources']]))\n",
    "        t = t.new_version(x_mitre_data_sources = data_sources)\n",
    "    t = t.new_version(domain = domain_name)\n",
    "    t = t.new_version(technique_id = technique_number)\n",
    "    temp_list.append(json.loads(t.serialize()))\n",
    "techniques = pandas.json_normalize(temp_list)\n",
    "techniques.rename(columns = {'x_mitre_platforms':'platform', 'kill_chain_phases':'tactic', 'name':'technique', 'x_mitre_data_sources':'data_sources'}, inplace = True)"
   ]
  },
  {
   "cell_type": "code",
   "execution_count": 30,
   "metadata": {},
   "outputs": [
    {
     "data": {
      "text/html": [
       "<div>\n",
       "<style scoped>\n",
       "    .dataframe tbody tr th:only-of-type {\n",
       "        vertical-align: middle;\n",
       "    }\n",
       "\n",
       "    .dataframe tbody tr th {\n",
       "        vertical-align: top;\n",
       "    }\n",
       "\n",
       "    .dataframe thead th {\n",
       "        text-align: right;\n",
       "    }\n",
       "</style>\n",
       "<table border=\"1\" class=\"dataframe\">\n",
       "  <thead>\n",
       "    <tr style=\"text-align: right;\">\n",
       "      <th></th>\n",
       "      <th>domain</th>\n",
       "      <th>platform</th>\n",
       "      <th>tactic</th>\n",
       "      <th>technique</th>\n",
       "      <th>technique_id</th>\n",
       "      <th>data_sources</th>\n",
       "    </tr>\n",
       "  </thead>\n",
       "  <tbody>\n",
       "    <tr>\n",
       "      <th>0</th>\n",
       "      <td>enterprise-attack</td>\n",
       "      <td>[Windows]</td>\n",
       "      <td>[{'kill_chain_name': 'mitre-attack', 'phase_na...</td>\n",
       "      <td>AutoHotKey &amp; AutoIT</td>\n",
       "      <td>T1059.010</td>\n",
       "      <td>[Process, Command]</td>\n",
       "    </tr>\n",
       "    <tr>\n",
       "      <th>1</th>\n",
       "      <td>enterprise-attack</td>\n",
       "      <td>[Linux, macOS, Windows]</td>\n",
       "      <td>[{'kill_chain_name': 'mitre-attack', 'phase_na...</td>\n",
       "      <td>File/Path Exclusions</td>\n",
       "      <td>T1564.012</td>\n",
       "      <td>[File]</td>\n",
       "    </tr>\n",
       "    <tr>\n",
       "      <th>2</th>\n",
       "      <td>enterprise-attack</td>\n",
       "      <td>[Linux, macOS, Windows]</td>\n",
       "      <td>[{'kill_chain_name': 'mitre-attack', 'phase_na...</td>\n",
       "      <td>Encrypted/Encoded File</td>\n",
       "      <td>T1027.013</td>\n",
       "      <td>[File]</td>\n",
       "    </tr>\n",
       "    <tr>\n",
       "      <th>3</th>\n",
       "      <td>enterprise-attack</td>\n",
       "      <td>[Windows]</td>\n",
       "      <td>[{'kill_chain_name': 'mitre-attack', 'phase_na...</td>\n",
       "      <td>AppDomainManager</td>\n",
       "      <td>T1574.014</td>\n",
       "      <td>[Module, File, Process]</td>\n",
       "    </tr>\n",
       "    <tr>\n",
       "      <th>4</th>\n",
       "      <td>enterprise-attack</td>\n",
       "      <td>[PRE]</td>\n",
       "      <td>[{'kill_chain_name': 'mitre-attack', 'phase_na...</td>\n",
       "      <td>Network Devices</td>\n",
       "      <td>T1584.008</td>\n",
       "      <td>[Internet Scan]</td>\n",
       "    </tr>\n",
       "  </tbody>\n",
       "</table>\n",
       "</div>"
      ],
      "text/plain": [
       "              domain                 platform  \\\n",
       "0  enterprise-attack                [Windows]   \n",
       "1  enterprise-attack  [Linux, macOS, Windows]   \n",
       "2  enterprise-attack  [Linux, macOS, Windows]   \n",
       "3  enterprise-attack                [Windows]   \n",
       "4  enterprise-attack                    [PRE]   \n",
       "\n",
       "                                              tactic               technique  \\\n",
       "0  [{'kill_chain_name': 'mitre-attack', 'phase_na...     AutoHotKey & AutoIT   \n",
       "1  [{'kill_chain_name': 'mitre-attack', 'phase_na...    File/Path Exclusions   \n",
       "2  [{'kill_chain_name': 'mitre-attack', 'phase_na...  Encrypted/Encoded File   \n",
       "3  [{'kill_chain_name': 'mitre-attack', 'phase_na...        AppDomainManager   \n",
       "4  [{'kill_chain_name': 'mitre-attack', 'phase_na...         Network Devices   \n",
       "\n",
       "  technique_id             data_sources  \n",
       "0    T1059.010       [Process, Command]  \n",
       "1    T1564.012                   [File]  \n",
       "2    T1027.013                   [File]  \n",
       "3    T1574.014  [Module, File, Process]  \n",
       "4    T1584.008          [Internet Scan]  "
      ]
     },
     "execution_count": 30,
     "metadata": {},
     "output_type": "execute_result"
    }
   ],
   "source": [
    "techniques = techniques.reindex(['domain','platform','tactic','technique','technique_id','data_sources'], axis=1)\n",
    "techniques.head()"
   ]
  },
  {
   "cell_type": "code",
   "execution_count": 31,
   "metadata": {},
   "outputs": [
    {
     "name": "stdout",
     "output_type": "stream",
     "text": [
      "A total of  839  techniques\n"
     ]
    }
   ],
   "source": [
    "print('A total of ',len(techniques),' techniques')"
   ]
  },
  {
   "cell_type": "markdown",
   "metadata": {},
   "source": [
    "## Techniques Per Matrix\n",
    "Using **altair** python library we can start showing a few charts stacking the number of techniques with or without data sources.\n",
    "Reference: https://altair-viz.github.io/"
   ]
  },
  {
   "cell_type": "code",
   "execution_count": 32,
   "metadata": {},
   "outputs": [
    {
     "data": {
      "text/html": [
       "<div>\n",
       "<style scoped>\n",
       "    .dataframe tbody tr th:only-of-type {\n",
       "        vertical-align: middle;\n",
       "    }\n",
       "\n",
       "    .dataframe tbody tr th {\n",
       "        vertical-align: top;\n",
       "    }\n",
       "\n",
       "    .dataframe thead th {\n",
       "        text-align: right;\n",
       "    }\n",
       "</style>\n",
       "<table border=\"1\" class=\"dataframe\">\n",
       "  <thead>\n",
       "    <tr style=\"text-align: right;\">\n",
       "      <th></th>\n",
       "      <th>domain</th>\n",
       "      <th>technique</th>\n",
       "    </tr>\n",
       "  </thead>\n",
       "  <tbody>\n",
       "    <tr>\n",
       "      <th>0</th>\n",
       "      <td>enterprise-attack</td>\n",
       "      <td>637</td>\n",
       "    </tr>\n",
       "    <tr>\n",
       "      <th>1</th>\n",
       "      <td>ics-attack</td>\n",
       "      <td>83</td>\n",
       "    </tr>\n",
       "    <tr>\n",
       "      <th>2</th>\n",
       "      <td>mobile-attack</td>\n",
       "      <td>119</td>\n",
       "    </tr>\n",
       "  </tbody>\n",
       "</table>\n",
       "</div>"
      ],
      "text/plain": [
       "              domain  technique\n",
       "0  enterprise-attack        637\n",
       "1         ics-attack         83\n",
       "2      mobile-attack        119"
      ]
     },
     "execution_count": 32,
     "metadata": {},
     "output_type": "execute_result"
    }
   ],
   "source": [
    "data = techniques\n",
    "data_2 = data.groupby(['domain'])['technique'].count()\n",
    "data_3 = data_2.to_frame().reset_index()\n",
    "data_3"
   ]
  },
  {
   "cell_type": "code",
   "execution_count": 34,
   "metadata": {},
   "outputs": [
    {
     "data": {
      "text/html": [
       "\n",
       "<style>\n",
       "  #altair-viz-55b066eb3c9b445485f3d9861a74dcd6.vega-embed {\n",
       "    width: 100%;\n",
       "    display: flex;\n",
       "  }\n",
       "\n",
       "  #altair-viz-55b066eb3c9b445485f3d9861a74dcd6.vega-embed details,\n",
       "  #altair-viz-55b066eb3c9b445485f3d9861a74dcd6.vega-embed details summary {\n",
       "    position: relative;\n",
       "  }\n",
       "</style>\n",
       "<div id=\"altair-viz-55b066eb3c9b445485f3d9861a74dcd6\"></div>\n",
       "<script type=\"text/javascript\">\n",
       "  var VEGA_DEBUG = (typeof VEGA_DEBUG == \"undefined\") ? {} : VEGA_DEBUG;\n",
       "  (function(spec, embedOpt){\n",
       "    let outputDiv = document.currentScript.previousElementSibling;\n",
       "    if (outputDiv.id !== \"altair-viz-55b066eb3c9b445485f3d9861a74dcd6\") {\n",
       "      outputDiv = document.getElementById(\"altair-viz-55b066eb3c9b445485f3d9861a74dcd6\");\n",
       "    }\n",
       "    const paths = {\n",
       "      \"vega\": \"https://cdn.jsdelivr.net/npm/vega@5?noext\",\n",
       "      \"vega-lib\": \"https://cdn.jsdelivr.net/npm/vega-lib?noext\",\n",
       "      \"vega-lite\": \"https://cdn.jsdelivr.net/npm/vega-lite@5.17.0?noext\",\n",
       "      \"vega-embed\": \"https://cdn.jsdelivr.net/npm/vega-embed@6?noext\",\n",
       "    };\n",
       "\n",
       "    function maybeLoadScript(lib, version) {\n",
       "      var key = `${lib.replace(\"-\", \"\")}_version`;\n",
       "      return (VEGA_DEBUG[key] == version) ?\n",
       "        Promise.resolve(paths[lib]) :\n",
       "        new Promise(function(resolve, reject) {\n",
       "          var s = document.createElement('script');\n",
       "          document.getElementsByTagName(\"head\")[0].appendChild(s);\n",
       "          s.async = true;\n",
       "          s.onload = () => {\n",
       "            VEGA_DEBUG[key] = version;\n",
       "            return resolve(paths[lib]);\n",
       "          };\n",
       "          s.onerror = () => reject(`Error loading script: ${paths[lib]}`);\n",
       "          s.src = paths[lib];\n",
       "        });\n",
       "    }\n",
       "\n",
       "    function showError(err) {\n",
       "      outputDiv.innerHTML = `<div class=\"error\" style=\"color:red;\">${err}</div>`;\n",
       "      throw err;\n",
       "    }\n",
       "\n",
       "    function displayChart(vegaEmbed) {\n",
       "      vegaEmbed(outputDiv, spec, embedOpt)\n",
       "        .catch(err => showError(`Javascript Error: ${err.message}<br>This usually means there's a typo in your chart specification. See the javascript console for the full traceback.`));\n",
       "    }\n",
       "\n",
       "    if(typeof define === \"function\" && define.amd) {\n",
       "      requirejs.config({paths});\n",
       "      require([\"vega-embed\"], displayChart, err => showError(`Error loading script: ${err.message}`));\n",
       "    } else {\n",
       "      maybeLoadScript(\"vega\", \"5\")\n",
       "        .then(() => maybeLoadScript(\"vega-lite\", \"5.17.0\"))\n",
       "        .then(() => maybeLoadScript(\"vega-embed\", \"6\"))\n",
       "        .catch(showError)\n",
       "        .then(() => displayChart(vegaEmbed));\n",
       "    }\n",
       "  })({\"config\": {\"view\": {\"continuousWidth\": 300, \"continuousHeight\": 300}}, \"data\": {\"name\": \"data-d850e26325fb4b29b70325c3ed54b044\"}, \"mark\": {\"type\": \"bar\"}, \"encoding\": {\"color\": {\"field\": \"domain\", \"type\": \"nominal\"}, \"x\": {\"field\": \"technique\", \"type\": \"quantitative\"}, \"y\": {\"field\": \"domain\", \"type\": \"nominal\"}}, \"height\": 200, \"$schema\": \"https://vega.github.io/schema/vega-lite/v5.17.0.json\", \"datasets\": {\"data-d850e26325fb4b29b70325c3ed54b044\": [{\"domain\": \"enterprise-attack\", \"technique\": 637}, {\"domain\": \"ics-attack\", \"technique\": 83}, {\"domain\": \"mobile-attack\", \"technique\": 119}]}}, {\"mode\": \"vega-lite\"});\n",
       "</script>"
      ],
      "text/plain": [
       "alt.Chart(...)"
      ]
     },
     "execution_count": 34,
     "metadata": {},
     "output_type": "execute_result"
    }
   ],
   "source": [
    "alt.Chart(data_3).mark_bar().encode(x='technique', y='domain', color='domain').properties(height = 200)"
   ]
  },
  {
   "cell_type": "markdown",
   "metadata": {},
   "source": [
    "## Techniques With and Without Data Sources"
   ]
  },
  {
   "cell_type": "code",
   "execution_count": 35,
   "metadata": {},
   "outputs": [
    {
     "data": {
      "text/html": [
       "\n",
       "<style>\n",
       "  #altair-viz-6912450dc5024ff095319d0c9a8beff9.vega-embed {\n",
       "    width: 100%;\n",
       "    display: flex;\n",
       "  }\n",
       "\n",
       "  #altair-viz-6912450dc5024ff095319d0c9a8beff9.vega-embed details,\n",
       "  #altair-viz-6912450dc5024ff095319d0c9a8beff9.vega-embed details summary {\n",
       "    position: relative;\n",
       "  }\n",
       "</style>\n",
       "<div id=\"altair-viz-6912450dc5024ff095319d0c9a8beff9\"></div>\n",
       "<script type=\"text/javascript\">\n",
       "  var VEGA_DEBUG = (typeof VEGA_DEBUG == \"undefined\") ? {} : VEGA_DEBUG;\n",
       "  (function(spec, embedOpt){\n",
       "    let outputDiv = document.currentScript.previousElementSibling;\n",
       "    if (outputDiv.id !== \"altair-viz-6912450dc5024ff095319d0c9a8beff9\") {\n",
       "      outputDiv = document.getElementById(\"altair-viz-6912450dc5024ff095319d0c9a8beff9\");\n",
       "    }\n",
       "    const paths = {\n",
       "      \"vega\": \"https://cdn.jsdelivr.net/npm/vega@5?noext\",\n",
       "      \"vega-lib\": \"https://cdn.jsdelivr.net/npm/vega-lib?noext\",\n",
       "      \"vega-lite\": \"https://cdn.jsdelivr.net/npm/vega-lite@5.17.0?noext\",\n",
       "      \"vega-embed\": \"https://cdn.jsdelivr.net/npm/vega-embed@6?noext\",\n",
       "    };\n",
       "\n",
       "    function maybeLoadScript(lib, version) {\n",
       "      var key = `${lib.replace(\"-\", \"\")}_version`;\n",
       "      return (VEGA_DEBUG[key] == version) ?\n",
       "        Promise.resolve(paths[lib]) :\n",
       "        new Promise(function(resolve, reject) {\n",
       "          var s = document.createElement('script');\n",
       "          document.getElementsByTagName(\"head\")[0].appendChild(s);\n",
       "          s.async = true;\n",
       "          s.onload = () => {\n",
       "            VEGA_DEBUG[key] = version;\n",
       "            return resolve(paths[lib]);\n",
       "          };\n",
       "          s.onerror = () => reject(`Error loading script: ${paths[lib]}`);\n",
       "          s.src = paths[lib];\n",
       "        });\n",
       "    }\n",
       "\n",
       "    function showError(err) {\n",
       "      outputDiv.innerHTML = `<div class=\"error\" style=\"color:red;\">${err}</div>`;\n",
       "      throw err;\n",
       "    }\n",
       "\n",
       "    function displayChart(vegaEmbed) {\n",
       "      vegaEmbed(outputDiv, spec, embedOpt)\n",
       "        .catch(err => showError(`Javascript Error: ${err.message}<br>This usually means there's a typo in your chart specification. See the javascript console for the full traceback.`));\n",
       "    }\n",
       "\n",
       "    if(typeof define === \"function\" && define.amd) {\n",
       "      requirejs.config({paths});\n",
       "      require([\"vega-embed\"], displayChart, err => showError(`Error loading script: ${err.message}`));\n",
       "    } else {\n",
       "      maybeLoadScript(\"vega\", \"5\")\n",
       "        .then(() => maybeLoadScript(\"vega-lite\", \"5.17.0\"))\n",
       "        .then(() => maybeLoadScript(\"vega-embed\", \"6\"))\n",
       "        .catch(showError)\n",
       "        .then(() => displayChart(vegaEmbed));\n",
       "    }\n",
       "  })({\"config\": {\"view\": {\"continuousWidth\": 300, \"continuousHeight\": 300}}, \"layer\": [{\"mark\": {\"type\": \"bar\"}, \"encoding\": {\"color\": {\"field\": \"Techniques\", \"type\": \"nominal\"}, \"x\": {\"field\": \"Techniques\", \"type\": \"nominal\"}, \"y\": {\"field\": \"Count of Techniques\", \"type\": \"quantitative\"}}}, {\"mark\": {\"type\": \"text\", \"align\": \"center\", \"baseline\": \"middle\", \"dx\": 0, \"dy\": -5}, \"encoding\": {\"color\": {\"field\": \"Techniques\", \"type\": \"nominal\"}, \"text\": {\"field\": \"Count of Techniques\", \"type\": \"quantitative\"}, \"x\": {\"field\": \"Techniques\", \"type\": \"nominal\"}, \"y\": {\"field\": \"Count of Techniques\", \"type\": \"quantitative\"}}}], \"data\": {\"name\": \"data-fe28dbcddfbab20a12ce52f797b3dbd4\"}, \"height\": 300, \"width\": 200, \"$schema\": \"https://vega.github.io/schema/vega-lite/v5.17.0.json\", \"datasets\": {\"data-fe28dbcddfbab20a12ce52f797b3dbd4\": [{\"Techniques\": \"Without DS\", \"Count of Techniques\": 171}, {\"Techniques\": \"With DS\", \"Count of Techniques\": 668}]}}, {\"mode\": \"vega-lite\"});\n",
       "</script>"
      ],
      "text/plain": [
       "alt.LayerChart(...)"
      ]
     },
     "execution_count": 35,
     "metadata": {},
     "output_type": "execute_result"
    }
   ],
   "source": [
    "data_source_distribution = pandas.DataFrame({\n",
    "    'Techniques': ['Without DS','With DS'],\n",
    "    'Count of Techniques': [techniques['data_sources'].isna().sum(),techniques['data_sources'].notna().sum()]})\n",
    "bars = alt.Chart(data_source_distribution).mark_bar().encode(x='Techniques',y='Count of Techniques',color='Techniques').properties(width=200,height=300)\n",
    "text = bars.mark_text(align='center',baseline='middle',dx=0,dy=-5).encode(text='Count of Techniques')\n",
    "bars + text"
   ]
  },
  {
   "cell_type": "markdown",
   "metadata": {},
   "source": [
    "What is the distribution of techniques based on ATT&CK Matrix?"
   ]
  },
  {
   "cell_type": "code",
   "execution_count": 37,
   "metadata": {},
   "outputs": [
    {
     "data": {
      "text/html": [
       "<div>\n",
       "<style scoped>\n",
       "    .dataframe tbody tr th:only-of-type {\n",
       "        vertical-align: middle;\n",
       "    }\n",
       "\n",
       "    .dataframe tbody tr th {\n",
       "        vertical-align: top;\n",
       "    }\n",
       "\n",
       "    .dataframe thead th {\n",
       "        text-align: right;\n",
       "    }\n",
       "</style>\n",
       "<table border=\"1\" class=\"dataframe\">\n",
       "  <thead>\n",
       "    <tr style=\"text-align: right;\">\n",
       "      <th></th>\n",
       "      <th>domain</th>\n",
       "      <th>Ind_DS</th>\n",
       "      <th>technique</th>\n",
       "    </tr>\n",
       "  </thead>\n",
       "  <tbody>\n",
       "    <tr>\n",
       "      <th>0</th>\n",
       "      <td>enterprise-attack</td>\n",
       "      <td>With DS</td>\n",
       "      <td>597</td>\n",
       "    </tr>\n",
       "    <tr>\n",
       "      <th>1</th>\n",
       "      <td>enterprise-attack</td>\n",
       "      <td>Without DS</td>\n",
       "      <td>40</td>\n",
       "    </tr>\n",
       "    <tr>\n",
       "      <th>2</th>\n",
       "      <td>ics-attack</td>\n",
       "      <td>With DS</td>\n",
       "      <td>71</td>\n",
       "    </tr>\n",
       "    <tr>\n",
       "      <th>3</th>\n",
       "      <td>ics-attack</td>\n",
       "      <td>Without DS</td>\n",
       "      <td>12</td>\n",
       "    </tr>\n",
       "    <tr>\n",
       "      <th>4</th>\n",
       "      <td>mobile-attack</td>\n",
       "      <td>Without DS</td>\n",
       "      <td>119</td>\n",
       "    </tr>\n",
       "  </tbody>\n",
       "</table>\n",
       "</div>"
      ],
      "text/plain": [
       "              domain      Ind_DS  technique\n",
       "0  enterprise-attack     With DS        597\n",
       "1  enterprise-attack  Without DS         40\n",
       "2         ics-attack     With DS         71\n",
       "3         ics-attack  Without DS         12\n",
       "4      mobile-attack  Without DS        119"
      ]
     },
     "execution_count": 37,
     "metadata": {},
     "output_type": "execute_result"
    }
   ],
   "source": [
    "data = techniques\n",
    "data['Count_DS'] = data['data_sources'].str.len()\n",
    "data['Ind_DS'] = np.where(data['Count_DS']>0,'With DS','Without DS')\n",
    "data_2 = data.groupby(['domain','Ind_DS'])['technique'].count()\n",
    "data_3 = data_2.to_frame().reset_index()\n",
    "data_3"
   ]
  },
  {
   "cell_type": "code",
   "execution_count": 12,
   "metadata": {},
   "outputs": [
    {
     "data": {
      "text/html": [
       "\n",
       "<div id=\"altair-viz-6a381f97edfe4e82872928b4f0894d14\"></div>\n",
       "<script type=\"text/javascript\">\n",
       "  var VEGA_DEBUG = (typeof VEGA_DEBUG == \"undefined\") ? {} : VEGA_DEBUG;\n",
       "  (function(spec, embedOpt){\n",
       "    let outputDiv = document.currentScript.previousElementSibling;\n",
       "    if (outputDiv.id !== \"altair-viz-6a381f97edfe4e82872928b4f0894d14\") {\n",
       "      outputDiv = document.getElementById(\"altair-viz-6a381f97edfe4e82872928b4f0894d14\");\n",
       "    }\n",
       "    const paths = {\n",
       "      \"vega\": \"https://cdn.jsdelivr.net/npm//vega@5?noext\",\n",
       "      \"vega-lib\": \"https://cdn.jsdelivr.net/npm//vega-lib?noext\",\n",
       "      \"vega-lite\": \"https://cdn.jsdelivr.net/npm//vega-lite@4.17.0?noext\",\n",
       "      \"vega-embed\": \"https://cdn.jsdelivr.net/npm//vega-embed@6?noext\",\n",
       "    };\n",
       "\n",
       "    function maybeLoadScript(lib, version) {\n",
       "      var key = `${lib.replace(\"-\", \"\")}_version`;\n",
       "      return (VEGA_DEBUG[key] == version) ?\n",
       "        Promise.resolve(paths[lib]) :\n",
       "        new Promise(function(resolve, reject) {\n",
       "          var s = document.createElement('script');\n",
       "          document.getElementsByTagName(\"head\")[0].appendChild(s);\n",
       "          s.async = true;\n",
       "          s.onload = () => {\n",
       "            VEGA_DEBUG[key] = version;\n",
       "            return resolve(paths[lib]);\n",
       "          };\n",
       "          s.onerror = () => reject(`Error loading script: ${paths[lib]}`);\n",
       "          s.src = paths[lib];\n",
       "        });\n",
       "    }\n",
       "\n",
       "    function showError(err) {\n",
       "      outputDiv.innerHTML = `<div class=\"error\" style=\"color:red;\">${err}</div>`;\n",
       "      throw err;\n",
       "    }\n",
       "\n",
       "    function displayChart(vegaEmbed) {\n",
       "      vegaEmbed(outputDiv, spec, embedOpt)\n",
       "        .catch(err => showError(`Javascript Error: ${err.message}<br>This usually means there's a typo in your chart specification. See the javascript console for the full traceback.`));\n",
       "    }\n",
       "\n",
       "    if(typeof define === \"function\" && define.amd) {\n",
       "      requirejs.config({paths});\n",
       "      require([\"vega-embed\"], displayChart, err => showError(`Error loading script: ${err.message}`));\n",
       "    } else {\n",
       "      maybeLoadScript(\"vega\", \"5\")\n",
       "        .then(() => maybeLoadScript(\"vega-lite\", \"4.17.0\"))\n",
       "        .then(() => maybeLoadScript(\"vega-embed\", \"6\"))\n",
       "        .catch(showError)\n",
       "        .then(() => displayChart(vegaEmbed));\n",
       "    }\n",
       "  })({\"config\": {\"view\": {\"continuousWidth\": 400, \"continuousHeight\": 300}}, \"data\": {\"name\": \"data-c7d76023afeedf13ed4b34ec6403b7b2\"}, \"mark\": \"bar\", \"encoding\": {\"color\": {\"field\": \"matrix\", \"type\": \"nominal\"}, \"x\": {\"field\": \"technique\", \"type\": \"quantitative\"}, \"y\": {\"field\": \"Ind_DS\", \"type\": \"nominal\"}}, \"height\": 200, \"$schema\": \"https://vega.github.io/schema/vega-lite/v4.17.0.json\", \"datasets\": {\"data-c7d76023afeedf13ed4b34ec6403b7b2\": [{\"matrix\": \"mitre-attack\", \"Ind_DS\": \"With DS\", \"technique\": 520}, {\"matrix\": \"mitre-attack\", \"Ind_DS\": \"Without DS\", \"technique\": 46}, {\"matrix\": \"mitre-ics-attack\", \"Ind_DS\": \"With DS\", \"technique\": 63}, {\"matrix\": \"mitre-ics-attack\", \"Ind_DS\": \"Without DS\", \"technique\": 15}, {\"matrix\": \"mitre-mobile-attack\", \"Ind_DS\": \"Without DS\", \"technique\": 92}]}}, {\"mode\": \"vega-lite\"});\n",
       "</script>"
      ],
      "text/plain": [
       "alt.Chart(...)"
      ]
     },
     "execution_count": 12,
     "metadata": {},
     "output_type": "execute_result"
    }
   ],
   "source": [
    "alt.Chart(data_3).mark_bar().encode(x='technique', y='Ind_DS', color='matrix').properties(height = 200)"
   ]
  },
  {
   "cell_type": "markdown",
   "metadata": {},
   "source": [
    "What are those mitre-attack techniques without data sources?"
   ]
  },
  {
   "cell_type": "code",
   "execution_count": 38,
   "metadata": {},
   "outputs": [
    {
     "data": {
      "text/html": [
       "<div>\n",
       "<style scoped>\n",
       "    .dataframe tbody tr th:only-of-type {\n",
       "        vertical-align: middle;\n",
       "    }\n",
       "\n",
       "    .dataframe tbody tr th {\n",
       "        vertical-align: top;\n",
       "    }\n",
       "\n",
       "    .dataframe thead th {\n",
       "        text-align: right;\n",
       "    }\n",
       "</style>\n",
       "<table border=\"1\" class=\"dataframe\">\n",
       "  <thead>\n",
       "    <tr style=\"text-align: right;\">\n",
       "      <th></th>\n",
       "      <th>domain</th>\n",
       "      <th>platform</th>\n",
       "      <th>tactic</th>\n",
       "      <th>technique</th>\n",
       "      <th>technique_id</th>\n",
       "      <th>data_sources</th>\n",
       "      <th>Count_DS</th>\n",
       "      <th>Ind_DS</th>\n",
       "    </tr>\n",
       "  </thead>\n",
       "  <tbody>\n",
       "    <tr>\n",
       "      <th>6</th>\n",
       "      <td>enterprise-attack</td>\n",
       "      <td>[PRE]</td>\n",
       "      <td>[{'kill_chain_name': 'mitre-attack', 'phase_na...</td>\n",
       "      <td>Artificial Intelligence</td>\n",
       "      <td>T1588.007</td>\n",
       "      <td>NaN</td>\n",
       "      <td>NaN</td>\n",
       "      <td>Without DS</td>\n",
       "    </tr>\n",
       "    <tr>\n",
       "      <th>37</th>\n",
       "      <td>enterprise-attack</td>\n",
       "      <td>[PRE]</td>\n",
       "      <td>[{'kill_chain_name': 'mitre-attack', 'phase_na...</td>\n",
       "      <td>Acquire Access</td>\n",
       "      <td>T1650</td>\n",
       "      <td>NaN</td>\n",
       "      <td>NaN</td>\n",
       "      <td>Without DS</td>\n",
       "    </tr>\n",
       "    <tr>\n",
       "      <th>49</th>\n",
       "      <td>enterprise-attack</td>\n",
       "      <td>[PRE]</td>\n",
       "      <td>[{'kill_chain_name': 'mitre-attack', 'phase_na...</td>\n",
       "      <td>Code Repositories</td>\n",
       "      <td>T1593.003</td>\n",
       "      <td>NaN</td>\n",
       "      <td>NaN</td>\n",
       "      <td>Without DS</td>\n",
       "    </tr>\n",
       "    <tr>\n",
       "      <th>57</th>\n",
       "      <td>enterprise-attack</td>\n",
       "      <td>[PRE]</td>\n",
       "      <td>[{'kill_chain_name': 'mitre-attack', 'phase_na...</td>\n",
       "      <td>Cloud Accounts</td>\n",
       "      <td>T1586.003</td>\n",
       "      <td>NaN</td>\n",
       "      <td>NaN</td>\n",
       "      <td>Without DS</td>\n",
       "    </tr>\n",
       "    <tr>\n",
       "      <th>58</th>\n",
       "      <td>enterprise-attack</td>\n",
       "      <td>[PRE]</td>\n",
       "      <td>[{'kill_chain_name': 'mitre-attack', 'phase_na...</td>\n",
       "      <td>Cloud Accounts</td>\n",
       "      <td>T1585.003</td>\n",
       "      <td>NaN</td>\n",
       "      <td>NaN</td>\n",
       "      <td>Without DS</td>\n",
       "    </tr>\n",
       "  </tbody>\n",
       "</table>\n",
       "</div>"
      ],
      "text/plain": [
       "               domain platform  \\\n",
       "6   enterprise-attack    [PRE]   \n",
       "37  enterprise-attack    [PRE]   \n",
       "49  enterprise-attack    [PRE]   \n",
       "57  enterprise-attack    [PRE]   \n",
       "58  enterprise-attack    [PRE]   \n",
       "\n",
       "                                               tactic  \\\n",
       "6   [{'kill_chain_name': 'mitre-attack', 'phase_na...   \n",
       "37  [{'kill_chain_name': 'mitre-attack', 'phase_na...   \n",
       "49  [{'kill_chain_name': 'mitre-attack', 'phase_na...   \n",
       "57  [{'kill_chain_name': 'mitre-attack', 'phase_na...   \n",
       "58  [{'kill_chain_name': 'mitre-attack', 'phase_na...   \n",
       "\n",
       "                  technique technique_id data_sources  Count_DS      Ind_DS  \n",
       "6   Artificial Intelligence    T1588.007          NaN       NaN  Without DS  \n",
       "37           Acquire Access        T1650          NaN       NaN  Without DS  \n",
       "49        Code Repositories    T1593.003          NaN       NaN  Without DS  \n",
       "57           Cloud Accounts    T1586.003          NaN       NaN  Without DS  \n",
       "58           Cloud Accounts    T1585.003          NaN       NaN  Without DS  "
      ]
     },
     "execution_count": 38,
     "metadata": {},
     "output_type": "execute_result"
    }
   ],
   "source": [
    "data[(data['Ind_DS']=='Without DS')][0:5]"
   ]
  },
  {
   "cell_type": "markdown",
   "metadata": {},
   "source": [
    "### Techniques without data sources"
   ]
  },
  {
   "cell_type": "code",
   "execution_count": 39,
   "metadata": {},
   "outputs": [],
   "source": [
    "techniques_without_data_sources=techniques[techniques.data_sources.isnull()].reset_index(drop=True)"
   ]
  },
  {
   "cell_type": "code",
   "execution_count": 40,
   "metadata": {},
   "outputs": [
    {
     "data": {
      "text/html": [
       "<div>\n",
       "<style scoped>\n",
       "    .dataframe tbody tr th:only-of-type {\n",
       "        vertical-align: middle;\n",
       "    }\n",
       "\n",
       "    .dataframe tbody tr th {\n",
       "        vertical-align: top;\n",
       "    }\n",
       "\n",
       "    .dataframe thead th {\n",
       "        text-align: right;\n",
       "    }\n",
       "</style>\n",
       "<table border=\"1\" class=\"dataframe\">\n",
       "  <thead>\n",
       "    <tr style=\"text-align: right;\">\n",
       "      <th></th>\n",
       "      <th>domain</th>\n",
       "      <th>platform</th>\n",
       "      <th>tactic</th>\n",
       "      <th>technique</th>\n",
       "      <th>technique_id</th>\n",
       "      <th>data_sources</th>\n",
       "      <th>Count_DS</th>\n",
       "      <th>Ind_DS</th>\n",
       "    </tr>\n",
       "  </thead>\n",
       "  <tbody>\n",
       "    <tr>\n",
       "      <th>0</th>\n",
       "      <td>enterprise-attack</td>\n",
       "      <td>[PRE]</td>\n",
       "      <td>[{'kill_chain_name': 'mitre-attack', 'phase_na...</td>\n",
       "      <td>Artificial Intelligence</td>\n",
       "      <td>T1588.007</td>\n",
       "      <td>NaN</td>\n",
       "      <td>NaN</td>\n",
       "      <td>Without DS</td>\n",
       "    </tr>\n",
       "    <tr>\n",
       "      <th>1</th>\n",
       "      <td>enterprise-attack</td>\n",
       "      <td>[PRE]</td>\n",
       "      <td>[{'kill_chain_name': 'mitre-attack', 'phase_na...</td>\n",
       "      <td>Acquire Access</td>\n",
       "      <td>T1650</td>\n",
       "      <td>NaN</td>\n",
       "      <td>NaN</td>\n",
       "      <td>Without DS</td>\n",
       "    </tr>\n",
       "    <tr>\n",
       "      <th>2</th>\n",
       "      <td>enterprise-attack</td>\n",
       "      <td>[PRE]</td>\n",
       "      <td>[{'kill_chain_name': 'mitre-attack', 'phase_na...</td>\n",
       "      <td>Code Repositories</td>\n",
       "      <td>T1593.003</td>\n",
       "      <td>NaN</td>\n",
       "      <td>NaN</td>\n",
       "      <td>Without DS</td>\n",
       "    </tr>\n",
       "    <tr>\n",
       "      <th>3</th>\n",
       "      <td>enterprise-attack</td>\n",
       "      <td>[PRE]</td>\n",
       "      <td>[{'kill_chain_name': 'mitre-attack', 'phase_na...</td>\n",
       "      <td>Cloud Accounts</td>\n",
       "      <td>T1586.003</td>\n",
       "      <td>NaN</td>\n",
       "      <td>NaN</td>\n",
       "      <td>Without DS</td>\n",
       "    </tr>\n",
       "    <tr>\n",
       "      <th>4</th>\n",
       "      <td>enterprise-attack</td>\n",
       "      <td>[PRE]</td>\n",
       "      <td>[{'kill_chain_name': 'mitre-attack', 'phase_na...</td>\n",
       "      <td>Cloud Accounts</td>\n",
       "      <td>T1585.003</td>\n",
       "      <td>NaN</td>\n",
       "      <td>NaN</td>\n",
       "      <td>Without DS</td>\n",
       "    </tr>\n",
       "  </tbody>\n",
       "</table>\n",
       "</div>"
      ],
      "text/plain": [
       "              domain platform  \\\n",
       "0  enterprise-attack    [PRE]   \n",
       "1  enterprise-attack    [PRE]   \n",
       "2  enterprise-attack    [PRE]   \n",
       "3  enterprise-attack    [PRE]   \n",
       "4  enterprise-attack    [PRE]   \n",
       "\n",
       "                                              tactic                technique  \\\n",
       "0  [{'kill_chain_name': 'mitre-attack', 'phase_na...  Artificial Intelligence   \n",
       "1  [{'kill_chain_name': 'mitre-attack', 'phase_na...           Acquire Access   \n",
       "2  [{'kill_chain_name': 'mitre-attack', 'phase_na...        Code Repositories   \n",
       "3  [{'kill_chain_name': 'mitre-attack', 'phase_na...           Cloud Accounts   \n",
       "4  [{'kill_chain_name': 'mitre-attack', 'phase_na...           Cloud Accounts   \n",
       "\n",
       "  technique_id data_sources  Count_DS      Ind_DS  \n",
       "0    T1588.007          NaN       NaN  Without DS  \n",
       "1        T1650          NaN       NaN  Without DS  \n",
       "2    T1593.003          NaN       NaN  Without DS  \n",
       "3    T1586.003          NaN       NaN  Without DS  \n",
       "4    T1585.003          NaN       NaN  Without DS  "
      ]
     },
     "execution_count": 40,
     "metadata": {},
     "output_type": "execute_result"
    }
   ],
   "source": [
    "techniques_without_data_sources.head()"
   ]
  },
  {
   "cell_type": "code",
   "execution_count": 41,
   "metadata": {},
   "outputs": [
    {
     "name": "stdout",
     "output_type": "stream",
     "text": [
      "There are  171  techniques without data sources ( 20%  of  839  techniques)\n"
     ]
    }
   ],
   "source": [
    "print('There are ',techniques['data_sources'].isna().sum(),' techniques without data sources (',\"{0:.0%}\".format(techniques['data_sources'].isna().sum()/len(techniques)),' of ',len(techniques),' techniques)')"
   ]
  },
  {
   "cell_type": "markdown",
   "metadata": {},
   "source": [
    "### Techniques With Data Sources"
   ]
  },
  {
   "cell_type": "code",
   "execution_count": 42,
   "metadata": {},
   "outputs": [],
   "source": [
    "techniques_with_data_sources=techniques[techniques.data_sources.notnull()].reset_index(drop=True)"
   ]
  },
  {
   "cell_type": "code",
   "execution_count": 43,
   "metadata": {},
   "outputs": [
    {
     "data": {
      "text/html": [
       "<div>\n",
       "<style scoped>\n",
       "    .dataframe tbody tr th:only-of-type {\n",
       "        vertical-align: middle;\n",
       "    }\n",
       "\n",
       "    .dataframe tbody tr th {\n",
       "        vertical-align: top;\n",
       "    }\n",
       "\n",
       "    .dataframe thead th {\n",
       "        text-align: right;\n",
       "    }\n",
       "</style>\n",
       "<table border=\"1\" class=\"dataframe\">\n",
       "  <thead>\n",
       "    <tr style=\"text-align: right;\">\n",
       "      <th></th>\n",
       "      <th>domain</th>\n",
       "      <th>platform</th>\n",
       "      <th>tactic</th>\n",
       "      <th>technique</th>\n",
       "      <th>technique_id</th>\n",
       "      <th>data_sources</th>\n",
       "      <th>Count_DS</th>\n",
       "      <th>Ind_DS</th>\n",
       "    </tr>\n",
       "  </thead>\n",
       "  <tbody>\n",
       "    <tr>\n",
       "      <th>0</th>\n",
       "      <td>enterprise-attack</td>\n",
       "      <td>[Windows]</td>\n",
       "      <td>[{'kill_chain_name': 'mitre-attack', 'phase_na...</td>\n",
       "      <td>AutoHotKey &amp; AutoIT</td>\n",
       "      <td>T1059.010</td>\n",
       "      <td>[Process, Command]</td>\n",
       "      <td>2.0</td>\n",
       "      <td>With DS</td>\n",
       "    </tr>\n",
       "    <tr>\n",
       "      <th>1</th>\n",
       "      <td>enterprise-attack</td>\n",
       "      <td>[Linux, macOS, Windows]</td>\n",
       "      <td>[{'kill_chain_name': 'mitre-attack', 'phase_na...</td>\n",
       "      <td>File/Path Exclusions</td>\n",
       "      <td>T1564.012</td>\n",
       "      <td>[File]</td>\n",
       "      <td>1.0</td>\n",
       "      <td>With DS</td>\n",
       "    </tr>\n",
       "    <tr>\n",
       "      <th>2</th>\n",
       "      <td>enterprise-attack</td>\n",
       "      <td>[Linux, macOS, Windows]</td>\n",
       "      <td>[{'kill_chain_name': 'mitre-attack', 'phase_na...</td>\n",
       "      <td>Encrypted/Encoded File</td>\n",
       "      <td>T1027.013</td>\n",
       "      <td>[File]</td>\n",
       "      <td>1.0</td>\n",
       "      <td>With DS</td>\n",
       "    </tr>\n",
       "    <tr>\n",
       "      <th>3</th>\n",
       "      <td>enterprise-attack</td>\n",
       "      <td>[Windows]</td>\n",
       "      <td>[{'kill_chain_name': 'mitre-attack', 'phase_na...</td>\n",
       "      <td>AppDomainManager</td>\n",
       "      <td>T1574.014</td>\n",
       "      <td>[Module, File, Process]</td>\n",
       "      <td>3.0</td>\n",
       "      <td>With DS</td>\n",
       "    </tr>\n",
       "    <tr>\n",
       "      <th>4</th>\n",
       "      <td>enterprise-attack</td>\n",
       "      <td>[PRE]</td>\n",
       "      <td>[{'kill_chain_name': 'mitre-attack', 'phase_na...</td>\n",
       "      <td>Network Devices</td>\n",
       "      <td>T1584.008</td>\n",
       "      <td>[Internet Scan]</td>\n",
       "      <td>1.0</td>\n",
       "      <td>With DS</td>\n",
       "    </tr>\n",
       "  </tbody>\n",
       "</table>\n",
       "</div>"
      ],
      "text/plain": [
       "              domain                 platform  \\\n",
       "0  enterprise-attack                [Windows]   \n",
       "1  enterprise-attack  [Linux, macOS, Windows]   \n",
       "2  enterprise-attack  [Linux, macOS, Windows]   \n",
       "3  enterprise-attack                [Windows]   \n",
       "4  enterprise-attack                    [PRE]   \n",
       "\n",
       "                                              tactic               technique  \\\n",
       "0  [{'kill_chain_name': 'mitre-attack', 'phase_na...     AutoHotKey & AutoIT   \n",
       "1  [{'kill_chain_name': 'mitre-attack', 'phase_na...    File/Path Exclusions   \n",
       "2  [{'kill_chain_name': 'mitre-attack', 'phase_na...  Encrypted/Encoded File   \n",
       "3  [{'kill_chain_name': 'mitre-attack', 'phase_na...        AppDomainManager   \n",
       "4  [{'kill_chain_name': 'mitre-attack', 'phase_na...         Network Devices   \n",
       "\n",
       "  technique_id             data_sources  Count_DS   Ind_DS  \n",
       "0    T1059.010       [Process, Command]       2.0  With DS  \n",
       "1    T1564.012                   [File]       1.0  With DS  \n",
       "2    T1027.013                   [File]       1.0  With DS  \n",
       "3    T1574.014  [Module, File, Process]       3.0  With DS  \n",
       "4    T1584.008          [Internet Scan]       1.0  With DS  "
      ]
     },
     "execution_count": 43,
     "metadata": {},
     "output_type": "execute_result"
    }
   ],
   "source": [
    "techniques_with_data_sources.head()"
   ]
  },
  {
   "cell_type": "code",
   "execution_count": 44,
   "metadata": {},
   "outputs": [
    {
     "name": "stdout",
     "output_type": "stream",
     "text": [
      "There are  668  techniques with data sources ( 80%  of  839  techniques)\n"
     ]
    }
   ],
   "source": [
    "print('There are ',techniques['data_sources'].notna().sum(),' techniques with data sources (',\"{0:.0%}\".format(techniques['data_sources'].notna().sum()/len(techniques)),' of ',len(techniques),' techniques)')"
   ]
  },
  {
   "cell_type": "markdown",
   "metadata": {},
   "source": [
    "## Grouping Techniques With Data Sources By Matrix"
   ]
  },
  {
   "cell_type": "markdown",
   "metadata": {},
   "source": [
    "Let's create a graph to represent the number of techniques per matrix:"
   ]
  },
  {
   "cell_type": "code",
   "execution_count": 45,
   "metadata": {},
   "outputs": [
    {
     "data": {
      "text/html": [
       "\n",
       "<style>\n",
       "  #altair-viz-dbf7e1e518c54973bdd920afd067e2aa.vega-embed {\n",
       "    width: 100%;\n",
       "    display: flex;\n",
       "  }\n",
       "\n",
       "  #altair-viz-dbf7e1e518c54973bdd920afd067e2aa.vega-embed details,\n",
       "  #altair-viz-dbf7e1e518c54973bdd920afd067e2aa.vega-embed details summary {\n",
       "    position: relative;\n",
       "  }\n",
       "</style>\n",
       "<div id=\"altair-viz-dbf7e1e518c54973bdd920afd067e2aa\"></div>\n",
       "<script type=\"text/javascript\">\n",
       "  var VEGA_DEBUG = (typeof VEGA_DEBUG == \"undefined\") ? {} : VEGA_DEBUG;\n",
       "  (function(spec, embedOpt){\n",
       "    let outputDiv = document.currentScript.previousElementSibling;\n",
       "    if (outputDiv.id !== \"altair-viz-dbf7e1e518c54973bdd920afd067e2aa\") {\n",
       "      outputDiv = document.getElementById(\"altair-viz-dbf7e1e518c54973bdd920afd067e2aa\");\n",
       "    }\n",
       "    const paths = {\n",
       "      \"vega\": \"https://cdn.jsdelivr.net/npm/vega@5?noext\",\n",
       "      \"vega-lib\": \"https://cdn.jsdelivr.net/npm/vega-lib?noext\",\n",
       "      \"vega-lite\": \"https://cdn.jsdelivr.net/npm/vega-lite@5.17.0?noext\",\n",
       "      \"vega-embed\": \"https://cdn.jsdelivr.net/npm/vega-embed@6?noext\",\n",
       "    };\n",
       "\n",
       "    function maybeLoadScript(lib, version) {\n",
       "      var key = `${lib.replace(\"-\", \"\")}_version`;\n",
       "      return (VEGA_DEBUG[key] == version) ?\n",
       "        Promise.resolve(paths[lib]) :\n",
       "        new Promise(function(resolve, reject) {\n",
       "          var s = document.createElement('script');\n",
       "          document.getElementsByTagName(\"head\")[0].appendChild(s);\n",
       "          s.async = true;\n",
       "          s.onload = () => {\n",
       "            VEGA_DEBUG[key] = version;\n",
       "            return resolve(paths[lib]);\n",
       "          };\n",
       "          s.onerror = () => reject(`Error loading script: ${paths[lib]}`);\n",
       "          s.src = paths[lib];\n",
       "        });\n",
       "    }\n",
       "\n",
       "    function showError(err) {\n",
       "      outputDiv.innerHTML = `<div class=\"error\" style=\"color:red;\">${err}</div>`;\n",
       "      throw err;\n",
       "    }\n",
       "\n",
       "    function displayChart(vegaEmbed) {\n",
       "      vegaEmbed(outputDiv, spec, embedOpt)\n",
       "        .catch(err => showError(`Javascript Error: ${err.message}<br>This usually means there's a typo in your chart specification. See the javascript console for the full traceback.`));\n",
       "    }\n",
       "\n",
       "    if(typeof define === \"function\" && define.amd) {\n",
       "      requirejs.config({paths});\n",
       "      require([\"vega-embed\"], displayChart, err => showError(`Error loading script: ${err.message}`));\n",
       "    } else {\n",
       "      maybeLoadScript(\"vega\", \"5\")\n",
       "        .then(() => maybeLoadScript(\"vega-lite\", \"5.17.0\"))\n",
       "        .then(() => maybeLoadScript(\"vega-embed\", \"6\"))\n",
       "        .catch(showError)\n",
       "        .then(() => displayChart(vegaEmbed));\n",
       "    }\n",
       "  })({\"config\": {\"view\": {\"continuousWidth\": 300, \"continuousHeight\": 300}}, \"layer\": [{\"mark\": {\"type\": \"bar\"}, \"encoding\": {\"x\": {\"field\": \"Count of Techniques\", \"type\": \"quantitative\"}, \"y\": {\"field\": \"Domain\", \"type\": \"nominal\"}}}, {\"mark\": {\"type\": \"text\", \"align\": \"center\", \"baseline\": \"middle\", \"dx\": 10, \"dy\": 0}, \"encoding\": {\"text\": {\"field\": \"Count of Techniques\", \"type\": \"quantitative\"}, \"x\": {\"field\": \"Count of Techniques\", \"type\": \"quantitative\"}, \"y\": {\"field\": \"Domain\", \"type\": \"nominal\"}}}], \"data\": {\"name\": \"data-61f2c7983801f37c5c3ad8c8a48a291a\"}, \"height\": 100, \"width\": 300, \"$schema\": \"https://vega.github.io/schema/vega-lite/v5.17.0.json\", \"datasets\": {\"data-61f2c7983801f37c5c3ad8c8a48a291a\": [{\"Domain\": \"enterprise-attack\", \"Count of Techniques\": 597}, {\"Domain\": \"ics-attack\", \"Count of Techniques\": 71}]}}, {\"mode\": \"vega-lite\"});\n",
       "</script>"
      ],
      "text/plain": [
       "alt.LayerChart(...)"
      ]
     },
     "execution_count": 45,
     "metadata": {},
     "output_type": "execute_result"
    }
   ],
   "source": [
    "matrix_distribution = pandas.DataFrame({\n",
    "    'Domain': list(techniques_with_data_sources.groupby(['domain'])['domain'].count().keys()),\n",
    "    'Count of Techniques': techniques_with_data_sources.groupby(['domain'])['domain'].count().tolist()})\n",
    "bars = alt.Chart(matrix_distribution).mark_bar().encode(y='Domain',x='Count of Techniques').properties(width=300,height=100)\n",
    "text = bars.mark_text(align='center',baseline='middle',dx=10,dy=0).encode(text='Count of Techniques')\n",
    "bars + text"
   ]
  },
  {
   "cell_type": "markdown",
   "metadata": {},
   "source": [
    "All the techniques belong to **mitre-attack** matrix which is the main **Enterprise** matrix. Reference: https://attack.mitre.org/wiki/Main_Page "
   ]
  },
  {
   "cell_type": "markdown",
   "metadata": {},
   "source": [
    "## Grouping Techniques With Data Sources by Platform"
   ]
  },
  {
   "cell_type": "markdown",
   "metadata": {},
   "source": [
    "First, we need to split the **platform** column values because a technique might be mapped to more than one platform"
   ]
  },
  {
   "cell_type": "code",
   "execution_count": 46,
   "metadata": {},
   "outputs": [],
   "source": [
    "techniques_platform=techniques_with_data_sources\n",
    "\n",
    "attributes_1 = ['platform'] # In attributes we are going to indicate the name of the columns that we need to split\n",
    "\n",
    "for a in attributes_1:\n",
    "    s = techniques_platform.apply(lambda x: pandas.Series(x[a]),axis=1).stack().reset_index(level=1, drop=True)\n",
    "    # \"s\" is going to be a column of a frame with every value of the list inside each cell of the column \"a\"\n",
    "    s.name = a\n",
    "    # We name \"s\" with the same name of \"a\".\n",
    "    techniques_platform=techniques_platform.drop(a, axis=1).join(s).reset_index(drop=True)\n",
    "    # We drop the column \"a\" from \"techniques_platform\", and then join \"techniques_platform\" with \"s\"\n",
    "\n",
    "# Let's re-arrange the columns from general to specific\n",
    "techniques_platform_2=techniques_platform.reindex(['domain','platform','tactic','technique','technique_id','data_sources'], axis=1)"
   ]
  },
  {
   "cell_type": "markdown",
   "metadata": {},
   "source": [
    "We can now show techniques with data sources mapped to one platform at the time"
   ]
  },
  {
   "cell_type": "code",
   "execution_count": 47,
   "metadata": {},
   "outputs": [
    {
     "data": {
      "text/html": [
       "<div>\n",
       "<style scoped>\n",
       "    .dataframe tbody tr th:only-of-type {\n",
       "        vertical-align: middle;\n",
       "    }\n",
       "\n",
       "    .dataframe tbody tr th {\n",
       "        vertical-align: top;\n",
       "    }\n",
       "\n",
       "    .dataframe thead th {\n",
       "        text-align: right;\n",
       "    }\n",
       "</style>\n",
       "<table border=\"1\" class=\"dataframe\">\n",
       "  <thead>\n",
       "    <tr style=\"text-align: right;\">\n",
       "      <th></th>\n",
       "      <th>domain</th>\n",
       "      <th>platform</th>\n",
       "      <th>tactic</th>\n",
       "      <th>technique</th>\n",
       "      <th>technique_id</th>\n",
       "      <th>data_sources</th>\n",
       "    </tr>\n",
       "  </thead>\n",
       "  <tbody>\n",
       "    <tr>\n",
       "      <th>0</th>\n",
       "      <td>enterprise-attack</td>\n",
       "      <td>Windows</td>\n",
       "      <td>[{'kill_chain_name': 'mitre-attack', 'phase_na...</td>\n",
       "      <td>AutoHotKey &amp; AutoIT</td>\n",
       "      <td>T1059.010</td>\n",
       "      <td>[Process, Command]</td>\n",
       "    </tr>\n",
       "    <tr>\n",
       "      <th>1</th>\n",
       "      <td>enterprise-attack</td>\n",
       "      <td>Linux</td>\n",
       "      <td>[{'kill_chain_name': 'mitre-attack', 'phase_na...</td>\n",
       "      <td>File/Path Exclusions</td>\n",
       "      <td>T1564.012</td>\n",
       "      <td>[File]</td>\n",
       "    </tr>\n",
       "    <tr>\n",
       "      <th>2</th>\n",
       "      <td>enterprise-attack</td>\n",
       "      <td>macOS</td>\n",
       "      <td>[{'kill_chain_name': 'mitre-attack', 'phase_na...</td>\n",
       "      <td>File/Path Exclusions</td>\n",
       "      <td>T1564.012</td>\n",
       "      <td>[File]</td>\n",
       "    </tr>\n",
       "    <tr>\n",
       "      <th>3</th>\n",
       "      <td>enterprise-attack</td>\n",
       "      <td>Windows</td>\n",
       "      <td>[{'kill_chain_name': 'mitre-attack', 'phase_na...</td>\n",
       "      <td>File/Path Exclusions</td>\n",
       "      <td>T1564.012</td>\n",
       "      <td>[File]</td>\n",
       "    </tr>\n",
       "    <tr>\n",
       "      <th>4</th>\n",
       "      <td>enterprise-attack</td>\n",
       "      <td>Linux</td>\n",
       "      <td>[{'kill_chain_name': 'mitre-attack', 'phase_na...</td>\n",
       "      <td>Encrypted/Encoded File</td>\n",
       "      <td>T1027.013</td>\n",
       "      <td>[File]</td>\n",
       "    </tr>\n",
       "  </tbody>\n",
       "</table>\n",
       "</div>"
      ],
      "text/plain": [
       "              domain platform  \\\n",
       "0  enterprise-attack  Windows   \n",
       "1  enterprise-attack    Linux   \n",
       "2  enterprise-attack    macOS   \n",
       "3  enterprise-attack  Windows   \n",
       "4  enterprise-attack    Linux   \n",
       "\n",
       "                                              tactic               technique  \\\n",
       "0  [{'kill_chain_name': 'mitre-attack', 'phase_na...     AutoHotKey & AutoIT   \n",
       "1  [{'kill_chain_name': 'mitre-attack', 'phase_na...    File/Path Exclusions   \n",
       "2  [{'kill_chain_name': 'mitre-attack', 'phase_na...    File/Path Exclusions   \n",
       "3  [{'kill_chain_name': 'mitre-attack', 'phase_na...    File/Path Exclusions   \n",
       "4  [{'kill_chain_name': 'mitre-attack', 'phase_na...  Encrypted/Encoded File   \n",
       "\n",
       "  technique_id        data_sources  \n",
       "0    T1059.010  [Process, Command]  \n",
       "1    T1564.012              [File]  \n",
       "2    T1564.012              [File]  \n",
       "3    T1564.012              [File]  \n",
       "4    T1027.013              [File]  "
      ]
     },
     "execution_count": 47,
     "metadata": {},
     "output_type": "execute_result"
    }
   ],
   "source": [
    "techniques_platform_2.head()"
   ]
  },
  {
   "cell_type": "markdown",
   "metadata": {},
   "source": [
    "Let's create a visualization to show the number of techniques grouped by platform:"
   ]
  },
  {
   "cell_type": "code",
   "execution_count": 48,
   "metadata": {},
   "outputs": [
    {
     "data": {
      "text/html": [
       "\n",
       "<style>\n",
       "  #altair-viz-49a6c2fec53c4e249453a2300db2526b.vega-embed {\n",
       "    width: 100%;\n",
       "    display: flex;\n",
       "  }\n",
       "\n",
       "  #altair-viz-49a6c2fec53c4e249453a2300db2526b.vega-embed details,\n",
       "  #altair-viz-49a6c2fec53c4e249453a2300db2526b.vega-embed details summary {\n",
       "    position: relative;\n",
       "  }\n",
       "</style>\n",
       "<div id=\"altair-viz-49a6c2fec53c4e249453a2300db2526b\"></div>\n",
       "<script type=\"text/javascript\">\n",
       "  var VEGA_DEBUG = (typeof VEGA_DEBUG == \"undefined\") ? {} : VEGA_DEBUG;\n",
       "  (function(spec, embedOpt){\n",
       "    let outputDiv = document.currentScript.previousElementSibling;\n",
       "    if (outputDiv.id !== \"altair-viz-49a6c2fec53c4e249453a2300db2526b\") {\n",
       "      outputDiv = document.getElementById(\"altair-viz-49a6c2fec53c4e249453a2300db2526b\");\n",
       "    }\n",
       "    const paths = {\n",
       "      \"vega\": \"https://cdn.jsdelivr.net/npm/vega@5?noext\",\n",
       "      \"vega-lib\": \"https://cdn.jsdelivr.net/npm/vega-lib?noext\",\n",
       "      \"vega-lite\": \"https://cdn.jsdelivr.net/npm/vega-lite@5.17.0?noext\",\n",
       "      \"vega-embed\": \"https://cdn.jsdelivr.net/npm/vega-embed@6?noext\",\n",
       "    };\n",
       "\n",
       "    function maybeLoadScript(lib, version) {\n",
       "      var key = `${lib.replace(\"-\", \"\")}_version`;\n",
       "      return (VEGA_DEBUG[key] == version) ?\n",
       "        Promise.resolve(paths[lib]) :\n",
       "        new Promise(function(resolve, reject) {\n",
       "          var s = document.createElement('script');\n",
       "          document.getElementsByTagName(\"head\")[0].appendChild(s);\n",
       "          s.async = true;\n",
       "          s.onload = () => {\n",
       "            VEGA_DEBUG[key] = version;\n",
       "            return resolve(paths[lib]);\n",
       "          };\n",
       "          s.onerror = () => reject(`Error loading script: ${paths[lib]}`);\n",
       "          s.src = paths[lib];\n",
       "        });\n",
       "    }\n",
       "\n",
       "    function showError(err) {\n",
       "      outputDiv.innerHTML = `<div class=\"error\" style=\"color:red;\">${err}</div>`;\n",
       "      throw err;\n",
       "    }\n",
       "\n",
       "    function displayChart(vegaEmbed) {\n",
       "      vegaEmbed(outputDiv, spec, embedOpt)\n",
       "        .catch(err => showError(`Javascript Error: ${err.message}<br>This usually means there's a typo in your chart specification. See the javascript console for the full traceback.`));\n",
       "    }\n",
       "\n",
       "    if(typeof define === \"function\" && define.amd) {\n",
       "      requirejs.config({paths});\n",
       "      require([\"vega-embed\"], displayChart, err => showError(`Error loading script: ${err.message}`));\n",
       "    } else {\n",
       "      maybeLoadScript(\"vega\", \"5\")\n",
       "        .then(() => maybeLoadScript(\"vega-lite\", \"5.17.0\"))\n",
       "        .then(() => maybeLoadScript(\"vega-embed\", \"6\"))\n",
       "        .catch(showError)\n",
       "        .then(() => displayChart(vegaEmbed));\n",
       "    }\n",
       "  })({\"config\": {\"view\": {\"continuousWidth\": 300, \"continuousHeight\": 300}}, \"layer\": [{\"mark\": {\"type\": \"bar\"}, \"encoding\": {\"color\": {\"field\": \"Platform\", \"type\": \"nominal\"}, \"x\": {\"field\": \"Platform\", \"type\": \"nominal\"}, \"y\": {\"field\": \"Count of Techniques\", \"type\": \"quantitative\"}}}, {\"mark\": {\"type\": \"text\", \"align\": \"center\", \"baseline\": \"middle\", \"dx\": 0, \"dy\": -5}, \"encoding\": {\"color\": {\"field\": \"Platform\", \"type\": \"nominal\"}, \"text\": {\"field\": \"Count of Techniques\", \"type\": \"quantitative\"}, \"x\": {\"field\": \"Platform\", \"type\": \"nominal\"}, \"y\": {\"field\": \"Count of Techniques\", \"type\": \"quantitative\"}}}], \"data\": {\"name\": \"data-e4cfb7c867509066b4eeac66fdd173b4\"}, \"height\": 300, \"width\": 200, \"$schema\": \"https://vega.github.io/schema/vega-lite/v5.17.0.json\", \"datasets\": {\"data-e4cfb7c867509066b4eeac66fdd173b4\": [{\"Platform\": \"Azure AD\", \"Count of Techniques\": 47}, {\"Platform\": \"Containers\", \"Count of Techniques\": 44}, {\"Platform\": \"Google Workspace\", \"Count of Techniques\": 63}, {\"Platform\": \"IaaS\", \"Count of Techniques\": 94}, {\"Platform\": \"Linux\", \"Count of Techniques\": 314}, {\"Platform\": \"Network\", \"Count of Techniques\": 94}, {\"Platform\": \"None\", \"Count of Techniques\": 70}, {\"Platform\": \"Office 365\", \"Count of Techniques\": 79}, {\"Platform\": \"PRE\", \"Count of Techniques\": 51}, {\"Platform\": \"SaaS\", \"Count of Techniques\": 69}, {\"Platform\": \"Windows\", \"Count of Techniques\": 438}, {\"Platform\": \"macOS\", \"Count of Techniques\": 321}]}}, {\"mode\": \"vega-lite\"});\n",
       "</script>"
      ],
      "text/plain": [
       "alt.LayerChart(...)"
      ]
     },
     "execution_count": 48,
     "metadata": {},
     "output_type": "execute_result"
    }
   ],
   "source": [
    "platform_distribution = pandas.DataFrame({\n",
    "    'Platform': list(techniques_platform_2.groupby(['platform'])['platform'].count().keys()),\n",
    "    'Count of Techniques': techniques_platform_2.groupby(['platform'])['platform'].count().tolist()})\n",
    "bars = alt.Chart(platform_distribution,height=300).mark_bar().encode(x ='Platform',y='Count of Techniques',color='Platform').properties(width=200)\n",
    "text = bars.mark_text(align='center',baseline='middle',dx=0,dy=-5).encode(text='Count of Techniques')\n",
    "bars + text"
   ]
  },
  {
   "cell_type": "markdown",
   "metadata": {},
   "source": [
    "In the bar chart above we can see that there are more techniques with data sources mapped to the Windows platform."
   ]
  },
  {
   "cell_type": "markdown",
   "metadata": {},
   "source": [
    "Defende-evasion and Persistence are tactics with the highest nummber of techniques with data sources"
   ]
  },
  {
   "cell_type": "markdown",
   "metadata": {},
   "source": [
    "## Grouping Techniques With Data Sources by Data Source"
   ]
  },
  {
   "cell_type": "markdown",
   "metadata": {},
   "source": [
    "We need to split the data source column values because a technique might be mapped to more than one data source:"
   ]
  },
  {
   "cell_type": "code",
   "execution_count": 49,
   "metadata": {},
   "outputs": [],
   "source": [
    "techniques_data_source=techniques_with_data_sources\n",
    "\n",
    "attributes_3 = ['data_sources'] # In attributes we are going to indicate the name of the columns that we need to split\n",
    "\n",
    "for a in attributes_3:\n",
    "    s = techniques_data_source.apply(lambda x: pandas.Series(x[a]),axis=1).stack().reset_index(level=1, drop=True)\n",
    "    # \"s\" is going to be a column of a frame with every value of the list inside each cell of the column \"a\"\n",
    "    s.name = a\n",
    "    # We name \"s\" with the same name of \"a\".\n",
    "    techniques_data_source = techniques_data_source.drop(a, axis=1).join(s).reset_index(drop=True)\n",
    "    # We drop the column \"a\" from \"techniques_data_source\", and then join \"techniques_data_source\" with \"s\"\n",
    "\n",
    "# Let's re-arrange the columns from general to specific\n",
    "techniques_data_source_2 = techniques_data_source.reindex(['domain','platform','tactic','technique','technique_id','data_sources'], axis=1)\n",
    "\n",
    "# We are going to edit some names inside the dataframe to improve the consistency:\n",
    "techniques_data_source_3 = techniques_data_source_2.replace(['Process monitoring','Application logs'],['Process Monitoring','Application Logs'])"
   ]
  },
  {
   "cell_type": "markdown",
   "metadata": {},
   "source": [
    "We can now show techniques with data sources mapped to one data source at the time"
   ]
  },
  {
   "cell_type": "code",
   "execution_count": 50,
   "metadata": {},
   "outputs": [
    {
     "data": {
      "text/html": [
       "<div>\n",
       "<style scoped>\n",
       "    .dataframe tbody tr th:only-of-type {\n",
       "        vertical-align: middle;\n",
       "    }\n",
       "\n",
       "    .dataframe tbody tr th {\n",
       "        vertical-align: top;\n",
       "    }\n",
       "\n",
       "    .dataframe thead th {\n",
       "        text-align: right;\n",
       "    }\n",
       "</style>\n",
       "<table border=\"1\" class=\"dataframe\">\n",
       "  <thead>\n",
       "    <tr style=\"text-align: right;\">\n",
       "      <th></th>\n",
       "      <th>domain</th>\n",
       "      <th>platform</th>\n",
       "      <th>tactic</th>\n",
       "      <th>technique</th>\n",
       "      <th>technique_id</th>\n",
       "      <th>data_sources</th>\n",
       "    </tr>\n",
       "  </thead>\n",
       "  <tbody>\n",
       "    <tr>\n",
       "      <th>0</th>\n",
       "      <td>enterprise-attack</td>\n",
       "      <td>[Windows]</td>\n",
       "      <td>[{'kill_chain_name': 'mitre-attack', 'phase_na...</td>\n",
       "      <td>AutoHotKey &amp; AutoIT</td>\n",
       "      <td>T1059.010</td>\n",
       "      <td>Process</td>\n",
       "    </tr>\n",
       "    <tr>\n",
       "      <th>1</th>\n",
       "      <td>enterprise-attack</td>\n",
       "      <td>[Windows]</td>\n",
       "      <td>[{'kill_chain_name': 'mitre-attack', 'phase_na...</td>\n",
       "      <td>AutoHotKey &amp; AutoIT</td>\n",
       "      <td>T1059.010</td>\n",
       "      <td>Command</td>\n",
       "    </tr>\n",
       "    <tr>\n",
       "      <th>2</th>\n",
       "      <td>enterprise-attack</td>\n",
       "      <td>[Linux, macOS, Windows]</td>\n",
       "      <td>[{'kill_chain_name': 'mitre-attack', 'phase_na...</td>\n",
       "      <td>File/Path Exclusions</td>\n",
       "      <td>T1564.012</td>\n",
       "      <td>File</td>\n",
       "    </tr>\n",
       "    <tr>\n",
       "      <th>3</th>\n",
       "      <td>enterprise-attack</td>\n",
       "      <td>[Linux, macOS, Windows]</td>\n",
       "      <td>[{'kill_chain_name': 'mitre-attack', 'phase_na...</td>\n",
       "      <td>Encrypted/Encoded File</td>\n",
       "      <td>T1027.013</td>\n",
       "      <td>File</td>\n",
       "    </tr>\n",
       "    <tr>\n",
       "      <th>4</th>\n",
       "      <td>enterprise-attack</td>\n",
       "      <td>[Windows]</td>\n",
       "      <td>[{'kill_chain_name': 'mitre-attack', 'phase_na...</td>\n",
       "      <td>AppDomainManager</td>\n",
       "      <td>T1574.014</td>\n",
       "      <td>Module</td>\n",
       "    </tr>\n",
       "  </tbody>\n",
       "</table>\n",
       "</div>"
      ],
      "text/plain": [
       "              domain                 platform  \\\n",
       "0  enterprise-attack                [Windows]   \n",
       "1  enterprise-attack                [Windows]   \n",
       "2  enterprise-attack  [Linux, macOS, Windows]   \n",
       "3  enterprise-attack  [Linux, macOS, Windows]   \n",
       "4  enterprise-attack                [Windows]   \n",
       "\n",
       "                                              tactic               technique  \\\n",
       "0  [{'kill_chain_name': 'mitre-attack', 'phase_na...     AutoHotKey & AutoIT   \n",
       "1  [{'kill_chain_name': 'mitre-attack', 'phase_na...     AutoHotKey & AutoIT   \n",
       "2  [{'kill_chain_name': 'mitre-attack', 'phase_na...    File/Path Exclusions   \n",
       "3  [{'kill_chain_name': 'mitre-attack', 'phase_na...  Encrypted/Encoded File   \n",
       "4  [{'kill_chain_name': 'mitre-attack', 'phase_na...        AppDomainManager   \n",
       "\n",
       "  technique_id data_sources  \n",
       "0    T1059.010      Process  \n",
       "1    T1059.010      Command  \n",
       "2    T1564.012         File  \n",
       "3    T1027.013         File  \n",
       "4    T1574.014       Module  "
      ]
     },
     "execution_count": 50,
     "metadata": {},
     "output_type": "execute_result"
    }
   ],
   "source": [
    "techniques_data_source_3.head()"
   ]
  },
  {
   "cell_type": "markdown",
   "metadata": {},
   "source": [
    "Let's create a visualization to show the number of techniques grouped by data sources:"
   ]
  },
  {
   "cell_type": "code",
   "execution_count": 51,
   "metadata": {},
   "outputs": [
    {
     "data": {
      "text/html": [
       "\n",
       "<style>\n",
       "  #altair-viz-ef822537ec924dc4b3e328f088472bd9.vega-embed {\n",
       "    width: 100%;\n",
       "    display: flex;\n",
       "  }\n",
       "\n",
       "  #altair-viz-ef822537ec924dc4b3e328f088472bd9.vega-embed details,\n",
       "  #altair-viz-ef822537ec924dc4b3e328f088472bd9.vega-embed details summary {\n",
       "    position: relative;\n",
       "  }\n",
       "</style>\n",
       "<div id=\"altair-viz-ef822537ec924dc4b3e328f088472bd9\"></div>\n",
       "<script type=\"text/javascript\">\n",
       "  var VEGA_DEBUG = (typeof VEGA_DEBUG == \"undefined\") ? {} : VEGA_DEBUG;\n",
       "  (function(spec, embedOpt){\n",
       "    let outputDiv = document.currentScript.previousElementSibling;\n",
       "    if (outputDiv.id !== \"altair-viz-ef822537ec924dc4b3e328f088472bd9\") {\n",
       "      outputDiv = document.getElementById(\"altair-viz-ef822537ec924dc4b3e328f088472bd9\");\n",
       "    }\n",
       "    const paths = {\n",
       "      \"vega\": \"https://cdn.jsdelivr.net/npm/vega@5?noext\",\n",
       "      \"vega-lib\": \"https://cdn.jsdelivr.net/npm/vega-lib?noext\",\n",
       "      \"vega-lite\": \"https://cdn.jsdelivr.net/npm/vega-lite@5.17.0?noext\",\n",
       "      \"vega-embed\": \"https://cdn.jsdelivr.net/npm/vega-embed@6?noext\",\n",
       "    };\n",
       "\n",
       "    function maybeLoadScript(lib, version) {\n",
       "      var key = `${lib.replace(\"-\", \"\")}_version`;\n",
       "      return (VEGA_DEBUG[key] == version) ?\n",
       "        Promise.resolve(paths[lib]) :\n",
       "        new Promise(function(resolve, reject) {\n",
       "          var s = document.createElement('script');\n",
       "          document.getElementsByTagName(\"head\")[0].appendChild(s);\n",
       "          s.async = true;\n",
       "          s.onload = () => {\n",
       "            VEGA_DEBUG[key] = version;\n",
       "            return resolve(paths[lib]);\n",
       "          };\n",
       "          s.onerror = () => reject(`Error loading script: ${paths[lib]}`);\n",
       "          s.src = paths[lib];\n",
       "        });\n",
       "    }\n",
       "\n",
       "    function showError(err) {\n",
       "      outputDiv.innerHTML = `<div class=\"error\" style=\"color:red;\">${err}</div>`;\n",
       "      throw err;\n",
       "    }\n",
       "\n",
       "    function displayChart(vegaEmbed) {\n",
       "      vegaEmbed(outputDiv, spec, embedOpt)\n",
       "        .catch(err => showError(`Javascript Error: ${err.message}<br>This usually means there's a typo in your chart specification. See the javascript console for the full traceback.`));\n",
       "    }\n",
       "\n",
       "    if(typeof define === \"function\" && define.amd) {\n",
       "      requirejs.config({paths});\n",
       "      require([\"vega-embed\"], displayChart, err => showError(`Error loading script: ${err.message}`));\n",
       "    } else {\n",
       "      maybeLoadScript(\"vega\", \"5\")\n",
       "        .then(() => maybeLoadScript(\"vega-lite\", \"5.17.0\"))\n",
       "        .then(() => maybeLoadScript(\"vega-embed\", \"6\"))\n",
       "        .catch(showError)\n",
       "        .then(() => displayChart(vegaEmbed));\n",
       "    }\n",
       "  })({\"config\": {\"view\": {\"continuousWidth\": 300, \"continuousHeight\": 300}}, \"layer\": [{\"mark\": {\"type\": \"bar\"}, \"encoding\": {\"color\": {\"field\": \"Data Source\", \"type\": \"nominal\"}, \"x\": {\"field\": \"Data Source\", \"type\": \"nominal\"}, \"y\": {\"field\": \"Count of Techniques\", \"type\": \"quantitative\"}}}, {\"mark\": {\"type\": \"text\", \"align\": \"center\", \"baseline\": \"middle\", \"dx\": 0, \"dy\": -5}, \"encoding\": {\"color\": {\"field\": \"Data Source\", \"type\": \"nominal\"}, \"text\": {\"field\": \"Count of Techniques\", \"type\": \"quantitative\"}, \"x\": {\"field\": \"Data Source\", \"type\": \"nominal\"}, \"y\": {\"field\": \"Count of Techniques\", \"type\": \"quantitative\"}}}], \"data\": {\"name\": \"data-a29ef6ed8370624f0c8e078fd4306693\"}, \"height\": 300, \"width\": 1200, \"$schema\": \"https://vega.github.io/schema/vega-lite/v5.17.0.json\", \"datasets\": {\"data-a29ef6ed8370624f0c8e078fd4306693\": [{\"Data Source\": \"Active Directory\", \"Count of Techniques\": 30}, {\"Data Source\": \"Application Log\", \"Count of Techniques\": 116}, {\"Data Source\": \"Asset\", \"Count of Techniques\": 8}, {\"Data Source\": \"Certificate\", \"Count of Techniques\": 2}, {\"Data Source\": \"Cloud Service\", \"Count of Techniques\": 12}, {\"Data Source\": \"Cloud Storage\", \"Count of Techniques\": 8}, {\"Data Source\": \"Command\", \"Count of Techniques\": 296}, {\"Data Source\": \"Container\", \"Count of Techniques\": 9}, {\"Data Source\": \"Domain Name\", \"Count of Techniques\": 6}, {\"Data Source\": \"Drive\", \"Count of Techniques\": 14}, {\"Data Source\": \"Driver\", \"Count of Techniques\": 16}, {\"Data Source\": \"File\", \"Count of Techniques\": 239}, {\"Data Source\": \"Firewall\", \"Count of Techniques\": 7}, {\"Data Source\": \"Firmware\", \"Count of Techniques\": 12}, {\"Data Source\": \"Group\", \"Count of Techniques\": 8}, {\"Data Source\": \"Image\", \"Count of Techniques\": 8}, {\"Data Source\": \"Instance\", \"Count of Techniques\": 9}, {\"Data Source\": \"Internet Scan\", \"Count of Techniques\": 28}, {\"Data Source\": \"Kernel\", \"Count of Techniques\": 3}, {\"Data Source\": \"Logon Session\", \"Count of Techniques\": 52}, {\"Data Source\": \"Malware Repository\", \"Count of Techniques\": 7}, {\"Data Source\": \"Module\", \"Count of Techniques\": 58}, {\"Data Source\": \"Named Pipe\", \"Count of Techniques\": 1}, {\"Data Source\": \"Network Share\", \"Count of Techniques\": 9}, {\"Data Source\": \"Network Traffic\", \"Count of Techniques\": 196}, {\"Data Source\": \"Operational Databases\", \"Count of Techniques\": 20}, {\"Data Source\": \"Persona\", \"Count of Techniques\": 4}, {\"Data Source\": \"Pod\", \"Count of Techniques\": 2}, {\"Data Source\": \"Process\", \"Count of Techniques\": 321}, {\"Data Source\": \"Scheduled Job\", \"Count of Techniques\": 11}, {\"Data Source\": \"Script\", \"Count of Techniques\": 36}, {\"Data Source\": \"Sensor Health\", \"Count of Techniques\": 18}, {\"Data Source\": \"Service\", \"Count of Techniques\": 27}, {\"Data Source\": \"Snapshot\", \"Count of Techniques\": 6}, {\"Data Source\": \"User Account\", \"Count of Techniques\": 50}, {\"Data Source\": \"Volume\", \"Count of Techniques\": 4}, {\"Data Source\": \"WMI\", \"Count of Techniques\": 6}, {\"Data Source\": \"Web Credential\", \"Count of Techniques\": 6}, {\"Data Source\": \"Windows Registry\", \"Count of Techniques\": 87}]}}, {\"mode\": \"vega-lite\"});\n",
       "</script>"
      ],
      "text/plain": [
       "alt.LayerChart(...)"
      ]
     },
     "execution_count": 51,
     "metadata": {},
     "output_type": "execute_result"
    }
   ],
   "source": [
    "data_source_distribution = pandas.DataFrame({\n",
    "    'Data Source': list(techniques_data_source_3.groupby(['data_sources'])['data_sources'].count().keys()),\n",
    "    'Count of Techniques': techniques_data_source_3.groupby(['data_sources'])['data_sources'].count().tolist()})\n",
    "bars = alt.Chart(data_source_distribution,width=800,height=300).mark_bar().encode(x ='Data Source',y='Count of Techniques',color='Data Source').properties(width=1200)\n",
    "text = bars.mark_text(align='center',baseline='middle',dx=0,dy=-5).encode(text='Count of Techniques')\n",
    "bars + text"
   ]
  },
  {
   "cell_type": "markdown",
   "metadata": {},
   "source": [
    "A few interesting things from the bar chart above:\n",
    "* Process Monitoring, File Monitoring, and Process Command-line parameters are the Data Sources with the highest number of techniques\n",
    "* There are some data source names that include string references to Windows such as PowerShell, Windows and wmi"
   ]
  },
  {
   "cell_type": "markdown",
   "metadata": {},
   "source": [
    "## Most Relevant Groups Of Data Sources Per Technique"
   ]
  },
  {
   "cell_type": "markdown",
   "metadata": {},
   "source": [
    "### Number Of Data Sources Per Technique"
   ]
  },
  {
   "cell_type": "markdown",
   "metadata": {},
   "source": [
    "Although identifying the data sources with the highest number of techniques is a good start, they usually do not work alone. You might be collecting **Process Monitoring** already but you might be still missing a lot of context from a data perspective."
   ]
  },
  {
   "cell_type": "code",
   "execution_count": 52,
   "metadata": {},
   "outputs": [
    {
     "data": {
      "text/html": [
       "\n",
       "<style>\n",
       "  #altair-viz-e17f29a9f1b34c3bb104ef1c9c79bc93.vega-embed {\n",
       "    width: 100%;\n",
       "    display: flex;\n",
       "  }\n",
       "\n",
       "  #altair-viz-e17f29a9f1b34c3bb104ef1c9c79bc93.vega-embed details,\n",
       "  #altair-viz-e17f29a9f1b34c3bb104ef1c9c79bc93.vega-embed details summary {\n",
       "    position: relative;\n",
       "  }\n",
       "</style>\n",
       "<div id=\"altair-viz-e17f29a9f1b34c3bb104ef1c9c79bc93\"></div>\n",
       "<script type=\"text/javascript\">\n",
       "  var VEGA_DEBUG = (typeof VEGA_DEBUG == \"undefined\") ? {} : VEGA_DEBUG;\n",
       "  (function(spec, embedOpt){\n",
       "    let outputDiv = document.currentScript.previousElementSibling;\n",
       "    if (outputDiv.id !== \"altair-viz-e17f29a9f1b34c3bb104ef1c9c79bc93\") {\n",
       "      outputDiv = document.getElementById(\"altair-viz-e17f29a9f1b34c3bb104ef1c9c79bc93\");\n",
       "    }\n",
       "    const paths = {\n",
       "      \"vega\": \"https://cdn.jsdelivr.net/npm/vega@5?noext\",\n",
       "      \"vega-lib\": \"https://cdn.jsdelivr.net/npm/vega-lib?noext\",\n",
       "      \"vega-lite\": \"https://cdn.jsdelivr.net/npm/vega-lite@5.17.0?noext\",\n",
       "      \"vega-embed\": \"https://cdn.jsdelivr.net/npm/vega-embed@6?noext\",\n",
       "    };\n",
       "\n",
       "    function maybeLoadScript(lib, version) {\n",
       "      var key = `${lib.replace(\"-\", \"\")}_version`;\n",
       "      return (VEGA_DEBUG[key] == version) ?\n",
       "        Promise.resolve(paths[lib]) :\n",
       "        new Promise(function(resolve, reject) {\n",
       "          var s = document.createElement('script');\n",
       "          document.getElementsByTagName(\"head\")[0].appendChild(s);\n",
       "          s.async = true;\n",
       "          s.onload = () => {\n",
       "            VEGA_DEBUG[key] = version;\n",
       "            return resolve(paths[lib]);\n",
       "          };\n",
       "          s.onerror = () => reject(`Error loading script: ${paths[lib]}`);\n",
       "          s.src = paths[lib];\n",
       "        });\n",
       "    }\n",
       "\n",
       "    function showError(err) {\n",
       "      outputDiv.innerHTML = `<div class=\"error\" style=\"color:red;\">${err}</div>`;\n",
       "      throw err;\n",
       "    }\n",
       "\n",
       "    function displayChart(vegaEmbed) {\n",
       "      vegaEmbed(outputDiv, spec, embedOpt)\n",
       "        .catch(err => showError(`Javascript Error: ${err.message}<br>This usually means there's a typo in your chart specification. See the javascript console for the full traceback.`));\n",
       "    }\n",
       "\n",
       "    if(typeof define === \"function\" && define.amd) {\n",
       "      requirejs.config({paths});\n",
       "      require([\"vega-embed\"], displayChart, err => showError(`Error loading script: ${err.message}`));\n",
       "    } else {\n",
       "      maybeLoadScript(\"vega\", \"5\")\n",
       "        .then(() => maybeLoadScript(\"vega-lite\", \"5.17.0\"))\n",
       "        .then(() => maybeLoadScript(\"vega-embed\", \"6\"))\n",
       "        .catch(showError)\n",
       "        .then(() => displayChart(vegaEmbed));\n",
       "    }\n",
       "  })({\"config\": {\"view\": {\"continuousWidth\": 300, \"continuousHeight\": 300}}, \"layer\": [{\"mark\": {\"type\": \"bar\"}, \"encoding\": {\"x\": {\"field\": \"Number of Data Sources\", \"type\": \"quantitative\"}, \"y\": {\"field\": \"Count of Techniques\", \"type\": \"quantitative\"}}}, {\"mark\": {\"type\": \"text\", \"align\": \"center\", \"baseline\": \"middle\", \"dx\": 0, \"dy\": -5}, \"encoding\": {\"text\": {\"field\": \"Count of Techniques\", \"type\": \"quantitative\"}, \"x\": {\"field\": \"Number of Data Sources\", \"type\": \"quantitative\"}, \"y\": {\"field\": \"Count of Techniques\", \"type\": \"quantitative\"}}}], \"data\": {\"name\": \"data-ffe9e82a841b42d7e7713d3dc0b9f971\"}, \"width\": 500, \"$schema\": \"https://vega.github.io/schema/vega-lite/v5.17.0.json\", \"datasets\": {\"data-ffe9e82a841b42d7e7713d3dc0b9f971\": [{\"Number of Data Sources\": 1, \"Count of Techniques\": 155}, {\"Number of Data Sources\": 2, \"Count of Techniques\": 154}, {\"Number of Data Sources\": 3, \"Count of Techniques\": 156}, {\"Number of Data Sources\": 4, \"Count of Techniques\": 94}, {\"Number of Data Sources\": 5, \"Count of Techniques\": 27}, {\"Number of Data Sources\": 6, \"Count of Techniques\": 15}, {\"Number of Data Sources\": 7, \"Count of Techniques\": 10}, {\"Number of Data Sources\": 8, \"Count of Techniques\": 2}, {\"Number of Data Sources\": 9, \"Count of Techniques\": 6}, {\"Number of Data Sources\": 10, \"Count of Techniques\": 1}, {\"Number of Data Sources\": 11, \"Count of Techniques\": 4}, {\"Number of Data Sources\": 13, \"Count of Techniques\": 2}]}}, {\"mode\": \"vega-lite\"});\n",
       "</script>"
      ],
      "text/plain": [
       "alt.LayerChart(...)"
      ]
     },
     "execution_count": 52,
     "metadata": {},
     "output_type": "execute_result"
    }
   ],
   "source": [
    "data_source_distribution_2 = pandas.DataFrame({\n",
    "    'Techniques': list(techniques_data_source_3.groupby(['technique'])['technique'].count().keys()),\n",
    "    'Count of Data Sources': techniques_data_source_3.groupby(['technique'])['technique'].count().tolist()})\n",
    "\n",
    "data_source_distribution_3 = pandas.DataFrame({\n",
    "    'Number of Data Sources': list(data_source_distribution_2.groupby(['Count of Data Sources'])['Count of Data Sources'].count().keys()),\n",
    "    'Count of Techniques': data_source_distribution_2.groupby(['Count of Data Sources'])['Count of Data Sources'].count().tolist()})\n",
    "\n",
    "bars = alt.Chart(data_source_distribution_3).mark_bar().encode(x ='Number of Data Sources',y='Count of Techniques').properties(width=500)\n",
    "text = bars.mark_text(align='center',baseline='middle',dx=0,dy=-5).encode(text='Count of Techniques')\n",
    "bars + text"
   ]
  },
  {
   "cell_type": "markdown",
   "metadata": {},
   "source": [
    "The image above shows you the number data sources needed per techniques according to ATT&CK:\n",
    "* There are 71 techniques that require 3 data sources as enough context to validate the detection of them according to ATT&CK\n",
    "* Only one technique has 12 data sources\n",
    "* One data source only applies to 19 techniques"
   ]
  },
  {
   "cell_type": "markdown",
   "metadata": {},
   "source": [
    "Let's create subsets of data sources with the data source column defining and using a python function:"
   ]
  },
  {
   "cell_type": "code",
   "execution_count": 53,
   "metadata": {},
   "outputs": [],
   "source": [
    "# https://stackoverflow.com/questions/26332412/python-recursive-function-to-display-all-subsets-of-given-set\n",
    "def subs(l):\n",
    "    res = []\n",
    "    for i in range(1, len(l) + 1):\n",
    "        for combo in itertools.combinations(l, i):\n",
    "            res.append(list(combo))\n",
    "    return res"
   ]
  },
  {
   "cell_type": "markdown",
   "metadata": {},
   "source": [
    "Before applying the function, we need to use lowercase data sources names and sort data sources names to improve consistency:"
   ]
  },
  {
   "cell_type": "code",
   "execution_count": 54,
   "metadata": {},
   "outputs": [],
   "source": [
    "df = techniques_with_data_sources[['data_sources']]"
   ]
  },
  {
   "cell_type": "code",
   "execution_count": 55,
   "metadata": {},
   "outputs": [],
   "source": [
    "for index, row in df.iterrows():\n",
    "    row[\"data_sources\"]=[x.lower() for x in row[\"data_sources\"]]\n",
    "    row[\"data_sources\"].sort()"
   ]
  },
  {
   "cell_type": "code",
   "execution_count": 56,
   "metadata": {},
   "outputs": [
    {
     "data": {
      "text/html": [
       "<div>\n",
       "<style scoped>\n",
       "    .dataframe tbody tr th:only-of-type {\n",
       "        vertical-align: middle;\n",
       "    }\n",
       "\n",
       "    .dataframe tbody tr th {\n",
       "        vertical-align: top;\n",
       "    }\n",
       "\n",
       "    .dataframe thead th {\n",
       "        text-align: right;\n",
       "    }\n",
       "</style>\n",
       "<table border=\"1\" class=\"dataframe\">\n",
       "  <thead>\n",
       "    <tr style=\"text-align: right;\">\n",
       "      <th></th>\n",
       "      <th>data_sources</th>\n",
       "    </tr>\n",
       "  </thead>\n",
       "  <tbody>\n",
       "    <tr>\n",
       "      <th>0</th>\n",
       "      <td>[command, process]</td>\n",
       "    </tr>\n",
       "    <tr>\n",
       "      <th>1</th>\n",
       "      <td>[file]</td>\n",
       "    </tr>\n",
       "    <tr>\n",
       "      <th>2</th>\n",
       "      <td>[file]</td>\n",
       "    </tr>\n",
       "    <tr>\n",
       "      <th>3</th>\n",
       "      <td>[file, module, process]</td>\n",
       "    </tr>\n",
       "    <tr>\n",
       "      <th>4</th>\n",
       "      <td>[internet scan]</td>\n",
       "    </tr>\n",
       "  </tbody>\n",
       "</table>\n",
       "</div>"
      ],
      "text/plain": [
       "              data_sources\n",
       "0       [command, process]\n",
       "1                   [file]\n",
       "2                   [file]\n",
       "3  [file, module, process]\n",
       "4          [internet scan]"
      ]
     },
     "execution_count": 56,
     "metadata": {},
     "output_type": "execute_result"
    }
   ],
   "source": [
    "df.head()"
   ]
  },
  {
   "cell_type": "markdown",
   "metadata": {},
   "source": [
    "Let's apply the function and split the subsets column:"
   ]
  },
  {
   "cell_type": "code",
   "execution_count": 57,
   "metadata": {},
   "outputs": [
    {
     "name": "stderr",
     "output_type": "stream",
     "text": [
      "/var/folders/9z/8xhqw8x1611fcbhzl339yrs40000gn/T/ipykernel_90478/1660526906.py:1: SettingWithCopyWarning: \n",
      "A value is trying to be set on a copy of a slice from a DataFrame.\n",
      "Try using .loc[row_indexer,col_indexer] = value instead\n",
      "\n",
      "See the caveats in the documentation: https://pandas.pydata.org/pandas-docs/stable/user_guide/indexing.html#returning-a-view-versus-a-copy\n",
      "  df['subsets']=df['data_sources'].apply(subs)\n"
     ]
    }
   ],
   "source": [
    "df['subsets']=df['data_sources'].apply(subs)"
   ]
  },
  {
   "cell_type": "code",
   "execution_count": 58,
   "metadata": {},
   "outputs": [
    {
     "data": {
      "text/html": [
       "<div>\n",
       "<style scoped>\n",
       "    .dataframe tbody tr th:only-of-type {\n",
       "        vertical-align: middle;\n",
       "    }\n",
       "\n",
       "    .dataframe tbody tr th {\n",
       "        vertical-align: top;\n",
       "    }\n",
       "\n",
       "    .dataframe thead th {\n",
       "        text-align: right;\n",
       "    }\n",
       "</style>\n",
       "<table border=\"1\" class=\"dataframe\">\n",
       "  <thead>\n",
       "    <tr style=\"text-align: right;\">\n",
       "      <th></th>\n",
       "      <th>data_sources</th>\n",
       "      <th>subsets</th>\n",
       "    </tr>\n",
       "  </thead>\n",
       "  <tbody>\n",
       "    <tr>\n",
       "      <th>0</th>\n",
       "      <td>[command, process]</td>\n",
       "      <td>[[command], [process], [command, process]]</td>\n",
       "    </tr>\n",
       "    <tr>\n",
       "      <th>1</th>\n",
       "      <td>[file]</td>\n",
       "      <td>[[file]]</td>\n",
       "    </tr>\n",
       "    <tr>\n",
       "      <th>2</th>\n",
       "      <td>[file]</td>\n",
       "      <td>[[file]]</td>\n",
       "    </tr>\n",
       "    <tr>\n",
       "      <th>3</th>\n",
       "      <td>[file, module, process]</td>\n",
       "      <td>[[file], [module], [process], [file, module], ...</td>\n",
       "    </tr>\n",
       "    <tr>\n",
       "      <th>4</th>\n",
       "      <td>[internet scan]</td>\n",
       "      <td>[[internet scan]]</td>\n",
       "    </tr>\n",
       "  </tbody>\n",
       "</table>\n",
       "</div>"
      ],
      "text/plain": [
       "              data_sources                                            subsets\n",
       "0       [command, process]         [[command], [process], [command, process]]\n",
       "1                   [file]                                           [[file]]\n",
       "2                   [file]                                           [[file]]\n",
       "3  [file, module, process]  [[file], [module], [process], [file, module], ...\n",
       "4          [internet scan]                                  [[internet scan]]"
      ]
     },
     "execution_count": 58,
     "metadata": {},
     "output_type": "execute_result"
    }
   ],
   "source": [
    "df.head()"
   ]
  },
  {
   "cell_type": "markdown",
   "metadata": {},
   "source": [
    "We need to split the subsets column values:"
   ]
  },
  {
   "cell_type": "code",
   "execution_count": 59,
   "metadata": {},
   "outputs": [],
   "source": [
    "techniques_with_data_sources_preview = df"
   ]
  },
  {
   "cell_type": "code",
   "execution_count": 60,
   "metadata": {},
   "outputs": [],
   "source": [
    "attributes_4 = ['subsets']\n",
    "\n",
    "for a in attributes_4:\n",
    "    s = techniques_with_data_sources_preview.apply(lambda x: pandas.Series(x[a]),axis=1).stack().reset_index(level=1, drop=True)\n",
    "    s.name = a\n",
    "    techniques_with_data_sources_preview = techniques_with_data_sources_preview.drop(a, axis=1).join(s).reset_index(drop=True)\n",
    "    \n",
    "techniques_with_data_sources_subsets = techniques_with_data_sources_preview.reindex(['data_sources','subsets'], axis=1)\n"
   ]
  },
  {
   "cell_type": "code",
   "execution_count": 61,
   "metadata": {},
   "outputs": [
    {
     "data": {
      "text/html": [
       "<div>\n",
       "<style scoped>\n",
       "    .dataframe tbody tr th:only-of-type {\n",
       "        vertical-align: middle;\n",
       "    }\n",
       "\n",
       "    .dataframe tbody tr th {\n",
       "        vertical-align: top;\n",
       "    }\n",
       "\n",
       "    .dataframe thead th {\n",
       "        text-align: right;\n",
       "    }\n",
       "</style>\n",
       "<table border=\"1\" class=\"dataframe\">\n",
       "  <thead>\n",
       "    <tr style=\"text-align: right;\">\n",
       "      <th></th>\n",
       "      <th>data_sources</th>\n",
       "      <th>subsets</th>\n",
       "    </tr>\n",
       "  </thead>\n",
       "  <tbody>\n",
       "    <tr>\n",
       "      <th>0</th>\n",
       "      <td>[command, process]</td>\n",
       "      <td>[command]</td>\n",
       "    </tr>\n",
       "    <tr>\n",
       "      <th>1</th>\n",
       "      <td>[command, process]</td>\n",
       "      <td>[process]</td>\n",
       "    </tr>\n",
       "    <tr>\n",
       "      <th>2</th>\n",
       "      <td>[command, process]</td>\n",
       "      <td>[command, process]</td>\n",
       "    </tr>\n",
       "    <tr>\n",
       "      <th>3</th>\n",
       "      <td>[file]</td>\n",
       "      <td>[file]</td>\n",
       "    </tr>\n",
       "    <tr>\n",
       "      <th>4</th>\n",
       "      <td>[file]</td>\n",
       "      <td>[file]</td>\n",
       "    </tr>\n",
       "  </tbody>\n",
       "</table>\n",
       "</div>"
      ],
      "text/plain": [
       "         data_sources             subsets\n",
       "0  [command, process]           [command]\n",
       "1  [command, process]           [process]\n",
       "2  [command, process]  [command, process]\n",
       "3              [file]              [file]\n",
       "4              [file]              [file]"
      ]
     },
     "execution_count": 61,
     "metadata": {},
     "output_type": "execute_result"
    }
   ],
   "source": [
    "techniques_with_data_sources_subsets.head()"
   ]
  },
  {
   "cell_type": "markdown",
   "metadata": {},
   "source": [
    "Let's add three columns to analyse the dataframe: subsets_name (Changing Lists to Strings), subsets_number_elements ( Number of data sources per subset) and number_data_sources_per_technique"
   ]
  },
  {
   "cell_type": "code",
   "execution_count": 62,
   "metadata": {},
   "outputs": [],
   "source": [
    "techniques_with_data_sources_subsets['subsets_name']=techniques_with_data_sources_subsets['subsets'].apply(lambda x: ','.join(map(str, x)))\n",
    "techniques_with_data_sources_subsets['subsets_number_elements']=techniques_with_data_sources_subsets['subsets'].str.len()\n",
    "techniques_with_data_sources_subsets['number_data_sources_per_technique']=techniques_with_data_sources_subsets['data_sources'].str.len()"
   ]
  },
  {
   "cell_type": "code",
   "execution_count": 63,
   "metadata": {},
   "outputs": [
    {
     "data": {
      "text/html": [
       "<div>\n",
       "<style scoped>\n",
       "    .dataframe tbody tr th:only-of-type {\n",
       "        vertical-align: middle;\n",
       "    }\n",
       "\n",
       "    .dataframe tbody tr th {\n",
       "        vertical-align: top;\n",
       "    }\n",
       "\n",
       "    .dataframe thead th {\n",
       "        text-align: right;\n",
       "    }\n",
       "</style>\n",
       "<table border=\"1\" class=\"dataframe\">\n",
       "  <thead>\n",
       "    <tr style=\"text-align: right;\">\n",
       "      <th></th>\n",
       "      <th>data_sources</th>\n",
       "      <th>subsets</th>\n",
       "      <th>subsets_name</th>\n",
       "      <th>subsets_number_elements</th>\n",
       "      <th>number_data_sources_per_technique</th>\n",
       "    </tr>\n",
       "  </thead>\n",
       "  <tbody>\n",
       "    <tr>\n",
       "      <th>0</th>\n",
       "      <td>[command, process]</td>\n",
       "      <td>[command]</td>\n",
       "      <td>command</td>\n",
       "      <td>1</td>\n",
       "      <td>2</td>\n",
       "    </tr>\n",
       "    <tr>\n",
       "      <th>1</th>\n",
       "      <td>[command, process]</td>\n",
       "      <td>[process]</td>\n",
       "      <td>process</td>\n",
       "      <td>1</td>\n",
       "      <td>2</td>\n",
       "    </tr>\n",
       "    <tr>\n",
       "      <th>2</th>\n",
       "      <td>[command, process]</td>\n",
       "      <td>[command, process]</td>\n",
       "      <td>command,process</td>\n",
       "      <td>2</td>\n",
       "      <td>2</td>\n",
       "    </tr>\n",
       "    <tr>\n",
       "      <th>3</th>\n",
       "      <td>[file]</td>\n",
       "      <td>[file]</td>\n",
       "      <td>file</td>\n",
       "      <td>1</td>\n",
       "      <td>1</td>\n",
       "    </tr>\n",
       "    <tr>\n",
       "      <th>4</th>\n",
       "      <td>[file]</td>\n",
       "      <td>[file]</td>\n",
       "      <td>file</td>\n",
       "      <td>1</td>\n",
       "      <td>1</td>\n",
       "    </tr>\n",
       "  </tbody>\n",
       "</table>\n",
       "</div>"
      ],
      "text/plain": [
       "         data_sources             subsets     subsets_name  \\\n",
       "0  [command, process]           [command]          command   \n",
       "1  [command, process]           [process]          process   \n",
       "2  [command, process]  [command, process]  command,process   \n",
       "3              [file]              [file]             file   \n",
       "4              [file]              [file]             file   \n",
       "\n",
       "   subsets_number_elements  number_data_sources_per_technique  \n",
       "0                        1                                  2  \n",
       "1                        1                                  2  \n",
       "2                        2                                  2  \n",
       "3                        1                                  1  \n",
       "4                        1                                  1  "
      ]
     },
     "execution_count": 63,
     "metadata": {},
     "output_type": "execute_result"
    }
   ],
   "source": [
    "techniques_with_data_sources_subsets.head()"
   ]
  },
  {
   "cell_type": "markdown",
   "metadata": {},
   "source": [
    "As it was described above, we need to find grups pf data sources, so we are going to filter out all the subsets with only one data source:"
   ]
  },
  {
   "cell_type": "code",
   "execution_count": 64,
   "metadata": {},
   "outputs": [],
   "source": [
    "subsets = techniques_with_data_sources_subsets\n",
    "\n",
    "subsets_ok=subsets[subsets.subsets_number_elements != 1]"
   ]
  },
  {
   "cell_type": "code",
   "execution_count": 65,
   "metadata": {},
   "outputs": [
    {
     "data": {
      "text/html": [
       "<div>\n",
       "<style scoped>\n",
       "    .dataframe tbody tr th:only-of-type {\n",
       "        vertical-align: middle;\n",
       "    }\n",
       "\n",
       "    .dataframe tbody tr th {\n",
       "        vertical-align: top;\n",
       "    }\n",
       "\n",
       "    .dataframe thead th {\n",
       "        text-align: right;\n",
       "    }\n",
       "</style>\n",
       "<table border=\"1\" class=\"dataframe\">\n",
       "  <thead>\n",
       "    <tr style=\"text-align: right;\">\n",
       "      <th></th>\n",
       "      <th>data_sources</th>\n",
       "      <th>subsets</th>\n",
       "      <th>subsets_name</th>\n",
       "      <th>subsets_number_elements</th>\n",
       "      <th>number_data_sources_per_technique</th>\n",
       "    </tr>\n",
       "  </thead>\n",
       "  <tbody>\n",
       "    <tr>\n",
       "      <th>2</th>\n",
       "      <td>[command, process]</td>\n",
       "      <td>[command, process]</td>\n",
       "      <td>command,process</td>\n",
       "      <td>2</td>\n",
       "      <td>2</td>\n",
       "    </tr>\n",
       "    <tr>\n",
       "      <th>8</th>\n",
       "      <td>[file, module, process]</td>\n",
       "      <td>[file, module]</td>\n",
       "      <td>file,module</td>\n",
       "      <td>2</td>\n",
       "      <td>3</td>\n",
       "    </tr>\n",
       "    <tr>\n",
       "      <th>9</th>\n",
       "      <td>[file, module, process]</td>\n",
       "      <td>[file, process]</td>\n",
       "      <td>file,process</td>\n",
       "      <td>2</td>\n",
       "      <td>3</td>\n",
       "    </tr>\n",
       "    <tr>\n",
       "      <th>10</th>\n",
       "      <td>[file, module, process]</td>\n",
       "      <td>[module, process]</td>\n",
       "      <td>module,process</td>\n",
       "      <td>2</td>\n",
       "      <td>3</td>\n",
       "    </tr>\n",
       "    <tr>\n",
       "      <th>11</th>\n",
       "      <td>[file, module, process]</td>\n",
       "      <td>[file, module, process]</td>\n",
       "      <td>file,module,process</td>\n",
       "      <td>3</td>\n",
       "      <td>3</td>\n",
       "    </tr>\n",
       "  </tbody>\n",
       "</table>\n",
       "</div>"
      ],
      "text/plain": [
       "               data_sources                  subsets         subsets_name  \\\n",
       "2        [command, process]       [command, process]      command,process   \n",
       "8   [file, module, process]           [file, module]          file,module   \n",
       "9   [file, module, process]          [file, process]         file,process   \n",
       "10  [file, module, process]        [module, process]       module,process   \n",
       "11  [file, module, process]  [file, module, process]  file,module,process   \n",
       "\n",
       "    subsets_number_elements  number_data_sources_per_technique  \n",
       "2                         2                                  2  \n",
       "8                         2                                  3  \n",
       "9                         2                                  3  \n",
       "10                        2                                  3  \n",
       "11                        3                                  3  "
      ]
     },
     "execution_count": 65,
     "metadata": {},
     "output_type": "execute_result"
    }
   ],
   "source": [
    "subsets_ok.head()"
   ]
  },
  {
   "cell_type": "markdown",
   "metadata": {},
   "source": [
    "Finally, we calculate the most relevant groups of data sources (Top 15):"
   ]
  },
  {
   "cell_type": "code",
   "execution_count": 66,
   "metadata": {},
   "outputs": [],
   "source": [
    "subsets_graph = subsets_ok.groupby(['subsets_name'])['subsets_name'].count().to_frame(name='subsets_count').sort_values(by='subsets_count',ascending=False)[0:15]"
   ]
  },
  {
   "cell_type": "code",
   "execution_count": 67,
   "metadata": {},
   "outputs": [
    {
     "data": {
      "text/html": [
       "<div>\n",
       "<style scoped>\n",
       "    .dataframe tbody tr th:only-of-type {\n",
       "        vertical-align: middle;\n",
       "    }\n",
       "\n",
       "    .dataframe tbody tr th {\n",
       "        vertical-align: top;\n",
       "    }\n",
       "\n",
       "    .dataframe thead th {\n",
       "        text-align: right;\n",
       "    }\n",
       "</style>\n",
       "<table border=\"1\" class=\"dataframe\">\n",
       "  <thead>\n",
       "    <tr style=\"text-align: right;\">\n",
       "      <th></th>\n",
       "      <th>subsets_count</th>\n",
       "    </tr>\n",
       "    <tr>\n",
       "      <th>subsets_name</th>\n",
       "      <th></th>\n",
       "    </tr>\n",
       "  </thead>\n",
       "  <tbody>\n",
       "    <tr>\n",
       "      <th>command,process</th>\n",
       "      <td>232</td>\n",
       "    </tr>\n",
       "    <tr>\n",
       "      <th>command,file</th>\n",
       "      <td>151</td>\n",
       "    </tr>\n",
       "    <tr>\n",
       "      <th>file,process</th>\n",
       "      <td>144</td>\n",
       "    </tr>\n",
       "    <tr>\n",
       "      <th>command,file,process</th>\n",
       "      <td>109</td>\n",
       "    </tr>\n",
       "    <tr>\n",
       "      <th>process,windows registry</th>\n",
       "      <td>72</td>\n",
       "    </tr>\n",
       "    <tr>\n",
       "      <th>command,windows registry</th>\n",
       "      <td>71</td>\n",
       "    </tr>\n",
       "    <tr>\n",
       "      <th>command,process,windows registry</th>\n",
       "      <td>63</td>\n",
       "    </tr>\n",
       "    <tr>\n",
       "      <th>application log,network traffic</th>\n",
       "      <td>62</td>\n",
       "    </tr>\n",
       "    <tr>\n",
       "      <th>network traffic,process</th>\n",
       "      <td>56</td>\n",
       "    </tr>\n",
       "    <tr>\n",
       "      <th>command,network traffic</th>\n",
       "      <td>53</td>\n",
       "    </tr>\n",
       "    <tr>\n",
       "      <th>file,windows registry</th>\n",
       "      <td>51</td>\n",
       "    </tr>\n",
       "    <tr>\n",
       "      <th>module,process</th>\n",
       "      <td>50</td>\n",
       "    </tr>\n",
       "    <tr>\n",
       "      <th>file,network traffic</th>\n",
       "      <td>47</td>\n",
       "    </tr>\n",
       "    <tr>\n",
       "      <th>file,process,windows registry</th>\n",
       "      <td>44</td>\n",
       "    </tr>\n",
       "    <tr>\n",
       "      <th>command,file,windows registry</th>\n",
       "      <td>42</td>\n",
       "    </tr>\n",
       "  </tbody>\n",
       "</table>\n",
       "</div>"
      ],
      "text/plain": [
       "                                  subsets_count\n",
       "subsets_name                                   \n",
       "command,process                             232\n",
       "command,file                                151\n",
       "file,process                                144\n",
       "command,file,process                        109\n",
       "process,windows registry                     72\n",
       "command,windows registry                     71\n",
       "command,process,windows registry             63\n",
       "application log,network traffic              62\n",
       "network traffic,process                      56\n",
       "command,network traffic                      53\n",
       "file,windows registry                        51\n",
       "module,process                               50\n",
       "file,network traffic                         47\n",
       "file,process,windows registry                44\n",
       "command,file,windows registry                42"
      ]
     },
     "execution_count": 67,
     "metadata": {},
     "output_type": "execute_result"
    }
   ],
   "source": [
    "subsets_graph"
   ]
  },
  {
   "cell_type": "code",
   "execution_count": 68,
   "metadata": {},
   "outputs": [
    {
     "data": {
      "text/html": [
       "\n",
       "<style>\n",
       "  #altair-viz-7c011236d5ef4994bdec8d74aabdd3b5.vega-embed {\n",
       "    width: 100%;\n",
       "    display: flex;\n",
       "  }\n",
       "\n",
       "  #altair-viz-7c011236d5ef4994bdec8d74aabdd3b5.vega-embed details,\n",
       "  #altair-viz-7c011236d5ef4994bdec8d74aabdd3b5.vega-embed details summary {\n",
       "    position: relative;\n",
       "  }\n",
       "</style>\n",
       "<div id=\"altair-viz-7c011236d5ef4994bdec8d74aabdd3b5\"></div>\n",
       "<script type=\"text/javascript\">\n",
       "  var VEGA_DEBUG = (typeof VEGA_DEBUG == \"undefined\") ? {} : VEGA_DEBUG;\n",
       "  (function(spec, embedOpt){\n",
       "    let outputDiv = document.currentScript.previousElementSibling;\n",
       "    if (outputDiv.id !== \"altair-viz-7c011236d5ef4994bdec8d74aabdd3b5\") {\n",
       "      outputDiv = document.getElementById(\"altair-viz-7c011236d5ef4994bdec8d74aabdd3b5\");\n",
       "    }\n",
       "    const paths = {\n",
       "      \"vega\": \"https://cdn.jsdelivr.net/npm/vega@5?noext\",\n",
       "      \"vega-lib\": \"https://cdn.jsdelivr.net/npm/vega-lib?noext\",\n",
       "      \"vega-lite\": \"https://cdn.jsdelivr.net/npm/vega-lite@5.17.0?noext\",\n",
       "      \"vega-embed\": \"https://cdn.jsdelivr.net/npm/vega-embed@6?noext\",\n",
       "    };\n",
       "\n",
       "    function maybeLoadScript(lib, version) {\n",
       "      var key = `${lib.replace(\"-\", \"\")}_version`;\n",
       "      return (VEGA_DEBUG[key] == version) ?\n",
       "        Promise.resolve(paths[lib]) :\n",
       "        new Promise(function(resolve, reject) {\n",
       "          var s = document.createElement('script');\n",
       "          document.getElementsByTagName(\"head\")[0].appendChild(s);\n",
       "          s.async = true;\n",
       "          s.onload = () => {\n",
       "            VEGA_DEBUG[key] = version;\n",
       "            return resolve(paths[lib]);\n",
       "          };\n",
       "          s.onerror = () => reject(`Error loading script: ${paths[lib]}`);\n",
       "          s.src = paths[lib];\n",
       "        });\n",
       "    }\n",
       "\n",
       "    function showError(err) {\n",
       "      outputDiv.innerHTML = `<div class=\"error\" style=\"color:red;\">${err}</div>`;\n",
       "      throw err;\n",
       "    }\n",
       "\n",
       "    function displayChart(vegaEmbed) {\n",
       "      vegaEmbed(outputDiv, spec, embedOpt)\n",
       "        .catch(err => showError(`Javascript Error: ${err.message}<br>This usually means there's a typo in your chart specification. See the javascript console for the full traceback.`));\n",
       "    }\n",
       "\n",
       "    if(typeof define === \"function\" && define.amd) {\n",
       "      requirejs.config({paths});\n",
       "      require([\"vega-embed\"], displayChart, err => showError(`Error loading script: ${err.message}`));\n",
       "    } else {\n",
       "      maybeLoadScript(\"vega\", \"5\")\n",
       "        .then(() => maybeLoadScript(\"vega-lite\", \"5.17.0\"))\n",
       "        .then(() => maybeLoadScript(\"vega-embed\", \"6\"))\n",
       "        .catch(showError)\n",
       "        .then(() => displayChart(vegaEmbed));\n",
       "    }\n",
       "  })({\"config\": {\"view\": {\"continuousWidth\": 300, \"continuousHeight\": 300}}, \"layer\": [{\"mark\": {\"type\": \"bar\"}, \"encoding\": {\"color\": {\"field\": \"Data Sources\", \"type\": \"nominal\"}, \"x\": {\"field\": \"Data Sources\", \"type\": \"nominal\"}, \"y\": {\"field\": \"Count of Techniques\", \"type\": \"quantitative\"}}}, {\"mark\": {\"type\": \"text\", \"align\": \"center\", \"baseline\": \"middle\", \"dx\": 0, \"dy\": -5}, \"encoding\": {\"color\": {\"field\": \"Data Sources\", \"type\": \"nominal\"}, \"text\": {\"field\": \"Count of Techniques\", \"type\": \"quantitative\"}, \"x\": {\"field\": \"Data Sources\", \"type\": \"nominal\"}, \"y\": {\"field\": \"Count of Techniques\", \"type\": \"quantitative\"}}}], \"data\": {\"name\": \"data-95892040a680b5630d15520efe76d944\"}, \"width\": 500, \"$schema\": \"https://vega.github.io/schema/vega-lite/v5.17.0.json\", \"datasets\": {\"data-95892040a680b5630d15520efe76d944\": [{\"Data Sources\": \"command,process\", \"Count of Techniques\": 232}, {\"Data Sources\": \"command,file\", \"Count of Techniques\": 151}, {\"Data Sources\": \"file,process\", \"Count of Techniques\": 144}, {\"Data Sources\": \"command,file,process\", \"Count of Techniques\": 109}, {\"Data Sources\": \"process,windows registry\", \"Count of Techniques\": 72}, {\"Data Sources\": \"command,windows registry\", \"Count of Techniques\": 71}, {\"Data Sources\": \"command,process,windows registry\", \"Count of Techniques\": 63}, {\"Data Sources\": \"application log,network traffic\", \"Count of Techniques\": 62}, {\"Data Sources\": \"network traffic,process\", \"Count of Techniques\": 56}, {\"Data Sources\": \"command,network traffic\", \"Count of Techniques\": 53}, {\"Data Sources\": \"file,windows registry\", \"Count of Techniques\": 51}, {\"Data Sources\": \"module,process\", \"Count of Techniques\": 50}, {\"Data Sources\": \"file,network traffic\", \"Count of Techniques\": 47}, {\"Data Sources\": \"file,process,windows registry\", \"Count of Techniques\": 44}, {\"Data Sources\": \"command,file,windows registry\", \"Count of Techniques\": 42}]}}, {\"mode\": \"vega-lite\"});\n",
       "</script>"
      ],
      "text/plain": [
       "alt.LayerChart(...)"
      ]
     },
     "execution_count": 68,
     "metadata": {},
     "output_type": "execute_result"
    }
   ],
   "source": [
    "subsets_graph_2 = pandas.DataFrame({\n",
    "    'Data Sources': list(subsets_graph.index),\n",
    "    'Count of Techniques': subsets_graph['subsets_count'].tolist()})\n",
    "\n",
    "bars = alt.Chart(subsets_graph_2).mark_bar().encode(x ='Data Sources', y ='Count of Techniques', color='Data Sources').properties(width=500)\n",
    "text = bars.mark_text(align='center',baseline='middle',dx= 0,dy=-5).encode(text='Count of Techniques')\n",
    "bars + text"
   ]
  },
  {
   "cell_type": "markdown",
   "metadata": {},
   "source": [
    "Group (Process Monitoring - Process Command-line parameters) is the is the group of data sources with the highest number of techniques. This group of data sources are suggested to hunt 78 techniques"
   ]
  },
  {
   "cell_type": "markdown",
   "metadata": {},
   "source": [
    "## Let's Split all the Information About Techniques With Data Sources Defined: Matrix, Platform, Tactic and Data Source"
   ]
  },
  {
   "cell_type": "markdown",
   "metadata": {},
   "source": [
    "Let's split all the relevant columns of the dataframe:"
   ]
  },
  {
   "cell_type": "code",
   "execution_count": 69,
   "metadata": {},
   "outputs": [
    {
     "data": {
      "text/html": [
       "<div>\n",
       "<style scoped>\n",
       "    .dataframe tbody tr th:only-of-type {\n",
       "        vertical-align: middle;\n",
       "    }\n",
       "\n",
       "    .dataframe tbody tr th {\n",
       "        vertical-align: top;\n",
       "    }\n",
       "\n",
       "    .dataframe thead th {\n",
       "        text-align: right;\n",
       "    }\n",
       "</style>\n",
       "<table border=\"1\" class=\"dataframe\">\n",
       "  <thead>\n",
       "    <tr style=\"text-align: right;\">\n",
       "      <th></th>\n",
       "      <th>domain</th>\n",
       "      <th>platform</th>\n",
       "      <th>tactic</th>\n",
       "      <th>technique</th>\n",
       "      <th>technique_id</th>\n",
       "      <th>data_sources</th>\n",
       "    </tr>\n",
       "  </thead>\n",
       "  <tbody>\n",
       "    <tr>\n",
       "      <th>0</th>\n",
       "      <td>enterprise-attack</td>\n",
       "      <td>Windows</td>\n",
       "      <td>{'kill_chain_name': 'mitre-attack', 'phase_nam...</td>\n",
       "      <td>AutoHotKey &amp; AutoIT</td>\n",
       "      <td>T1059.010</td>\n",
       "      <td>Process</td>\n",
       "    </tr>\n",
       "    <tr>\n",
       "      <th>1</th>\n",
       "      <td>enterprise-attack</td>\n",
       "      <td>Windows</td>\n",
       "      <td>{'kill_chain_name': 'mitre-attack', 'phase_nam...</td>\n",
       "      <td>AutoHotKey &amp; AutoIT</td>\n",
       "      <td>T1059.010</td>\n",
       "      <td>Command</td>\n",
       "    </tr>\n",
       "    <tr>\n",
       "      <th>2</th>\n",
       "      <td>enterprise-attack</td>\n",
       "      <td>Linux</td>\n",
       "      <td>{'kill_chain_name': 'mitre-attack', 'phase_nam...</td>\n",
       "      <td>File/Path Exclusions</td>\n",
       "      <td>T1564.012</td>\n",
       "      <td>File</td>\n",
       "    </tr>\n",
       "    <tr>\n",
       "      <th>3</th>\n",
       "      <td>enterprise-attack</td>\n",
       "      <td>macOS</td>\n",
       "      <td>{'kill_chain_name': 'mitre-attack', 'phase_nam...</td>\n",
       "      <td>File/Path Exclusions</td>\n",
       "      <td>T1564.012</td>\n",
       "      <td>File</td>\n",
       "    </tr>\n",
       "    <tr>\n",
       "      <th>4</th>\n",
       "      <td>enterprise-attack</td>\n",
       "      <td>Windows</td>\n",
       "      <td>{'kill_chain_name': 'mitre-attack', 'phase_nam...</td>\n",
       "      <td>File/Path Exclusions</td>\n",
       "      <td>T1564.012</td>\n",
       "      <td>File</td>\n",
       "    </tr>\n",
       "  </tbody>\n",
       "</table>\n",
       "</div>"
      ],
      "text/plain": [
       "              domain platform  \\\n",
       "0  enterprise-attack  Windows   \n",
       "1  enterprise-attack  Windows   \n",
       "2  enterprise-attack    Linux   \n",
       "3  enterprise-attack    macOS   \n",
       "4  enterprise-attack  Windows   \n",
       "\n",
       "                                              tactic             technique  \\\n",
       "0  {'kill_chain_name': 'mitre-attack', 'phase_nam...   AutoHotKey & AutoIT   \n",
       "1  {'kill_chain_name': 'mitre-attack', 'phase_nam...   AutoHotKey & AutoIT   \n",
       "2  {'kill_chain_name': 'mitre-attack', 'phase_nam...  File/Path Exclusions   \n",
       "3  {'kill_chain_name': 'mitre-attack', 'phase_nam...  File/Path Exclusions   \n",
       "4  {'kill_chain_name': 'mitre-attack', 'phase_nam...  File/Path Exclusions   \n",
       "\n",
       "  technique_id data_sources  \n",
       "0    T1059.010      Process  \n",
       "1    T1059.010      Command  \n",
       "2    T1564.012         File  \n",
       "3    T1564.012         File  \n",
       "4    T1564.012         File  "
      ]
     },
     "execution_count": 69,
     "metadata": {},
     "output_type": "execute_result"
    }
   ],
   "source": [
    "techniques_data = techniques_with_data_sources\n",
    "\n",
    "attributes = ['platform','tactic','data_sources'] # In attributes we are going to indicate the name of the columns that we need to split\n",
    "\n",
    "for a in attributes:\n",
    "    s = techniques_data.apply(lambda x: pandas.Series(x[a]),axis=1).stack().reset_index(level=1, drop=True)\n",
    "    # \"s\" is going to be a column of a frame with every value of the list inside each cell of the column \"a\"\n",
    "    s.name = a\n",
    "    # We name \"s\" with the same name of \"a\".\n",
    "    techniques_data=techniques_data.drop(a, axis=1).join(s).reset_index(drop=True)\n",
    "    # We drop the column \"a\" from \"techniques_data\", and then join \"techniques_data\" with \"s\"\n",
    "\n",
    "# Let's re-arrange the columns from general to specific\n",
    "techniques_data_2=techniques_data.reindex(['domain','platform','tactic','technique','technique_id','data_sources'], axis=1)\n",
    "\n",
    "# We are going to edit some names inside the dataframe to improve the consistency:\n",
    "techniques_data_3 = techniques_data_2.replace(['Process monitoring','Application logs'],['Process Monitoring','Application Logs'])\n",
    "\n",
    "techniques_data_3.head()"
   ]
  },
  {
   "cell_type": "markdown",
   "metadata": {},
   "source": [
    "Do you remember data sources names with a reference to Windows? After splitting the dataframe by platforms, tactics and data sources, are there any macOC or linux techniques that consider windows data sources? Let's identify those rows:"
   ]
  },
  {
   "cell_type": "code",
   "execution_count": 70,
   "metadata": {},
   "outputs": [],
   "source": [
    "# After splitting the rows of the dataframe, there are some values that relate windows data sources with platforms like linux and masOS.\n",
    "# We need to identify those rows\n",
    "conditions = [(techniques_data_3['platform']=='Linux')&(techniques_data_3['data_sources'].str.contains('windows',case=False)== True),\n",
    "             (techniques_data_3['platform']=='macOS')&(techniques_data_3['data_sources'].str.contains('windows',case=False)== True),\n",
    "             (techniques_data_3['platform']=='Linux')&(techniques_data_3['data_sources'].str.contains('powershell',case=False)== True),\n",
    "             (techniques_data_3['platform']=='macOS')&(techniques_data_3['data_sources'].str.contains('powershell',case=False)== True),\n",
    "             (techniques_data_3['platform']=='Linux')&(techniques_data_3['data_sources'].str.contains('wmi',case=False)== True),\n",
    "             (techniques_data_3['platform']=='macOS')&(techniques_data_3['data_sources'].str.contains('wmi',case=False)== True)]\n",
    "# In conditions we indicate a logical test\n",
    "\n",
    "choices = ['NO OK','NO OK','NO OK','NO OK','NO OK','NO OK']\n",
    "# In choices, we indicate the result when the logical test is true\n",
    "\n",
    "techniques_data_3['Validation'] = np.select(conditions,choices,default='OK')\n",
    "# We add a column \"Validation\" to \"techniques_data_3\" with the result of the logical test. The default value is going to be \"OK\""
   ]
  },
  {
   "cell_type": "markdown",
   "metadata": {},
   "source": [
    "What is the inconsistent data?"
   ]
  },
  {
   "cell_type": "code",
   "execution_count": 71,
   "metadata": {},
   "outputs": [
    {
     "data": {
      "text/html": [
       "<div>\n",
       "<style scoped>\n",
       "    .dataframe tbody tr th:only-of-type {\n",
       "        vertical-align: middle;\n",
       "    }\n",
       "\n",
       "    .dataframe tbody tr th {\n",
       "        vertical-align: top;\n",
       "    }\n",
       "\n",
       "    .dataframe thead th {\n",
       "        text-align: right;\n",
       "    }\n",
       "</style>\n",
       "<table border=\"1\" class=\"dataframe\">\n",
       "  <thead>\n",
       "    <tr style=\"text-align: right;\">\n",
       "      <th></th>\n",
       "      <th>domain</th>\n",
       "      <th>platform</th>\n",
       "      <th>tactic</th>\n",
       "      <th>technique</th>\n",
       "      <th>technique_id</th>\n",
       "      <th>data_sources</th>\n",
       "      <th>Validation</th>\n",
       "    </tr>\n",
       "  </thead>\n",
       "  <tbody>\n",
       "    <tr>\n",
       "      <th>188</th>\n",
       "      <td>enterprise-attack</td>\n",
       "      <td>Linux</td>\n",
       "      <td>{'kill_chain_name': 'mitre-attack', 'phase_nam...</td>\n",
       "      <td>Device Driver Discovery</td>\n",
       "      <td>T1652</td>\n",
       "      <td>Windows Registry</td>\n",
       "      <td>NO OK</td>\n",
       "    </tr>\n",
       "    <tr>\n",
       "      <th>191</th>\n",
       "      <td>enterprise-attack</td>\n",
       "      <td>macOS</td>\n",
       "      <td>{'kill_chain_name': 'mitre-attack', 'phase_nam...</td>\n",
       "      <td>Device Driver Discovery</td>\n",
       "      <td>T1652</td>\n",
       "      <td>Windows Registry</td>\n",
       "      <td>NO OK</td>\n",
       "    </tr>\n",
       "    <tr>\n",
       "      <th>362</th>\n",
       "      <td>enterprise-attack</td>\n",
       "      <td>Linux</td>\n",
       "      <td>{'kill_chain_name': 'mitre-attack', 'phase_nam...</td>\n",
       "      <td>Steal or Forge Authentication Certificates</td>\n",
       "      <td>T1649</td>\n",
       "      <td>Windows Registry</td>\n",
       "      <td>NO OK</td>\n",
       "    </tr>\n",
       "    <tr>\n",
       "      <th>368</th>\n",
       "      <td>enterprise-attack</td>\n",
       "      <td>macOS</td>\n",
       "      <td>{'kill_chain_name': 'mitre-attack', 'phase_nam...</td>\n",
       "      <td>Steal or Forge Authentication Certificates</td>\n",
       "      <td>T1649</td>\n",
       "      <td>Windows Registry</td>\n",
       "      <td>NO OK</td>\n",
       "    </tr>\n",
       "    <tr>\n",
       "      <th>381</th>\n",
       "      <td>enterprise-attack</td>\n",
       "      <td>Linux</td>\n",
       "      <td>{'kill_chain_name': 'mitre-attack', 'phase_nam...</td>\n",
       "      <td>Clear Persistence</td>\n",
       "      <td>T1070.009</td>\n",
       "      <td>Windows Registry</td>\n",
       "      <td>NO OK</td>\n",
       "    </tr>\n",
       "  </tbody>\n",
       "</table>\n",
       "</div>"
      ],
      "text/plain": [
       "                domain platform  \\\n",
       "188  enterprise-attack    Linux   \n",
       "191  enterprise-attack    macOS   \n",
       "362  enterprise-attack    Linux   \n",
       "368  enterprise-attack    macOS   \n",
       "381  enterprise-attack    Linux   \n",
       "\n",
       "                                                tactic  \\\n",
       "188  {'kill_chain_name': 'mitre-attack', 'phase_nam...   \n",
       "191  {'kill_chain_name': 'mitre-attack', 'phase_nam...   \n",
       "362  {'kill_chain_name': 'mitre-attack', 'phase_nam...   \n",
       "368  {'kill_chain_name': 'mitre-attack', 'phase_nam...   \n",
       "381  {'kill_chain_name': 'mitre-attack', 'phase_nam...   \n",
       "\n",
       "                                      technique technique_id  \\\n",
       "188                     Device Driver Discovery        T1652   \n",
       "191                     Device Driver Discovery        T1652   \n",
       "362  Steal or Forge Authentication Certificates        T1649   \n",
       "368  Steal or Forge Authentication Certificates        T1649   \n",
       "381                           Clear Persistence    T1070.009   \n",
       "\n",
       "         data_sources Validation  \n",
       "188  Windows Registry      NO OK  \n",
       "191  Windows Registry      NO OK  \n",
       "362  Windows Registry      NO OK  \n",
       "368  Windows Registry      NO OK  \n",
       "381  Windows Registry      NO OK  "
      ]
     },
     "execution_count": 71,
     "metadata": {},
     "output_type": "execute_result"
    }
   ],
   "source": [
    "techniques_analysis_data_no_ok = techniques_data_3[techniques_data_3.Validation == 'NO OK']\n",
    "# Finally, we are filtering all the values with NO OK\n",
    "\n",
    "techniques_analysis_data_no_ok.head()"
   ]
  },
  {
   "cell_type": "code",
   "execution_count": 72,
   "metadata": {},
   "outputs": [
    {
     "name": "stdout",
     "output_type": "stream",
     "text": [
      "There are  115  rows with inconsistent data\n"
     ]
    }
   ],
   "source": [
    "print('There are ',len(techniques_analysis_data_no_ok),' rows with inconsistent data')"
   ]
  },
  {
   "cell_type": "markdown",
   "metadata": {},
   "source": [
    "What is the impact of this inconsistent data from a platform and data sources perspective?"
   ]
  },
  {
   "cell_type": "code",
   "execution_count": 73,
   "metadata": {},
   "outputs": [],
   "source": [
    "df = techniques_with_data_sources\n",
    "\n",
    "attributes = ['platform','data_sources']\n",
    "\n",
    "for a in attributes:\n",
    "    s = df.apply(lambda x: pandas.Series(x[a]),axis=1).stack().reset_index(level=1, drop=True)\n",
    "    s.name = a\n",
    "    df=df.drop(a, axis=1).join(s).reset_index(drop=True)\n",
    "    \n",
    "df_2=df.reindex(['domain','platform','tactic','technique','technique_id','data_sources'], axis=1)\n",
    "df_3 = df_2.replace(['Process monitoring','Application logs'],['Process Monitoring','Application Logs'])\n",
    "\n",
    "conditions = [(df_3['data_sources'].str.contains('windows',case=False)== True),\n",
    "              (df_3['data_sources'].str.contains('powershell',case=False)== True),\n",
    "              (df_3['data_sources'].str.contains('wmi',case=False)== True)]\n",
    "\n",
    "choices = ['Windows','Windows','Windows']\n",
    "\n",
    "df_3['Validation'] = np.select(conditions,choices,default='Other')\n",
    "df_3['Num_Tech'] = 1\n",
    "df_4 = df_3[df_3.Validation == 'Windows']\n",
    "df_5 = df_4.groupby(['data_sources','platform'])['technique'].nunique()\n",
    "df_6 = df_5.to_frame().reset_index()"
   ]
  },
  {
   "cell_type": "code",
   "execution_count": 74,
   "metadata": {},
   "outputs": [
    {
     "data": {
      "text/html": [
       "\n",
       "<style>\n",
       "  #altair-viz-139a7437a06e4d04975d365814c9bae4.vega-embed {\n",
       "    width: 100%;\n",
       "    display: flex;\n",
       "  }\n",
       "\n",
       "  #altair-viz-139a7437a06e4d04975d365814c9bae4.vega-embed details,\n",
       "  #altair-viz-139a7437a06e4d04975d365814c9bae4.vega-embed details summary {\n",
       "    position: relative;\n",
       "  }\n",
       "</style>\n",
       "<div id=\"altair-viz-139a7437a06e4d04975d365814c9bae4\"></div>\n",
       "<script type=\"text/javascript\">\n",
       "  var VEGA_DEBUG = (typeof VEGA_DEBUG == \"undefined\") ? {} : VEGA_DEBUG;\n",
       "  (function(spec, embedOpt){\n",
       "    let outputDiv = document.currentScript.previousElementSibling;\n",
       "    if (outputDiv.id !== \"altair-viz-139a7437a06e4d04975d365814c9bae4\") {\n",
       "      outputDiv = document.getElementById(\"altair-viz-139a7437a06e4d04975d365814c9bae4\");\n",
       "    }\n",
       "    const paths = {\n",
       "      \"vega\": \"https://cdn.jsdelivr.net/npm/vega@5?noext\",\n",
       "      \"vega-lib\": \"https://cdn.jsdelivr.net/npm/vega-lib?noext\",\n",
       "      \"vega-lite\": \"https://cdn.jsdelivr.net/npm/vega-lite@5.17.0?noext\",\n",
       "      \"vega-embed\": \"https://cdn.jsdelivr.net/npm/vega-embed@6?noext\",\n",
       "    };\n",
       "\n",
       "    function maybeLoadScript(lib, version) {\n",
       "      var key = `${lib.replace(\"-\", \"\")}_version`;\n",
       "      return (VEGA_DEBUG[key] == version) ?\n",
       "        Promise.resolve(paths[lib]) :\n",
       "        new Promise(function(resolve, reject) {\n",
       "          var s = document.createElement('script');\n",
       "          document.getElementsByTagName(\"head\")[0].appendChild(s);\n",
       "          s.async = true;\n",
       "          s.onload = () => {\n",
       "            VEGA_DEBUG[key] = version;\n",
       "            return resolve(paths[lib]);\n",
       "          };\n",
       "          s.onerror = () => reject(`Error loading script: ${paths[lib]}`);\n",
       "          s.src = paths[lib];\n",
       "        });\n",
       "    }\n",
       "\n",
       "    function showError(err) {\n",
       "      outputDiv.innerHTML = `<div class=\"error\" style=\"color:red;\">${err}</div>`;\n",
       "      throw err;\n",
       "    }\n",
       "\n",
       "    function displayChart(vegaEmbed) {\n",
       "      vegaEmbed(outputDiv, spec, embedOpt)\n",
       "        .catch(err => showError(`Javascript Error: ${err.message}<br>This usually means there's a typo in your chart specification. See the javascript console for the full traceback.`));\n",
       "    }\n",
       "\n",
       "    if(typeof define === \"function\" && define.amd) {\n",
       "      requirejs.config({paths});\n",
       "      require([\"vega-embed\"], displayChart, err => showError(`Error loading script: ${err.message}`));\n",
       "    } else {\n",
       "      maybeLoadScript(\"vega\", \"5\")\n",
       "        .then(() => maybeLoadScript(\"vega-lite\", \"5.17.0\"))\n",
       "        .then(() => maybeLoadScript(\"vega-embed\", \"6\"))\n",
       "        .catch(showError)\n",
       "        .then(() => displayChart(vegaEmbed));\n",
       "    }\n",
       "  })({\"config\": {\"view\": {\"continuousWidth\": 300, \"continuousHeight\": 300}}, \"data\": {\"name\": \"data-f91dc3369e15fd20b5f21133d5fa7d7e\"}, \"mark\": {\"type\": \"bar\"}, \"encoding\": {\"color\": {\"field\": \"platform\", \"type\": \"nominal\"}, \"x\": {\"field\": \"technique\", \"stack\": \"normalize\", \"type\": \"quantitative\"}, \"y\": {\"field\": \"data_sources\", \"type\": \"nominal\"}}, \"height\": 200, \"$schema\": \"https://vega.github.io/schema/vega-lite/v5.17.0.json\", \"datasets\": {\"data-f91dc3369e15fd20b5f21133d5fa7d7e\": [{\"data_sources\": \"WMI\", \"platform\": \"IaaS\", \"technique\": 2}, {\"data_sources\": \"WMI\", \"platform\": \"Linux\", \"technique\": 3}, {\"data_sources\": \"WMI\", \"platform\": \"Network\", \"technique\": 1}, {\"data_sources\": \"WMI\", \"platform\": \"Office 365\", \"technique\": 1}, {\"data_sources\": \"WMI\", \"platform\": \"SaaS\", \"technique\": 1}, {\"data_sources\": \"WMI\", \"platform\": \"Windows\", \"technique\": 6}, {\"data_sources\": \"WMI\", \"platform\": \"macOS\", \"technique\": 3}, {\"data_sources\": \"Windows Registry\", \"platform\": \"Azure AD\", \"technique\": 4}, {\"data_sources\": \"Windows Registry\", \"platform\": \"Containers\", \"technique\": 6}, {\"data_sources\": \"Windows Registry\", \"platform\": \"Google Workspace\", \"technique\": 4}, {\"data_sources\": \"Windows Registry\", \"platform\": \"IaaS\", \"technique\": 8}, {\"data_sources\": \"Windows Registry\", \"platform\": \"Linux\", \"technique\": 39}, {\"data_sources\": \"Windows Registry\", \"platform\": \"Network\", \"technique\": 15}, {\"data_sources\": \"Windows Registry\", \"platform\": \"None\", \"technique\": 4}, {\"data_sources\": \"Windows Registry\", \"platform\": \"Office 365\", \"technique\": 11}, {\"data_sources\": \"Windows Registry\", \"platform\": \"SaaS\", \"technique\": 3}, {\"data_sources\": \"Windows Registry\", \"platform\": \"Windows\", \"technique\": 83}, {\"data_sources\": \"Windows Registry\", \"platform\": \"macOS\", \"technique\": 40}]}}, {\"mode\": \"vega-lite\"});\n",
       "</script>"
      ],
      "text/plain": [
       "alt.Chart(...)"
      ]
     },
     "execution_count": 74,
     "metadata": {},
     "output_type": "execute_result"
    }
   ],
   "source": [
    "alt.Chart(df_6).mark_bar().encode(x=alt.X('technique', stack=\"normalize\"),    y='data_sources',    color='platform').properties(height=200)"
   ]
  },
  {
   "cell_type": "markdown",
   "metadata": {},
   "source": [
    "There are techniques that consider Windows Error Reporting, Windows Registry, and Windows event logs as data sources and they also consider platforms like Linux and masOS. We do not need to consider this rows because those data sources can only be managed at a Windows environment. These are the techniques that we should not consider in our data base:"
   ]
  },
  {
   "cell_type": "code",
   "execution_count": 75,
   "metadata": {},
   "outputs": [
    {
     "data": {
      "text/html": [
       "<div>\n",
       "<style scoped>\n",
       "    .dataframe tbody tr th:only-of-type {\n",
       "        vertical-align: middle;\n",
       "    }\n",
       "\n",
       "    .dataframe tbody tr th {\n",
       "        vertical-align: top;\n",
       "    }\n",
       "\n",
       "    .dataframe thead th {\n",
       "        text-align: right;\n",
       "    }\n",
       "</style>\n",
       "<table border=\"1\" class=\"dataframe\">\n",
       "  <thead>\n",
       "    <tr style=\"text-align: right;\">\n",
       "      <th></th>\n",
       "      <th>technique</th>\n",
       "      <th>data_sources</th>\n",
       "    </tr>\n",
       "  </thead>\n",
       "  <tbody>\n",
       "    <tr>\n",
       "      <th>5970</th>\n",
       "      <td>Remote Services</td>\n",
       "      <td>WMI</td>\n",
       "    </tr>\n",
       "    <tr>\n",
       "      <th>5934</th>\n",
       "      <td>Obfuscated Files or Information</td>\n",
       "      <td>WMI</td>\n",
       "    </tr>\n",
       "    <tr>\n",
       "      <th>3746</th>\n",
       "      <td>Event Triggered Execution</td>\n",
       "      <td>WMI</td>\n",
       "    </tr>\n",
       "    <tr>\n",
       "      <th>3173</th>\n",
       "      <td>Unsecured Credentials</td>\n",
       "      <td>Windows Registry</td>\n",
       "    </tr>\n",
       "    <tr>\n",
       "      <th>3363</th>\n",
       "      <td>Abuse Elevation Control Mechanism</td>\n",
       "      <td>Windows Registry</td>\n",
       "    </tr>\n",
       "    <tr>\n",
       "      <th>3693</th>\n",
       "      <td>Boot or Logon Autostart Execution</td>\n",
       "      <td>Windows Registry</td>\n",
       "    </tr>\n",
       "    <tr>\n",
       "      <th>3749</th>\n",
       "      <td>Event Triggered Execution</td>\n",
       "      <td>Windows Registry</td>\n",
       "    </tr>\n",
       "    <tr>\n",
       "      <th>3977</th>\n",
       "      <td>Create or Modify System Process</td>\n",
       "      <td>Windows Registry</td>\n",
       "    </tr>\n",
       "    <tr>\n",
       "      <th>4494</th>\n",
       "      <td>Inhibit System Recovery</td>\n",
       "      <td>Windows Registry</td>\n",
       "    </tr>\n",
       "    <tr>\n",
       "      <th>4533</th>\n",
       "      <td>Service Stop</td>\n",
       "      <td>Windows Registry</td>\n",
       "    </tr>\n",
       "    <tr>\n",
       "      <th>188</th>\n",
       "      <td>Device Driver Discovery</td>\n",
       "      <td>Windows Registry</td>\n",
       "    </tr>\n",
       "    <tr>\n",
       "      <th>4885</th>\n",
       "      <td>Browser Extensions</td>\n",
       "      <td>Windows Registry</td>\n",
       "    </tr>\n",
       "    <tr>\n",
       "      <th>5083</th>\n",
       "      <td>Multi-Factor Authentication Interception</td>\n",
       "      <td>Windows Registry</td>\n",
       "    </tr>\n",
       "    <tr>\n",
       "      <th>5426</th>\n",
       "      <td>Data Staged</td>\n",
       "      <td>Windows Registry</td>\n",
       "    </tr>\n",
       "    <tr>\n",
       "      <th>5461</th>\n",
       "      <td>Indicator Removal</td>\n",
       "      <td>Windows Registry</td>\n",
       "    </tr>\n",
       "    <tr>\n",
       "      <th>5603</th>\n",
       "      <td>Input Capture</td>\n",
       "      <td>Windows Registry</td>\n",
       "    </tr>\n",
       "    <tr>\n",
       "      <th>5840</th>\n",
       "      <td>Boot or Logon Initialization Scripts</td>\n",
       "      <td>Windows Registry</td>\n",
       "    </tr>\n",
       "    <tr>\n",
       "      <th>5905</th>\n",
       "      <td>System Owner/User Discovery</td>\n",
       "      <td>Windows Registry</td>\n",
       "    </tr>\n",
       "    <tr>\n",
       "      <th>5936</th>\n",
       "      <td>Obfuscated Files or Information</td>\n",
       "      <td>Windows Registry</td>\n",
       "    </tr>\n",
       "    <tr>\n",
       "      <th>3084</th>\n",
       "      <td>Subvert Trust Controls</td>\n",
       "      <td>Windows Registry</td>\n",
       "    </tr>\n",
       "    <tr>\n",
       "      <th>4680</th>\n",
       "      <td>System Binary Proxy Execution</td>\n",
       "      <td>Windows Registry</td>\n",
       "    </tr>\n",
       "    <tr>\n",
       "      <th>2872</th>\n",
       "      <td>Keylogging</td>\n",
       "      <td>Windows Registry</td>\n",
       "    </tr>\n",
       "    <tr>\n",
       "      <th>2558</th>\n",
       "      <td>Adversary-in-the-Middle</td>\n",
       "      <td>Windows Registry</td>\n",
       "    </tr>\n",
       "    <tr>\n",
       "      <th>362</th>\n",
       "      <td>Steal or Forge Authentication Certificates</td>\n",
       "      <td>Windows Registry</td>\n",
       "    </tr>\n",
       "    <tr>\n",
       "      <th>381</th>\n",
       "      <td>Clear Persistence</td>\n",
       "      <td>Windows Registry</td>\n",
       "    </tr>\n",
       "    <tr>\n",
       "      <th>420</th>\n",
       "      <td>Clear Network Connection History and Configura...</td>\n",
       "      <td>Windows Registry</td>\n",
       "    </tr>\n",
       "    <tr>\n",
       "      <th>676</th>\n",
       "      <td>System Language Discovery</td>\n",
       "      <td>Windows Registry</td>\n",
       "    </tr>\n",
       "    <tr>\n",
       "      <th>716</th>\n",
       "      <td>Code Signing Policy Modification</td>\n",
       "      <td>Windows Registry</td>\n",
       "    </tr>\n",
       "    <tr>\n",
       "      <th>1018</th>\n",
       "      <td>Run Virtual Instance</td>\n",
       "      <td>Windows Registry</td>\n",
       "    </tr>\n",
       "    <tr>\n",
       "      <th>1033</th>\n",
       "      <td>Hidden File System</td>\n",
       "      <td>Windows Registry</td>\n",
       "    </tr>\n",
       "    <tr>\n",
       "      <th>1123</th>\n",
       "      <td>Indicator Blocking</td>\n",
       "      <td>Windows Registry</td>\n",
       "    </tr>\n",
       "    <tr>\n",
       "      <th>2627</th>\n",
       "      <td>Modify Authentication Process</td>\n",
       "      <td>Windows Registry</td>\n",
       "    </tr>\n",
       "    <tr>\n",
       "      <th>1264</th>\n",
       "      <td>Local Data Staging</td>\n",
       "      <td>Windows Registry</td>\n",
       "    </tr>\n",
       "    <tr>\n",
       "      <th>1541</th>\n",
       "      <td>Path Interception by PATH Environment Variable</td>\n",
       "      <td>Windows Registry</td>\n",
       "    </tr>\n",
       "    <tr>\n",
       "      <th>1600</th>\n",
       "      <td>Hijack Execution Flow</td>\n",
       "      <td>Windows Registry</td>\n",
       "    </tr>\n",
       "    <tr>\n",
       "      <th>1734</th>\n",
       "      <td>System Services</td>\n",
       "      <td>Windows Registry</td>\n",
       "    </tr>\n",
       "    <tr>\n",
       "      <th>1981</th>\n",
       "      <td>Hide Artifacts</td>\n",
       "      <td>Windows Registry</td>\n",
       "    </tr>\n",
       "    <tr>\n",
       "      <th>2113</th>\n",
       "      <td>Install Root Certificate</td>\n",
       "      <td>Windows Registry</td>\n",
       "    </tr>\n",
       "    <tr>\n",
       "      <th>2123</th>\n",
       "      <td>Disable or Modify System Firewall</td>\n",
       "      <td>Windows Registry</td>\n",
       "    </tr>\n",
       "    <tr>\n",
       "      <th>2158</th>\n",
       "      <td>Disable or Modify Tools</td>\n",
       "      <td>Windows Registry</td>\n",
       "    </tr>\n",
       "    <tr>\n",
       "      <th>2223</th>\n",
       "      <td>Impair Defenses</td>\n",
       "      <td>Windows Registry</td>\n",
       "    </tr>\n",
       "    <tr>\n",
       "      <th>1474</th>\n",
       "      <td>Hidden Users</td>\n",
       "      <td>Windows Registry</td>\n",
       "    </tr>\n",
       "    <tr>\n",
       "      <th>6105</th>\n",
       "      <td>OS Credential Dumping</td>\n",
       "      <td>Windows Registry</td>\n",
       "    </tr>\n",
       "  </tbody>\n",
       "</table>\n",
       "</div>"
      ],
      "text/plain": [
       "                                              technique      data_sources\n",
       "5970                                    Remote Services               WMI\n",
       "5934                    Obfuscated Files or Information               WMI\n",
       "3746                          Event Triggered Execution               WMI\n",
       "3173                              Unsecured Credentials  Windows Registry\n",
       "3363                  Abuse Elevation Control Mechanism  Windows Registry\n",
       "3693                  Boot or Logon Autostart Execution  Windows Registry\n",
       "3749                          Event Triggered Execution  Windows Registry\n",
       "3977                    Create or Modify System Process  Windows Registry\n",
       "4494                            Inhibit System Recovery  Windows Registry\n",
       "4533                                       Service Stop  Windows Registry\n",
       "188                             Device Driver Discovery  Windows Registry\n",
       "4885                                 Browser Extensions  Windows Registry\n",
       "5083           Multi-Factor Authentication Interception  Windows Registry\n",
       "5426                                        Data Staged  Windows Registry\n",
       "5461                                  Indicator Removal  Windows Registry\n",
       "5603                                      Input Capture  Windows Registry\n",
       "5840               Boot or Logon Initialization Scripts  Windows Registry\n",
       "5905                        System Owner/User Discovery  Windows Registry\n",
       "5936                    Obfuscated Files or Information  Windows Registry\n",
       "3084                             Subvert Trust Controls  Windows Registry\n",
       "4680                      System Binary Proxy Execution  Windows Registry\n",
       "2872                                         Keylogging  Windows Registry\n",
       "2558                            Adversary-in-the-Middle  Windows Registry\n",
       "362          Steal or Forge Authentication Certificates  Windows Registry\n",
       "381                                   Clear Persistence  Windows Registry\n",
       "420   Clear Network Connection History and Configura...  Windows Registry\n",
       "676                           System Language Discovery  Windows Registry\n",
       "716                    Code Signing Policy Modification  Windows Registry\n",
       "1018                               Run Virtual Instance  Windows Registry\n",
       "1033                                 Hidden File System  Windows Registry\n",
       "1123                                 Indicator Blocking  Windows Registry\n",
       "2627                      Modify Authentication Process  Windows Registry\n",
       "1264                                 Local Data Staging  Windows Registry\n",
       "1541     Path Interception by PATH Environment Variable  Windows Registry\n",
       "1600                              Hijack Execution Flow  Windows Registry\n",
       "1734                                    System Services  Windows Registry\n",
       "1981                                     Hide Artifacts  Windows Registry\n",
       "2113                           Install Root Certificate  Windows Registry\n",
       "2123                  Disable or Modify System Firewall  Windows Registry\n",
       "2158                            Disable or Modify Tools  Windows Registry\n",
       "2223                                    Impair Defenses  Windows Registry\n",
       "1474                                       Hidden Users  Windows Registry\n",
       "6105                              OS Credential Dumping  Windows Registry"
      ]
     },
     "execution_count": 75,
     "metadata": {},
     "output_type": "execute_result"
    }
   ],
   "source": [
    "techniques_analysis_data_no_ok[['technique','data_sources']].drop_duplicates().sort_values(by='data_sources',ascending=True)"
   ]
  },
  {
   "cell_type": "markdown",
   "metadata": {},
   "source": [
    "Without considering this inconsistent data, the final dataframe is:"
   ]
  },
  {
   "cell_type": "code",
   "execution_count": 76,
   "metadata": {},
   "outputs": [
    {
     "data": {
      "text/html": [
       "<div>\n",
       "<style scoped>\n",
       "    .dataframe tbody tr th:only-of-type {\n",
       "        vertical-align: middle;\n",
       "    }\n",
       "\n",
       "    .dataframe tbody tr th {\n",
       "        vertical-align: top;\n",
       "    }\n",
       "\n",
       "    .dataframe thead th {\n",
       "        text-align: right;\n",
       "    }\n",
       "</style>\n",
       "<table border=\"1\" class=\"dataframe\">\n",
       "  <thead>\n",
       "    <tr style=\"text-align: right;\">\n",
       "      <th></th>\n",
       "      <th>domain</th>\n",
       "      <th>platform</th>\n",
       "      <th>tactic</th>\n",
       "      <th>technique</th>\n",
       "      <th>technique_id</th>\n",
       "      <th>data_sources</th>\n",
       "      <th>Validation</th>\n",
       "    </tr>\n",
       "  </thead>\n",
       "  <tbody>\n",
       "    <tr>\n",
       "      <th>0</th>\n",
       "      <td>enterprise-attack</td>\n",
       "      <td>Windows</td>\n",
       "      <td>{'kill_chain_name': 'mitre-attack', 'phase_nam...</td>\n",
       "      <td>AutoHotKey &amp; AutoIT</td>\n",
       "      <td>T1059.010</td>\n",
       "      <td>Process</td>\n",
       "      <td>OK</td>\n",
       "    </tr>\n",
       "    <tr>\n",
       "      <th>1</th>\n",
       "      <td>enterprise-attack</td>\n",
       "      <td>Windows</td>\n",
       "      <td>{'kill_chain_name': 'mitre-attack', 'phase_nam...</td>\n",
       "      <td>AutoHotKey &amp; AutoIT</td>\n",
       "      <td>T1059.010</td>\n",
       "      <td>Command</td>\n",
       "      <td>OK</td>\n",
       "    </tr>\n",
       "    <tr>\n",
       "      <th>2</th>\n",
       "      <td>enterprise-attack</td>\n",
       "      <td>Linux</td>\n",
       "      <td>{'kill_chain_name': 'mitre-attack', 'phase_nam...</td>\n",
       "      <td>File/Path Exclusions</td>\n",
       "      <td>T1564.012</td>\n",
       "      <td>File</td>\n",
       "      <td>OK</td>\n",
       "    </tr>\n",
       "    <tr>\n",
       "      <th>3</th>\n",
       "      <td>enterprise-attack</td>\n",
       "      <td>macOS</td>\n",
       "      <td>{'kill_chain_name': 'mitre-attack', 'phase_nam...</td>\n",
       "      <td>File/Path Exclusions</td>\n",
       "      <td>T1564.012</td>\n",
       "      <td>File</td>\n",
       "      <td>OK</td>\n",
       "    </tr>\n",
       "    <tr>\n",
       "      <th>4</th>\n",
       "      <td>enterprise-attack</td>\n",
       "      <td>Windows</td>\n",
       "      <td>{'kill_chain_name': 'mitre-attack', 'phase_nam...</td>\n",
       "      <td>File/Path Exclusions</td>\n",
       "      <td>T1564.012</td>\n",
       "      <td>File</td>\n",
       "      <td>OK</td>\n",
       "    </tr>\n",
       "  </tbody>\n",
       "</table>\n",
       "</div>"
      ],
      "text/plain": [
       "              domain platform  \\\n",
       "0  enterprise-attack  Windows   \n",
       "1  enterprise-attack  Windows   \n",
       "2  enterprise-attack    Linux   \n",
       "3  enterprise-attack    macOS   \n",
       "4  enterprise-attack  Windows   \n",
       "\n",
       "                                              tactic             technique  \\\n",
       "0  {'kill_chain_name': 'mitre-attack', 'phase_nam...   AutoHotKey & AutoIT   \n",
       "1  {'kill_chain_name': 'mitre-attack', 'phase_nam...   AutoHotKey & AutoIT   \n",
       "2  {'kill_chain_name': 'mitre-attack', 'phase_nam...  File/Path Exclusions   \n",
       "3  {'kill_chain_name': 'mitre-attack', 'phase_nam...  File/Path Exclusions   \n",
       "4  {'kill_chain_name': 'mitre-attack', 'phase_nam...  File/Path Exclusions   \n",
       "\n",
       "  technique_id data_sources Validation  \n",
       "0    T1059.010      Process         OK  \n",
       "1    T1059.010      Command         OK  \n",
       "2    T1564.012         File         OK  \n",
       "3    T1564.012         File         OK  \n",
       "4    T1564.012         File         OK  "
      ]
     },
     "execution_count": 76,
     "metadata": {},
     "output_type": "execute_result"
    }
   ],
   "source": [
    "techniques_analysis_data_ok = techniques_data_3[techniques_data_3.Validation == 'OK']\n",
    "techniques_analysis_data_ok.head()"
   ]
  },
  {
   "cell_type": "code",
   "execution_count": 77,
   "metadata": {},
   "outputs": [
    {
     "name": "stdout",
     "output_type": "stream",
     "text": [
      "There are  6229  rows of data that you can play with\n"
     ]
    }
   ],
   "source": [
    "print('There are ',len(techniques_analysis_data_ok),' rows of data that you can play with')"
   ]
  },
  {
   "cell_type": "markdown",
   "metadata": {},
   "source": [
    "## Getting Techniques by Data Sources"
   ]
  },
  {
   "cell_type": "markdown",
   "metadata": {},
   "source": [
    "This function gets techniques' information that includes specific data sources"
   ]
  },
  {
   "cell_type": "code",
   "execution_count": 78,
   "metadata": {},
   "outputs": [],
   "source": [
    "data_source = 'PROCESS'"
   ]
  },
  {
   "cell_type": "code",
   "execution_count": 79,
   "metadata": {},
   "outputs": [],
   "source": [
    "results = lift.get_techniques_by_data_sources(data_source)"
   ]
  },
  {
   "cell_type": "code",
   "execution_count": 80,
   "metadata": {},
   "outputs": [
    {
     "data": {
      "text/plain": [
       "326"
      ]
     },
     "execution_count": 80,
     "metadata": {},
     "output_type": "execute_result"
    }
   ],
   "source": [
    "len(results)"
   ]
  },
  {
   "cell_type": "code",
   "execution_count": 81,
   "metadata": {},
   "outputs": [
    {
     "data": {
      "text/plain": [
       "list"
      ]
     },
     "execution_count": 81,
     "metadata": {},
     "output_type": "execute_result"
    }
   ],
   "source": [
    "type(results)"
   ]
  },
  {
   "cell_type": "code",
   "execution_count": 82,
   "metadata": {},
   "outputs": [],
   "source": [
    "results2 = lift.get_techniques_by_data_sources('pRoceSS','commAnd')"
   ]
  },
  {
   "cell_type": "code",
   "execution_count": 83,
   "metadata": {},
   "outputs": [
    {
     "data": {
      "text/plain": [
       "390"
      ]
     },
     "execution_count": 83,
     "metadata": {},
     "output_type": "execute_result"
    }
   ],
   "source": [
    "len(results2)"
   ]
  },
  {
   "cell_type": "code",
   "execution_count": 84,
   "metadata": {},
   "outputs": [
    {
     "data": {
      "text/plain": [
       "AttackPattern(type='attack-pattern', id='attack-pattern--356662f7-e315-4759-86c9-6214e2a50ff8', created_by_ref='identity--c78cb6e5-0c4b-4611-8297-d1b8b55e40b5', created='2024-03-28T15:36:34.141Z', modified='2024-04-18T15:03:32.158Z', name='AppDomainManager', description='Adversaries may execute their own malicious payloads by hijacking how the .NET `AppDomainManager` loads assemblies. The .NET framework uses the `AppDomainManager` class to create and manage one or more isolated runtime environments (called application domains) inside a process to host the execution of .NET applications. Assemblies (`.exe` or `.dll` binaries compiled to run as .NET code) may be loaded into an application domain as executable code.(Citation: Microsoft App Domains) \\n\\nKnown as \"AppDomainManager injection,\" adversaries may execute arbitrary code by hijacking how .NET applications load assemblies. For example, malware may create a custom application domain inside a target process to load and execute an arbitrary assembly. Alternatively, configuration files (`.config`) or process environment variables that define .NET runtime settings may be tampered with to instruct otherwise benign .NET applications to load a malicious assembly (identified by name) into the target process.(Citation: PenTestLabs AppDomainManagerInject)(Citation: PwC Yellow Liderc)(Citation: Rapid7 AppDomain Manager Injection)', kill_chain_phases=[KillChainPhase(kill_chain_name='mitre-attack', phase_name='persistence'), KillChainPhase(kill_chain_name='mitre-attack', phase_name='privilege-escalation'), KillChainPhase(kill_chain_name='mitre-attack', phase_name='defense-evasion')], revoked=False, external_references=[ExternalReference(source_name='mitre-attack', url='https://attack.mitre.org/techniques/T1574/014', external_id='T1574.014'), ExternalReference(source_name='PenTestLabs AppDomainManagerInject', description='Administrator. (2020, May 26). APPDOMAINMANAGER INJECTION AND DETECTION. Retrieved March 28, 2024.', url='https://pentestlaboratories.com/2020/05/26/appdomainmanager-injection-and-detection/'), ExternalReference(source_name='Microsoft App Domains', description='Microsoft. (2021, September 15). Application domains. Retrieved March 28, 2024.', url='https://learn.microsoft.com/dotnet/framework/app-domains/application-domains'), ExternalReference(source_name='PwC Yellow Liderc', description='PwC Threat Intelligence. (2023, October 25). Yellow Liderc ships its scripts and delivers IMAPLoader malware. Retrieved March 29, 2024.', url='https://www.pwc.com/gx/en/issues/cybersecurity/cyber-threat-intelligence/yellow-liderc-ships-its-scripts-delivers-imaploader-malware.html'), ExternalReference(source_name='Rapid7 AppDomain Manager Injection', description='Spagnola, N. (2023, May 5). AppDomain Manager Injection: New Techniques For Red Teams. Retrieved March 29, 2024.', url='https://www.rapid7.com/blog/post/2023/05/05/appdomain-manager-injection-new-techniques-for-red-teams/')], object_marking_refs=['marking-definition--fa42a846-8d90-4e51-bc29-71d5b4802168'], x_mitre_attack_spec_version='3.2.0', x_mitre_contributors=['Thomas B', 'Ivy Bostock'], x_mitre_data_sources=['Module: Module Load', 'File: File Creation', 'Process: Process Creation'], x_mitre_deprecated=False, x_mitre_detection='', x_mitre_domains=['enterprise-attack'], x_mitre_is_subtechnique=True, x_mitre_modified_by_ref='identity--c78cb6e5-0c4b-4611-8297-d1b8b55e40b5', x_mitre_platforms=['Windows'], x_mitre_version='1.0')"
      ]
     },
     "execution_count": 84,
     "metadata": {},
     "output_type": "execute_result"
    }
   ],
   "source": [
    "results2[1]"
   ]
  }
 ],
 "metadata": {
  "kernelspec": {
   "display_name": "Python 3",
   "language": "python",
   "name": "python3"
  },
  "language_info": {
   "codemirror_mode": {
    "name": "ipython",
    "version": 3
   },
   "file_extension": ".py",
   "mimetype": "text/x-python",
   "name": "python",
   "nbconvert_exporter": "python",
   "pygments_lexer": "ipython3",
   "version": "3.12.1"
  }
 },
 "nbformat": 4,
 "nbformat_minor": 4
}
